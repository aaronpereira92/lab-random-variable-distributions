{
 "cells": [
  {
   "cell_type": "code",
   "execution_count": 1,
   "id": "1818f26d",
   "metadata": {},
   "outputs": [],
   "source": [
    "import pandas as pd\n",
    "import seaborn as sns\n",
    "import matplotlib.pyplot as plt\n",
    "%matplotlib inline\n",
    "import numpy as np"
   ]
  },
  {
   "cell_type": "markdown",
   "id": "2f9dcc8a",
   "metadata": {},
   "source": [
    "# This lab is a continuation of the previous lab. So to see the solutions of this lab please scroll down."
   ]
  },
  {
   "cell_type": "markdown",
   "id": "d5b83432",
   "metadata": {},
   "source": [
    "**1. Import the necessary libraries if you are starting a new notebook. Using the same data as the previous lab: we_fn_use_c_marketing_customer_value_analysis.csv**\n",
    "\n",
    "**2. Find all of the categorical data. Save it in a categorical_df variable.**"
   ]
  },
  {
   "cell_type": "code",
   "execution_count": 2,
   "id": "b9a39112",
   "metadata": {},
   "outputs": [],
   "source": [
    "customer_df = pd.read_csv('we_fn_use_c_marketing_customer_value_analysis.csv')"
   ]
  },
  {
   "cell_type": "code",
   "execution_count": 3,
   "id": "c666e50e",
   "metadata": {},
   "outputs": [
    {
     "data": {
      "text/html": [
       "<div>\n",
       "<style scoped>\n",
       "    .dataframe tbody tr th:only-of-type {\n",
       "        vertical-align: middle;\n",
       "    }\n",
       "\n",
       "    .dataframe tbody tr th {\n",
       "        vertical-align: top;\n",
       "    }\n",
       "\n",
       "    .dataframe thead th {\n",
       "        text-align: right;\n",
       "    }\n",
       "</style>\n",
       "<table border=\"1\" class=\"dataframe\">\n",
       "  <thead>\n",
       "    <tr style=\"text-align: right;\">\n",
       "      <th></th>\n",
       "      <th>Customer</th>\n",
       "      <th>State</th>\n",
       "      <th>Customer Lifetime Value</th>\n",
       "      <th>Response</th>\n",
       "      <th>Coverage</th>\n",
       "      <th>Education</th>\n",
       "      <th>Effective To Date</th>\n",
       "      <th>EmploymentStatus</th>\n",
       "      <th>Gender</th>\n",
       "      <th>Income</th>\n",
       "      <th>...</th>\n",
       "      <th>Months Since Policy Inception</th>\n",
       "      <th>Number of Open Complaints</th>\n",
       "      <th>Number of Policies</th>\n",
       "      <th>Policy Type</th>\n",
       "      <th>Policy</th>\n",
       "      <th>Renew Offer Type</th>\n",
       "      <th>Sales Channel</th>\n",
       "      <th>Total Claim Amount</th>\n",
       "      <th>Vehicle Class</th>\n",
       "      <th>Vehicle Size</th>\n",
       "    </tr>\n",
       "  </thead>\n",
       "  <tbody>\n",
       "    <tr>\n",
       "      <th>0</th>\n",
       "      <td>BU79786</td>\n",
       "      <td>Washington</td>\n",
       "      <td>2763.519279</td>\n",
       "      <td>No</td>\n",
       "      <td>Basic</td>\n",
       "      <td>Bachelor</td>\n",
       "      <td>2/24/11</td>\n",
       "      <td>Employed</td>\n",
       "      <td>F</td>\n",
       "      <td>56274</td>\n",
       "      <td>...</td>\n",
       "      <td>5</td>\n",
       "      <td>0</td>\n",
       "      <td>1</td>\n",
       "      <td>Corporate Auto</td>\n",
       "      <td>Corporate L3</td>\n",
       "      <td>Offer1</td>\n",
       "      <td>Agent</td>\n",
       "      <td>384.811147</td>\n",
       "      <td>Two-Door Car</td>\n",
       "      <td>Medsize</td>\n",
       "    </tr>\n",
       "    <tr>\n",
       "      <th>1</th>\n",
       "      <td>QZ44356</td>\n",
       "      <td>Arizona</td>\n",
       "      <td>6979.535903</td>\n",
       "      <td>No</td>\n",
       "      <td>Extended</td>\n",
       "      <td>Bachelor</td>\n",
       "      <td>1/31/11</td>\n",
       "      <td>Unemployed</td>\n",
       "      <td>F</td>\n",
       "      <td>0</td>\n",
       "      <td>...</td>\n",
       "      <td>42</td>\n",
       "      <td>0</td>\n",
       "      <td>8</td>\n",
       "      <td>Personal Auto</td>\n",
       "      <td>Personal L3</td>\n",
       "      <td>Offer3</td>\n",
       "      <td>Agent</td>\n",
       "      <td>1131.464935</td>\n",
       "      <td>Four-Door Car</td>\n",
       "      <td>Medsize</td>\n",
       "    </tr>\n",
       "    <tr>\n",
       "      <th>2</th>\n",
       "      <td>AI49188</td>\n",
       "      <td>Nevada</td>\n",
       "      <td>12887.431650</td>\n",
       "      <td>No</td>\n",
       "      <td>Premium</td>\n",
       "      <td>Bachelor</td>\n",
       "      <td>2/19/11</td>\n",
       "      <td>Employed</td>\n",
       "      <td>F</td>\n",
       "      <td>48767</td>\n",
       "      <td>...</td>\n",
       "      <td>38</td>\n",
       "      <td>0</td>\n",
       "      <td>2</td>\n",
       "      <td>Personal Auto</td>\n",
       "      <td>Personal L3</td>\n",
       "      <td>Offer1</td>\n",
       "      <td>Agent</td>\n",
       "      <td>566.472247</td>\n",
       "      <td>Two-Door Car</td>\n",
       "      <td>Medsize</td>\n",
       "    </tr>\n",
       "    <tr>\n",
       "      <th>3</th>\n",
       "      <td>WW63253</td>\n",
       "      <td>California</td>\n",
       "      <td>7645.861827</td>\n",
       "      <td>No</td>\n",
       "      <td>Basic</td>\n",
       "      <td>Bachelor</td>\n",
       "      <td>1/20/11</td>\n",
       "      <td>Unemployed</td>\n",
       "      <td>M</td>\n",
       "      <td>0</td>\n",
       "      <td>...</td>\n",
       "      <td>65</td>\n",
       "      <td>0</td>\n",
       "      <td>7</td>\n",
       "      <td>Corporate Auto</td>\n",
       "      <td>Corporate L2</td>\n",
       "      <td>Offer1</td>\n",
       "      <td>Call Center</td>\n",
       "      <td>529.881344</td>\n",
       "      <td>SUV</td>\n",
       "      <td>Medsize</td>\n",
       "    </tr>\n",
       "    <tr>\n",
       "      <th>4</th>\n",
       "      <td>HB64268</td>\n",
       "      <td>Washington</td>\n",
       "      <td>2813.692575</td>\n",
       "      <td>No</td>\n",
       "      <td>Basic</td>\n",
       "      <td>Bachelor</td>\n",
       "      <td>2/3/11</td>\n",
       "      <td>Employed</td>\n",
       "      <td>M</td>\n",
       "      <td>43836</td>\n",
       "      <td>...</td>\n",
       "      <td>44</td>\n",
       "      <td>0</td>\n",
       "      <td>1</td>\n",
       "      <td>Personal Auto</td>\n",
       "      <td>Personal L1</td>\n",
       "      <td>Offer1</td>\n",
       "      <td>Agent</td>\n",
       "      <td>138.130879</td>\n",
       "      <td>Four-Door Car</td>\n",
       "      <td>Medsize</td>\n",
       "    </tr>\n",
       "  </tbody>\n",
       "</table>\n",
       "<p>5 rows × 24 columns</p>\n",
       "</div>"
      ],
      "text/plain": [
       "  Customer       State  Customer Lifetime Value Response  Coverage Education  \\\n",
       "0  BU79786  Washington              2763.519279       No     Basic  Bachelor   \n",
       "1  QZ44356     Arizona              6979.535903       No  Extended  Bachelor   \n",
       "2  AI49188      Nevada             12887.431650       No   Premium  Bachelor   \n",
       "3  WW63253  California              7645.861827       No     Basic  Bachelor   \n",
       "4  HB64268  Washington              2813.692575       No     Basic  Bachelor   \n",
       "\n",
       "  Effective To Date EmploymentStatus Gender  Income  ...  \\\n",
       "0           2/24/11         Employed      F   56274  ...   \n",
       "1           1/31/11       Unemployed      F       0  ...   \n",
       "2           2/19/11         Employed      F   48767  ...   \n",
       "3           1/20/11       Unemployed      M       0  ...   \n",
       "4            2/3/11         Employed      M   43836  ...   \n",
       "\n",
       "  Months Since Policy Inception Number of Open Complaints  Number of Policies  \\\n",
       "0                             5                         0                   1   \n",
       "1                            42                         0                   8   \n",
       "2                            38                         0                   2   \n",
       "3                            65                         0                   7   \n",
       "4                            44                         0                   1   \n",
       "\n",
       "      Policy Type        Policy  Renew Offer Type  Sales Channel  \\\n",
       "0  Corporate Auto  Corporate L3            Offer1          Agent   \n",
       "1   Personal Auto   Personal L3            Offer3          Agent   \n",
       "2   Personal Auto   Personal L3            Offer1          Agent   \n",
       "3  Corporate Auto  Corporate L2            Offer1    Call Center   \n",
       "4   Personal Auto   Personal L1            Offer1          Agent   \n",
       "\n",
       "  Total Claim Amount  Vehicle Class Vehicle Size  \n",
       "0         384.811147   Two-Door Car      Medsize  \n",
       "1        1131.464935  Four-Door Car      Medsize  \n",
       "2         566.472247   Two-Door Car      Medsize  \n",
       "3         529.881344            SUV      Medsize  \n",
       "4         138.130879  Four-Door Car      Medsize  \n",
       "\n",
       "[5 rows x 24 columns]"
      ]
     },
     "execution_count": 3,
     "metadata": {},
     "output_type": "execute_result"
    }
   ],
   "source": [
    "customer_df.head()"
   ]
  },
  {
   "cell_type": "code",
   "execution_count": 4,
   "id": "fbdcafe8",
   "metadata": {},
   "outputs": [],
   "source": [
    "#Define a function that will rename columns to PE8 style\n",
    "\n",
    "def rename_columns(df):\n",
    "    df2 = df.copy()#making a copy just to be safe\n",
    "    df2.columns = df.columns.str.replace(\" \", \"_\")\n",
    "    df2 = df2.rename(columns=str.lower)\n",
    "    return df2"
   ]
  },
  {
   "cell_type": "code",
   "execution_count": 5,
   "id": "820150d6",
   "metadata": {},
   "outputs": [
    {
     "data": {
      "text/html": [
       "<div>\n",
       "<style scoped>\n",
       "    .dataframe tbody tr th:only-of-type {\n",
       "        vertical-align: middle;\n",
       "    }\n",
       "\n",
       "    .dataframe tbody tr th {\n",
       "        vertical-align: top;\n",
       "    }\n",
       "\n",
       "    .dataframe thead th {\n",
       "        text-align: right;\n",
       "    }\n",
       "</style>\n",
       "<table border=\"1\" class=\"dataframe\">\n",
       "  <thead>\n",
       "    <tr style=\"text-align: right;\">\n",
       "      <th></th>\n",
       "      <th>customer</th>\n",
       "      <th>state</th>\n",
       "      <th>customer_lifetime_value</th>\n",
       "      <th>response</th>\n",
       "      <th>coverage</th>\n",
       "      <th>education</th>\n",
       "      <th>effective_to_date</th>\n",
       "      <th>employmentstatus</th>\n",
       "      <th>gender</th>\n",
       "      <th>income</th>\n",
       "      <th>...</th>\n",
       "      <th>months_since_policy_inception</th>\n",
       "      <th>number_of_open_complaints</th>\n",
       "      <th>number_of_policies</th>\n",
       "      <th>policy_type</th>\n",
       "      <th>policy</th>\n",
       "      <th>renew_offer_type</th>\n",
       "      <th>sales_channel</th>\n",
       "      <th>total_claim_amount</th>\n",
       "      <th>vehicle_class</th>\n",
       "      <th>vehicle_size</th>\n",
       "    </tr>\n",
       "  </thead>\n",
       "  <tbody>\n",
       "    <tr>\n",
       "      <th>0</th>\n",
       "      <td>BU79786</td>\n",
       "      <td>Washington</td>\n",
       "      <td>2763.519279</td>\n",
       "      <td>No</td>\n",
       "      <td>Basic</td>\n",
       "      <td>Bachelor</td>\n",
       "      <td>2/24/11</td>\n",
       "      <td>Employed</td>\n",
       "      <td>F</td>\n",
       "      <td>56274</td>\n",
       "      <td>...</td>\n",
       "      <td>5</td>\n",
       "      <td>0</td>\n",
       "      <td>1</td>\n",
       "      <td>Corporate Auto</td>\n",
       "      <td>Corporate L3</td>\n",
       "      <td>Offer1</td>\n",
       "      <td>Agent</td>\n",
       "      <td>384.811147</td>\n",
       "      <td>Two-Door Car</td>\n",
       "      <td>Medsize</td>\n",
       "    </tr>\n",
       "    <tr>\n",
       "      <th>1</th>\n",
       "      <td>QZ44356</td>\n",
       "      <td>Arizona</td>\n",
       "      <td>6979.535903</td>\n",
       "      <td>No</td>\n",
       "      <td>Extended</td>\n",
       "      <td>Bachelor</td>\n",
       "      <td>1/31/11</td>\n",
       "      <td>Unemployed</td>\n",
       "      <td>F</td>\n",
       "      <td>0</td>\n",
       "      <td>...</td>\n",
       "      <td>42</td>\n",
       "      <td>0</td>\n",
       "      <td>8</td>\n",
       "      <td>Personal Auto</td>\n",
       "      <td>Personal L3</td>\n",
       "      <td>Offer3</td>\n",
       "      <td>Agent</td>\n",
       "      <td>1131.464935</td>\n",
       "      <td>Four-Door Car</td>\n",
       "      <td>Medsize</td>\n",
       "    </tr>\n",
       "    <tr>\n",
       "      <th>2</th>\n",
       "      <td>AI49188</td>\n",
       "      <td>Nevada</td>\n",
       "      <td>12887.431650</td>\n",
       "      <td>No</td>\n",
       "      <td>Premium</td>\n",
       "      <td>Bachelor</td>\n",
       "      <td>2/19/11</td>\n",
       "      <td>Employed</td>\n",
       "      <td>F</td>\n",
       "      <td>48767</td>\n",
       "      <td>...</td>\n",
       "      <td>38</td>\n",
       "      <td>0</td>\n",
       "      <td>2</td>\n",
       "      <td>Personal Auto</td>\n",
       "      <td>Personal L3</td>\n",
       "      <td>Offer1</td>\n",
       "      <td>Agent</td>\n",
       "      <td>566.472247</td>\n",
       "      <td>Two-Door Car</td>\n",
       "      <td>Medsize</td>\n",
       "    </tr>\n",
       "    <tr>\n",
       "      <th>3</th>\n",
       "      <td>WW63253</td>\n",
       "      <td>California</td>\n",
       "      <td>7645.861827</td>\n",
       "      <td>No</td>\n",
       "      <td>Basic</td>\n",
       "      <td>Bachelor</td>\n",
       "      <td>1/20/11</td>\n",
       "      <td>Unemployed</td>\n",
       "      <td>M</td>\n",
       "      <td>0</td>\n",
       "      <td>...</td>\n",
       "      <td>65</td>\n",
       "      <td>0</td>\n",
       "      <td>7</td>\n",
       "      <td>Corporate Auto</td>\n",
       "      <td>Corporate L2</td>\n",
       "      <td>Offer1</td>\n",
       "      <td>Call Center</td>\n",
       "      <td>529.881344</td>\n",
       "      <td>SUV</td>\n",
       "      <td>Medsize</td>\n",
       "    </tr>\n",
       "    <tr>\n",
       "      <th>4</th>\n",
       "      <td>HB64268</td>\n",
       "      <td>Washington</td>\n",
       "      <td>2813.692575</td>\n",
       "      <td>No</td>\n",
       "      <td>Basic</td>\n",
       "      <td>Bachelor</td>\n",
       "      <td>2/3/11</td>\n",
       "      <td>Employed</td>\n",
       "      <td>M</td>\n",
       "      <td>43836</td>\n",
       "      <td>...</td>\n",
       "      <td>44</td>\n",
       "      <td>0</td>\n",
       "      <td>1</td>\n",
       "      <td>Personal Auto</td>\n",
       "      <td>Personal L1</td>\n",
       "      <td>Offer1</td>\n",
       "      <td>Agent</td>\n",
       "      <td>138.130879</td>\n",
       "      <td>Four-Door Car</td>\n",
       "      <td>Medsize</td>\n",
       "    </tr>\n",
       "  </tbody>\n",
       "</table>\n",
       "<p>5 rows × 24 columns</p>\n",
       "</div>"
      ],
      "text/plain": [
       "  customer       state  customer_lifetime_value response  coverage education  \\\n",
       "0  BU79786  Washington              2763.519279       No     Basic  Bachelor   \n",
       "1  QZ44356     Arizona              6979.535903       No  Extended  Bachelor   \n",
       "2  AI49188      Nevada             12887.431650       No   Premium  Bachelor   \n",
       "3  WW63253  California              7645.861827       No     Basic  Bachelor   \n",
       "4  HB64268  Washington              2813.692575       No     Basic  Bachelor   \n",
       "\n",
       "  effective_to_date employmentstatus gender  income  ...  \\\n",
       "0           2/24/11         Employed      F   56274  ...   \n",
       "1           1/31/11       Unemployed      F       0  ...   \n",
       "2           2/19/11         Employed      F   48767  ...   \n",
       "3           1/20/11       Unemployed      M       0  ...   \n",
       "4            2/3/11         Employed      M   43836  ...   \n",
       "\n",
       "  months_since_policy_inception number_of_open_complaints  number_of_policies  \\\n",
       "0                             5                         0                   1   \n",
       "1                            42                         0                   8   \n",
       "2                            38                         0                   2   \n",
       "3                            65                         0                   7   \n",
       "4                            44                         0                   1   \n",
       "\n",
       "      policy_type        policy  renew_offer_type  sales_channel  \\\n",
       "0  Corporate Auto  Corporate L3            Offer1          Agent   \n",
       "1   Personal Auto   Personal L3            Offer3          Agent   \n",
       "2   Personal Auto   Personal L3            Offer1          Agent   \n",
       "3  Corporate Auto  Corporate L2            Offer1    Call Center   \n",
       "4   Personal Auto   Personal L1            Offer1          Agent   \n",
       "\n",
       "  total_claim_amount  vehicle_class vehicle_size  \n",
       "0         384.811147   Two-Door Car      Medsize  \n",
       "1        1131.464935  Four-Door Car      Medsize  \n",
       "2         566.472247   Two-Door Car      Medsize  \n",
       "3         529.881344            SUV      Medsize  \n",
       "4         138.130879  Four-Door Car      Medsize  \n",
       "\n",
       "[5 rows x 24 columns]"
      ]
     },
     "execution_count": 5,
     "metadata": {},
     "output_type": "execute_result"
    }
   ],
   "source": [
    "customer_df = rename_columns(customer_df)\n",
    "customer_df.head()"
   ]
  },
  {
   "cell_type": "code",
   "execution_count": 6,
   "id": "6e4c15d5",
   "metadata": {},
   "outputs": [],
   "source": [
    "#change the column effective_to_date to daetime format\n",
    "customer_df['effective_to_date'] =  pd.to_datetime(customer_df['effective_to_date'])"
   ]
  },
  {
   "cell_type": "code",
   "execution_count": 7,
   "id": "341bd74a",
   "metadata": {},
   "outputs": [
    {
     "data": {
      "text/plain": [
       "customer                         9134\n",
       "state                               5\n",
       "customer_lifetime_value          8041\n",
       "response                            2\n",
       "coverage                            3\n",
       "education                           5\n",
       "effective_to_date                  59\n",
       "employmentstatus                    5\n",
       "gender                              2\n",
       "income                           5694\n",
       "location_code                       3\n",
       "marital_status                      3\n",
       "monthly_premium_auto              202\n",
       "months_since_last_claim            36\n",
       "months_since_policy_inception     100\n",
       "number_of_open_complaints           6\n",
       "number_of_policies                  9\n",
       "policy_type                         3\n",
       "policy                              9\n",
       "renew_offer_type                    4\n",
       "sales_channel                       4\n",
       "total_claim_amount               5106\n",
       "vehicle_class                       6\n",
       "vehicle_size                        3\n",
       "dtype: int64"
      ]
     },
     "execution_count": 7,
     "metadata": {},
     "output_type": "execute_result"
    }
   ],
   "source": [
    "customer_df.nunique()"
   ]
  },
  {
   "cell_type": "code",
   "execution_count": 8,
   "id": "c059a23f",
   "metadata": {},
   "outputs": [
    {
     "data": {
      "text/plain": [
       "dtype('int64')"
      ]
     },
     "execution_count": 8,
     "metadata": {},
     "output_type": "execute_result"
    }
   ],
   "source": [
    "customer_df['months_since_last_claim'].dtypes"
   ]
  },
  {
   "cell_type": "code",
   "execution_count": 9,
   "id": "d416acb0",
   "metadata": {},
   "outputs": [],
   "source": [
    "#This function seperates the continuous and discrete variables\n",
    "def count_disc_splitter(df):\n",
    "    continuous_list = []\n",
    "    discrete_list = []\n",
    "    for col in df:\n",
    "        if df[col].nunique() > 35 and df[col].dtypes != 'O':#with this condition of != 'O', I am getting rid of customer column\n",
    "            continuous_list.append(col)\n",
    "            continuous = df[continuous_list]\n",
    "        elif df[col].nunique() <= 60:\n",
    "            discrete_list.append(col)\n",
    "            discrete = df[discrete_list]\n",
    "        else:\n",
    "            pass\n",
    "    return continuous, discrete"
   ]
  },
  {
   "cell_type": "code",
   "execution_count": 10,
   "id": "88902cf7",
   "metadata": {},
   "outputs": [],
   "source": [
    "numerical_df , categorical_df = count_disc_splitter(customer_df)"
   ]
  },
  {
   "cell_type": "code",
   "execution_count": 11,
   "id": "7cce8314",
   "metadata": {},
   "outputs": [
    {
     "data": {
      "text/html": [
       "<div>\n",
       "<style scoped>\n",
       "    .dataframe tbody tr th:only-of-type {\n",
       "        vertical-align: middle;\n",
       "    }\n",
       "\n",
       "    .dataframe tbody tr th {\n",
       "        vertical-align: top;\n",
       "    }\n",
       "\n",
       "    .dataframe thead th {\n",
       "        text-align: right;\n",
       "    }\n",
       "</style>\n",
       "<table border=\"1\" class=\"dataframe\">\n",
       "  <thead>\n",
       "    <tr style=\"text-align: right;\">\n",
       "      <th></th>\n",
       "      <th>state</th>\n",
       "      <th>response</th>\n",
       "      <th>coverage</th>\n",
       "      <th>education</th>\n",
       "      <th>employmentstatus</th>\n",
       "      <th>gender</th>\n",
       "      <th>location_code</th>\n",
       "      <th>marital_status</th>\n",
       "      <th>number_of_open_complaints</th>\n",
       "      <th>number_of_policies</th>\n",
       "      <th>policy_type</th>\n",
       "      <th>policy</th>\n",
       "      <th>renew_offer_type</th>\n",
       "      <th>sales_channel</th>\n",
       "      <th>vehicle_class</th>\n",
       "      <th>vehicle_size</th>\n",
       "    </tr>\n",
       "  </thead>\n",
       "  <tbody>\n",
       "    <tr>\n",
       "      <th>0</th>\n",
       "      <td>Washington</td>\n",
       "      <td>No</td>\n",
       "      <td>Basic</td>\n",
       "      <td>Bachelor</td>\n",
       "      <td>Employed</td>\n",
       "      <td>F</td>\n",
       "      <td>Suburban</td>\n",
       "      <td>Married</td>\n",
       "      <td>0</td>\n",
       "      <td>1</td>\n",
       "      <td>Corporate Auto</td>\n",
       "      <td>Corporate L3</td>\n",
       "      <td>Offer1</td>\n",
       "      <td>Agent</td>\n",
       "      <td>Two-Door Car</td>\n",
       "      <td>Medsize</td>\n",
       "    </tr>\n",
       "    <tr>\n",
       "      <th>1</th>\n",
       "      <td>Arizona</td>\n",
       "      <td>No</td>\n",
       "      <td>Extended</td>\n",
       "      <td>Bachelor</td>\n",
       "      <td>Unemployed</td>\n",
       "      <td>F</td>\n",
       "      <td>Suburban</td>\n",
       "      <td>Single</td>\n",
       "      <td>0</td>\n",
       "      <td>8</td>\n",
       "      <td>Personal Auto</td>\n",
       "      <td>Personal L3</td>\n",
       "      <td>Offer3</td>\n",
       "      <td>Agent</td>\n",
       "      <td>Four-Door Car</td>\n",
       "      <td>Medsize</td>\n",
       "    </tr>\n",
       "    <tr>\n",
       "      <th>2</th>\n",
       "      <td>Nevada</td>\n",
       "      <td>No</td>\n",
       "      <td>Premium</td>\n",
       "      <td>Bachelor</td>\n",
       "      <td>Employed</td>\n",
       "      <td>F</td>\n",
       "      <td>Suburban</td>\n",
       "      <td>Married</td>\n",
       "      <td>0</td>\n",
       "      <td>2</td>\n",
       "      <td>Personal Auto</td>\n",
       "      <td>Personal L3</td>\n",
       "      <td>Offer1</td>\n",
       "      <td>Agent</td>\n",
       "      <td>Two-Door Car</td>\n",
       "      <td>Medsize</td>\n",
       "    </tr>\n",
       "    <tr>\n",
       "      <th>3</th>\n",
       "      <td>California</td>\n",
       "      <td>No</td>\n",
       "      <td>Basic</td>\n",
       "      <td>Bachelor</td>\n",
       "      <td>Unemployed</td>\n",
       "      <td>M</td>\n",
       "      <td>Suburban</td>\n",
       "      <td>Married</td>\n",
       "      <td>0</td>\n",
       "      <td>7</td>\n",
       "      <td>Corporate Auto</td>\n",
       "      <td>Corporate L2</td>\n",
       "      <td>Offer1</td>\n",
       "      <td>Call Center</td>\n",
       "      <td>SUV</td>\n",
       "      <td>Medsize</td>\n",
       "    </tr>\n",
       "    <tr>\n",
       "      <th>4</th>\n",
       "      <td>Washington</td>\n",
       "      <td>No</td>\n",
       "      <td>Basic</td>\n",
       "      <td>Bachelor</td>\n",
       "      <td>Employed</td>\n",
       "      <td>M</td>\n",
       "      <td>Rural</td>\n",
       "      <td>Single</td>\n",
       "      <td>0</td>\n",
       "      <td>1</td>\n",
       "      <td>Personal Auto</td>\n",
       "      <td>Personal L1</td>\n",
       "      <td>Offer1</td>\n",
       "      <td>Agent</td>\n",
       "      <td>Four-Door Car</td>\n",
       "      <td>Medsize</td>\n",
       "    </tr>\n",
       "    <tr>\n",
       "      <th>...</th>\n",
       "      <td>...</td>\n",
       "      <td>...</td>\n",
       "      <td>...</td>\n",
       "      <td>...</td>\n",
       "      <td>...</td>\n",
       "      <td>...</td>\n",
       "      <td>...</td>\n",
       "      <td>...</td>\n",
       "      <td>...</td>\n",
       "      <td>...</td>\n",
       "      <td>...</td>\n",
       "      <td>...</td>\n",
       "      <td>...</td>\n",
       "      <td>...</td>\n",
       "      <td>...</td>\n",
       "      <td>...</td>\n",
       "    </tr>\n",
       "    <tr>\n",
       "      <th>9129</th>\n",
       "      <td>California</td>\n",
       "      <td>No</td>\n",
       "      <td>Basic</td>\n",
       "      <td>Bachelor</td>\n",
       "      <td>Employed</td>\n",
       "      <td>M</td>\n",
       "      <td>Urban</td>\n",
       "      <td>Married</td>\n",
       "      <td>0</td>\n",
       "      <td>2</td>\n",
       "      <td>Personal Auto</td>\n",
       "      <td>Personal L1</td>\n",
       "      <td>Offer2</td>\n",
       "      <td>Web</td>\n",
       "      <td>Four-Door Car</td>\n",
       "      <td>Medsize</td>\n",
       "    </tr>\n",
       "    <tr>\n",
       "      <th>9130</th>\n",
       "      <td>California</td>\n",
       "      <td>Yes</td>\n",
       "      <td>Extended</td>\n",
       "      <td>College</td>\n",
       "      <td>Employed</td>\n",
       "      <td>F</td>\n",
       "      <td>Suburban</td>\n",
       "      <td>Divorced</td>\n",
       "      <td>0</td>\n",
       "      <td>1</td>\n",
       "      <td>Corporate Auto</td>\n",
       "      <td>Corporate L3</td>\n",
       "      <td>Offer1</td>\n",
       "      <td>Branch</td>\n",
       "      <td>Four-Door Car</td>\n",
       "      <td>Medsize</td>\n",
       "    </tr>\n",
       "    <tr>\n",
       "      <th>9131</th>\n",
       "      <td>California</td>\n",
       "      <td>No</td>\n",
       "      <td>Extended</td>\n",
       "      <td>Bachelor</td>\n",
       "      <td>Unemployed</td>\n",
       "      <td>M</td>\n",
       "      <td>Suburban</td>\n",
       "      <td>Single</td>\n",
       "      <td>3</td>\n",
       "      <td>2</td>\n",
       "      <td>Corporate Auto</td>\n",
       "      <td>Corporate L2</td>\n",
       "      <td>Offer1</td>\n",
       "      <td>Branch</td>\n",
       "      <td>Four-Door Car</td>\n",
       "      <td>Medsize</td>\n",
       "    </tr>\n",
       "    <tr>\n",
       "      <th>9132</th>\n",
       "      <td>California</td>\n",
       "      <td>No</td>\n",
       "      <td>Extended</td>\n",
       "      <td>College</td>\n",
       "      <td>Employed</td>\n",
       "      <td>M</td>\n",
       "      <td>Suburban</td>\n",
       "      <td>Married</td>\n",
       "      <td>0</td>\n",
       "      <td>3</td>\n",
       "      <td>Personal Auto</td>\n",
       "      <td>Personal L2</td>\n",
       "      <td>Offer3</td>\n",
       "      <td>Branch</td>\n",
       "      <td>Four-Door Car</td>\n",
       "      <td>Large</td>\n",
       "    </tr>\n",
       "    <tr>\n",
       "      <th>9133</th>\n",
       "      <td>California</td>\n",
       "      <td>No</td>\n",
       "      <td>Extended</td>\n",
       "      <td>College</td>\n",
       "      <td>Unemployed</td>\n",
       "      <td>M</td>\n",
       "      <td>Suburban</td>\n",
       "      <td>Single</td>\n",
       "      <td>0</td>\n",
       "      <td>1</td>\n",
       "      <td>Corporate Auto</td>\n",
       "      <td>Corporate L3</td>\n",
       "      <td>Offer4</td>\n",
       "      <td>Call Center</td>\n",
       "      <td>Two-Door Car</td>\n",
       "      <td>Medsize</td>\n",
       "    </tr>\n",
       "  </tbody>\n",
       "</table>\n",
       "<p>9134 rows × 16 columns</p>\n",
       "</div>"
      ],
      "text/plain": [
       "           state response  coverage education employmentstatus gender  \\\n",
       "0     Washington       No     Basic  Bachelor         Employed      F   \n",
       "1        Arizona       No  Extended  Bachelor       Unemployed      F   \n",
       "2         Nevada       No   Premium  Bachelor         Employed      F   \n",
       "3     California       No     Basic  Bachelor       Unemployed      M   \n",
       "4     Washington       No     Basic  Bachelor         Employed      M   \n",
       "...          ...      ...       ...       ...              ...    ...   \n",
       "9129  California       No     Basic  Bachelor         Employed      M   \n",
       "9130  California      Yes  Extended   College         Employed      F   \n",
       "9131  California       No  Extended  Bachelor       Unemployed      M   \n",
       "9132  California       No  Extended   College         Employed      M   \n",
       "9133  California       No  Extended   College       Unemployed      M   \n",
       "\n",
       "     location_code marital_status  number_of_open_complaints  \\\n",
       "0         Suburban        Married                          0   \n",
       "1         Suburban         Single                          0   \n",
       "2         Suburban        Married                          0   \n",
       "3         Suburban        Married                          0   \n",
       "4            Rural         Single                          0   \n",
       "...            ...            ...                        ...   \n",
       "9129         Urban        Married                          0   \n",
       "9130      Suburban       Divorced                          0   \n",
       "9131      Suburban         Single                          3   \n",
       "9132      Suburban        Married                          0   \n",
       "9133      Suburban         Single                          0   \n",
       "\n",
       "      number_of_policies     policy_type        policy renew_offer_type  \\\n",
       "0                      1  Corporate Auto  Corporate L3           Offer1   \n",
       "1                      8   Personal Auto   Personal L3           Offer3   \n",
       "2                      2   Personal Auto   Personal L3           Offer1   \n",
       "3                      7  Corporate Auto  Corporate L2           Offer1   \n",
       "4                      1   Personal Auto   Personal L1           Offer1   \n",
       "...                  ...             ...           ...              ...   \n",
       "9129                   2   Personal Auto   Personal L1           Offer2   \n",
       "9130                   1  Corporate Auto  Corporate L3           Offer1   \n",
       "9131                   2  Corporate Auto  Corporate L2           Offer1   \n",
       "9132                   3   Personal Auto   Personal L2           Offer3   \n",
       "9133                   1  Corporate Auto  Corporate L3           Offer4   \n",
       "\n",
       "     sales_channel  vehicle_class vehicle_size  \n",
       "0            Agent   Two-Door Car      Medsize  \n",
       "1            Agent  Four-Door Car      Medsize  \n",
       "2            Agent   Two-Door Car      Medsize  \n",
       "3      Call Center            SUV      Medsize  \n",
       "4            Agent  Four-Door Car      Medsize  \n",
       "...            ...            ...          ...  \n",
       "9129           Web  Four-Door Car      Medsize  \n",
       "9130        Branch  Four-Door Car      Medsize  \n",
       "9131        Branch  Four-Door Car      Medsize  \n",
       "9132        Branch  Four-Door Car        Large  \n",
       "9133   Call Center   Two-Door Car      Medsize  \n",
       "\n",
       "[9134 rows x 16 columns]"
      ]
     },
     "execution_count": 11,
     "metadata": {},
     "output_type": "execute_result"
    }
   ],
   "source": [
    "categorical_df"
   ]
  },
  {
   "cell_type": "code",
   "execution_count": 12,
   "id": "34450c07",
   "metadata": {},
   "outputs": [
    {
     "data": {
      "text/html": [
       "<div>\n",
       "<style scoped>\n",
       "    .dataframe tbody tr th:only-of-type {\n",
       "        vertical-align: middle;\n",
       "    }\n",
       "\n",
       "    .dataframe tbody tr th {\n",
       "        vertical-align: top;\n",
       "    }\n",
       "\n",
       "    .dataframe thead th {\n",
       "        text-align: right;\n",
       "    }\n",
       "</style>\n",
       "<table border=\"1\" class=\"dataframe\">\n",
       "  <thead>\n",
       "    <tr style=\"text-align: right;\">\n",
       "      <th></th>\n",
       "      <th>customer_lifetime_value</th>\n",
       "      <th>effective_to_date</th>\n",
       "      <th>income</th>\n",
       "      <th>monthly_premium_auto</th>\n",
       "      <th>months_since_last_claim</th>\n",
       "      <th>months_since_policy_inception</th>\n",
       "      <th>total_claim_amount</th>\n",
       "    </tr>\n",
       "  </thead>\n",
       "  <tbody>\n",
       "    <tr>\n",
       "      <th>0</th>\n",
       "      <td>2763.519279</td>\n",
       "      <td>2011-02-24</td>\n",
       "      <td>56274</td>\n",
       "      <td>69</td>\n",
       "      <td>32</td>\n",
       "      <td>5</td>\n",
       "      <td>384.811147</td>\n",
       "    </tr>\n",
       "    <tr>\n",
       "      <th>1</th>\n",
       "      <td>6979.535903</td>\n",
       "      <td>2011-01-31</td>\n",
       "      <td>0</td>\n",
       "      <td>94</td>\n",
       "      <td>13</td>\n",
       "      <td>42</td>\n",
       "      <td>1131.464935</td>\n",
       "    </tr>\n",
       "    <tr>\n",
       "      <th>2</th>\n",
       "      <td>12887.431650</td>\n",
       "      <td>2011-02-19</td>\n",
       "      <td>48767</td>\n",
       "      <td>108</td>\n",
       "      <td>18</td>\n",
       "      <td>38</td>\n",
       "      <td>566.472247</td>\n",
       "    </tr>\n",
       "    <tr>\n",
       "      <th>3</th>\n",
       "      <td>7645.861827</td>\n",
       "      <td>2011-01-20</td>\n",
       "      <td>0</td>\n",
       "      <td>106</td>\n",
       "      <td>18</td>\n",
       "      <td>65</td>\n",
       "      <td>529.881344</td>\n",
       "    </tr>\n",
       "    <tr>\n",
       "      <th>4</th>\n",
       "      <td>2813.692575</td>\n",
       "      <td>2011-02-03</td>\n",
       "      <td>43836</td>\n",
       "      <td>73</td>\n",
       "      <td>12</td>\n",
       "      <td>44</td>\n",
       "      <td>138.130879</td>\n",
       "    </tr>\n",
       "    <tr>\n",
       "      <th>...</th>\n",
       "      <td>...</td>\n",
       "      <td>...</td>\n",
       "      <td>...</td>\n",
       "      <td>...</td>\n",
       "      <td>...</td>\n",
       "      <td>...</td>\n",
       "      <td>...</td>\n",
       "    </tr>\n",
       "    <tr>\n",
       "      <th>9129</th>\n",
       "      <td>23405.987980</td>\n",
       "      <td>2011-02-10</td>\n",
       "      <td>71941</td>\n",
       "      <td>73</td>\n",
       "      <td>18</td>\n",
       "      <td>89</td>\n",
       "      <td>198.234764</td>\n",
       "    </tr>\n",
       "    <tr>\n",
       "      <th>9130</th>\n",
       "      <td>3096.511217</td>\n",
       "      <td>2011-02-12</td>\n",
       "      <td>21604</td>\n",
       "      <td>79</td>\n",
       "      <td>14</td>\n",
       "      <td>28</td>\n",
       "      <td>379.200000</td>\n",
       "    </tr>\n",
       "    <tr>\n",
       "      <th>9131</th>\n",
       "      <td>8163.890428</td>\n",
       "      <td>2011-02-06</td>\n",
       "      <td>0</td>\n",
       "      <td>85</td>\n",
       "      <td>9</td>\n",
       "      <td>37</td>\n",
       "      <td>790.784983</td>\n",
       "    </tr>\n",
       "    <tr>\n",
       "      <th>9132</th>\n",
       "      <td>7524.442436</td>\n",
       "      <td>2011-02-03</td>\n",
       "      <td>21941</td>\n",
       "      <td>96</td>\n",
       "      <td>34</td>\n",
       "      <td>3</td>\n",
       "      <td>691.200000</td>\n",
       "    </tr>\n",
       "    <tr>\n",
       "      <th>9133</th>\n",
       "      <td>2611.836866</td>\n",
       "      <td>2011-02-14</td>\n",
       "      <td>0</td>\n",
       "      <td>77</td>\n",
       "      <td>3</td>\n",
       "      <td>90</td>\n",
       "      <td>369.600000</td>\n",
       "    </tr>\n",
       "  </tbody>\n",
       "</table>\n",
       "<p>9134 rows × 7 columns</p>\n",
       "</div>"
      ],
      "text/plain": [
       "      customer_lifetime_value effective_to_date  income  monthly_premium_auto  \\\n",
       "0                 2763.519279        2011-02-24   56274                    69   \n",
       "1                 6979.535903        2011-01-31       0                    94   \n",
       "2                12887.431650        2011-02-19   48767                   108   \n",
       "3                 7645.861827        2011-01-20       0                   106   \n",
       "4                 2813.692575        2011-02-03   43836                    73   \n",
       "...                       ...               ...     ...                   ...   \n",
       "9129             23405.987980        2011-02-10   71941                    73   \n",
       "9130              3096.511217        2011-02-12   21604                    79   \n",
       "9131              8163.890428        2011-02-06       0                    85   \n",
       "9132              7524.442436        2011-02-03   21941                    96   \n",
       "9133              2611.836866        2011-02-14       0                    77   \n",
       "\n",
       "      months_since_last_claim  months_since_policy_inception  \\\n",
       "0                          32                              5   \n",
       "1                          13                             42   \n",
       "2                          18                             38   \n",
       "3                          18                             65   \n",
       "4                          12                             44   \n",
       "...                       ...                            ...   \n",
       "9129                       18                             89   \n",
       "9130                       14                             28   \n",
       "9131                        9                             37   \n",
       "9132                       34                              3   \n",
       "9133                        3                             90   \n",
       "\n",
       "      total_claim_amount  \n",
       "0             384.811147  \n",
       "1            1131.464935  \n",
       "2             566.472247  \n",
       "3             529.881344  \n",
       "4             138.130879  \n",
       "...                  ...  \n",
       "9129          198.234764  \n",
       "9130          379.200000  \n",
       "9131          790.784983  \n",
       "9132          691.200000  \n",
       "9133          369.600000  \n",
       "\n",
       "[9134 rows x 7 columns]"
      ]
     },
     "execution_count": 12,
     "metadata": {},
     "output_type": "execute_result"
    }
   ],
   "source": [
    "numerical_df"
   ]
  },
  {
   "cell_type": "markdown",
   "id": "6e9fbfa9",
   "metadata": {},
   "source": [
    "**3.Check for NaN values.**"
   ]
  },
  {
   "cell_type": "code",
   "execution_count": 13,
   "id": "b80e4417",
   "metadata": {},
   "outputs": [
    {
     "data": {
      "text/plain": [
       "state                        0\n",
       "response                     0\n",
       "coverage                     0\n",
       "education                    0\n",
       "employmentstatus             0\n",
       "gender                       0\n",
       "location_code                0\n",
       "marital_status               0\n",
       "number_of_open_complaints    0\n",
       "number_of_policies           0\n",
       "policy_type                  0\n",
       "policy                       0\n",
       "renew_offer_type             0\n",
       "sales_channel                0\n",
       "vehicle_class                0\n",
       "vehicle_size                 0\n",
       "dtype: int64"
      ]
     },
     "execution_count": 13,
     "metadata": {},
     "output_type": "execute_result"
    }
   ],
   "source": [
    "categorical_df.isna().sum()"
   ]
  },
  {
   "cell_type": "code",
   "execution_count": 14,
   "id": "0d001adf",
   "metadata": {},
   "outputs": [
    {
     "data": {
      "text/plain": [
       "state                        0\n",
       "response                     0\n",
       "coverage                     0\n",
       "education                    0\n",
       "employmentstatus             0\n",
       "gender                       0\n",
       "location_code                0\n",
       "marital_status               0\n",
       "number_of_open_complaints    0\n",
       "number_of_policies           0\n",
       "policy_type                  0\n",
       "policy                       0\n",
       "renew_offer_type             0\n",
       "sales_channel                0\n",
       "vehicle_class                0\n",
       "vehicle_size                 0\n",
       "dtype: int64"
      ]
     },
     "execution_count": 14,
     "metadata": {},
     "output_type": "execute_result"
    }
   ],
   "source": [
    "categorical_df.isnull().sum()"
   ]
  },
  {
   "cell_type": "markdown",
   "id": "932874dd",
   "metadata": {},
   "source": [
    "There are no null values!"
   ]
  },
  {
   "cell_type": "markdown",
   "id": "d58b9ae9",
   "metadata": {},
   "source": [
    "**4.Check all unique values of columns.**"
   ]
  },
  {
   "cell_type": "code",
   "execution_count": 15,
   "id": "439815ee",
   "metadata": {},
   "outputs": [
    {
     "name": "stdout",
     "output_type": "stream",
     "text": [
      "state                        [Washington, Arizona, Nevada, California, Oregon]\n",
      "response                                                             [No, Yes]\n",
      "coverage                                            [Basic, Extended, Premium]\n",
      "education                    [Bachelor, College, Master, High School or Bel...\n",
      "employmentstatus             [Employed, Unemployed, Medical Leave, Disabled...\n",
      "gender                                                                  [F, M]\n",
      "location_code                                         [Suburban, Rural, Urban]\n",
      "marital_status                                     [Married, Single, Divorced]\n",
      "number_of_open_complaints                                   [0, 2, 1, 3, 5, 4]\n",
      "number_of_policies                                 [1, 8, 2, 7, 9, 4, 3, 6, 5]\n",
      "policy_type                      [Corporate Auto, Personal Auto, Special Auto]\n",
      "policy                       [Corporate L3, Personal L3, Corporate L2, Pers...\n",
      "renew_offer_type                              [Offer1, Offer3, Offer2, Offer4]\n",
      "sales_channel                                [Agent, Call Center, Web, Branch]\n",
      "vehicle_class                [Two-Door Car, Four-Door Car, SUV, Luxury SUV,...\n",
      "vehicle_size                                           [Medsize, Small, Large]\n",
      "dtype: object\n"
     ]
    }
   ],
   "source": [
    "print(categorical_df.apply(lambda col: col.unique()))"
   ]
  },
  {
   "cell_type": "code",
   "execution_count": 16,
   "id": "b78fd969",
   "metadata": {},
   "outputs": [
    {
     "name": "stdout",
     "output_type": "stream",
     "text": [
      "state                        5\n",
      "response                     2\n",
      "coverage                     3\n",
      "education                    5\n",
      "employmentstatus             5\n",
      "gender                       2\n",
      "location_code                3\n",
      "marital_status               3\n",
      "number_of_open_complaints    6\n",
      "number_of_policies           9\n",
      "policy_type                  3\n",
      "policy                       9\n",
      "renew_offer_type             4\n",
      "sales_channel                4\n",
      "vehicle_class                6\n",
      "vehicle_size                 3\n",
      "dtype: int64\n"
     ]
    }
   ],
   "source": [
    "print(categorical_df.apply(lambda col: col.nunique()))"
   ]
  },
  {
   "cell_type": "markdown",
   "id": "06abef97",
   "metadata": {},
   "source": [
    "**5.Check dtypes. Do they all make sense as categorical data?**"
   ]
  },
  {
   "cell_type": "code",
   "execution_count": 17,
   "id": "781ba132",
   "metadata": {},
   "outputs": [
    {
     "data": {
      "text/plain": [
       "state                        object\n",
       "response                     object\n",
       "coverage                     object\n",
       "education                    object\n",
       "employmentstatus             object\n",
       "gender                       object\n",
       "location_code                object\n",
       "marital_status               object\n",
       "number_of_open_complaints     int64\n",
       "number_of_policies            int64\n",
       "policy_type                  object\n",
       "policy                       object\n",
       "renew_offer_type             object\n",
       "sales_channel                object\n",
       "vehicle_class                object\n",
       "vehicle_size                 object\n",
       "dtype: object"
      ]
     },
     "execution_count": 17,
     "metadata": {},
     "output_type": "execute_result"
    }
   ],
   "source": [
    "categorical_df.dtypes"
   ]
  },
  {
   "cell_type": "markdown",
   "id": "f9362204",
   "metadata": {},
   "source": [
    "To me they all make sense as categorical data! Even though policy_type and policy are integers, the number of unique values that they have can resemble groups/categories, there fore they are worth treating as categoricals. "
   ]
  },
  {
   "cell_type": "markdown",
   "id": "1894048f",
   "metadata": {},
   "source": [
    "**6.Does any column contain alpha and numeric data? Decide how to clean it.**"
   ]
  },
  {
   "cell_type": "markdown",
   "id": "190472f9",
   "metadata": {},
   "source": [
    "I think the following values **[Offer1, Offer3, Offer2, Offer4]** in the **renew_offer_type** column are alphanumeric data. Maybe one possible way to clean it is by making them just numbers. For Offer1: 1, offer2: 2......and so. This will make label encoding much easier, as this has an order and now  is categorical ordinal. "
   ]
  },
  {
   "cell_type": "code",
   "execution_count": 18,
   "id": "5afdabf3",
   "metadata": {},
   "outputs": [
    {
     "data": {
      "text/plain": [
       "Offer1    3752\n",
       "Offer2    2926\n",
       "Offer3    1432\n",
       "Offer4    1024\n",
       "Name: renew_offer_type, dtype: int64"
      ]
     },
     "execution_count": 18,
     "metadata": {},
     "output_type": "execute_result"
    }
   ],
   "source": [
    "\n",
    "categorical_df['renew_offer_type'].value_counts()"
   ]
  },
  {
   "cell_type": "code",
   "execution_count": 19,
   "id": "e5ef30ce",
   "metadata": {},
   "outputs": [
    {
     "name": "stderr",
     "output_type": "stream",
     "text": [
      "C:\\Users\\ALP\\Anaconda3\\lib\\site-packages\\pandas\\core\\generic.py:6619: SettingWithCopyWarning: \n",
      "A value is trying to be set on a copy of a slice from a DataFrame\n",
      "\n",
      "See the caveats in the documentation: https://pandas.pydata.org/pandas-docs/stable/user_guide/indexing.html#returning-a-view-versus-a-copy\n",
      "  return self._update_inplace(result)\n"
     ]
    }
   ],
   "source": [
    "#replacing renew_offer_type values with numeric values as it will be easier for encoding later on\n",
    "categorical_df[\"renew_offer_type\"].replace({\"Offer1\": 1, \"Offer2\": 2, \"Offer3\": 3, \"Offer4\": 4}, inplace=True)"
   ]
  },
  {
   "cell_type": "code",
   "execution_count": 20,
   "id": "1460adc0",
   "metadata": {},
   "outputs": [
    {
     "data": {
      "text/plain": [
       "1    3752\n",
       "2    2926\n",
       "3    1432\n",
       "4    1024\n",
       "Name: renew_offer_type, dtype: int64"
      ]
     },
     "execution_count": 20,
     "metadata": {},
     "output_type": "execute_result"
    }
   ],
   "source": [
    "categorical_df['renew_offer_type'].value_counts()"
   ]
  },
  {
   "cell_type": "markdown",
   "id": "74739d3d",
   "metadata": {},
   "source": [
    "**7.Would you choose to do anything else to clean or wrangle the categorical data? Comment your decisions.**"
   ]
  },
  {
   "cell_type": "markdown",
   "id": "a3001b99",
   "metadata": {},
   "source": [
    "Most likely I would group some values together in categorical nominal data. As we apply onehotencoding to this, it will reduce the number of columns we have, if we group certain values together. \n",
    "\n",
    "- JustFor example the column state could be grouped into East coast and West coast. Or from seeing the value counts, maybe the states of Arizona, Nevada and Washington can be grouped togeter as they are quite low in counts compared to California and Oregon.\n",
    "\n",
    "- Another example is thtat employmentstatus could be Employed, Unemployed or other. "
   ]
  },
  {
   "cell_type": "code",
   "execution_count": 21,
   "id": "443e3f99",
   "metadata": {},
   "outputs": [
    {
     "data": {
      "text/plain": [
       "California    3150\n",
       "Oregon        2601\n",
       "Arizona       1703\n",
       "Nevada         882\n",
       "Washington     798\n",
       "Name: state, dtype: int64"
      ]
     },
     "execution_count": 21,
     "metadata": {},
     "output_type": "execute_result"
    }
   ],
   "source": [
    "categorical_df['state'].value_counts()"
   ]
  },
  {
   "cell_type": "code",
   "execution_count": 22,
   "id": "d8c39099",
   "metadata": {},
   "outputs": [
    {
     "data": {
      "text/plain": [
       "Employed         5698\n",
       "Unemployed       2317\n",
       "Medical Leave     432\n",
       "Disabled          405\n",
       "Retired           282\n",
       "Name: employmentstatus, dtype: int64"
      ]
     },
     "execution_count": 22,
     "metadata": {},
     "output_type": "execute_result"
    }
   ],
   "source": [
    "categorical_df['employmentstatus'].value_counts()"
   ]
  },
  {
   "cell_type": "markdown",
   "id": "2d3c9ff8",
   "metadata": {},
   "source": [
    "**8. Compare policy_type and policy. What information is contained in these columns. Can you identify what is important?**"
   ]
  },
  {
   "cell_type": "code",
   "execution_count": 23,
   "id": "67d1fd0b",
   "metadata": {},
   "outputs": [
    {
     "data": {
      "text/plain": [
       "Personal Auto     6788\n",
       "Corporate Auto    1968\n",
       "Special Auto       378\n",
       "Name: policy_type, dtype: int64"
      ]
     },
     "execution_count": 23,
     "metadata": {},
     "output_type": "execute_result"
    }
   ],
   "source": [
    "categorical_df['policy_type'].value_counts()"
   ]
  },
  {
   "cell_type": "code",
   "execution_count": 24,
   "id": "4a4f39ef",
   "metadata": {},
   "outputs": [
    {
     "data": {
      "text/plain": [
       "Personal L3     3426\n",
       "Personal L2     2122\n",
       "Personal L1     1240\n",
       "Corporate L3    1014\n",
       "Corporate L2     595\n",
       "Corporate L1     359\n",
       "Special L2       164\n",
       "Special L3       148\n",
       "Special L1        66\n",
       "Name: policy, dtype: int64"
      ]
     },
     "execution_count": 24,
     "metadata": {},
     "output_type": "execute_result"
    }
   ],
   "source": [
    "categorical_df['policy'].value_counts()"
   ]
  },
  {
   "cell_type": "markdown",
   "id": "b684f2dc",
   "metadata": {},
   "source": [
    "They share similar information, the only difference is that policy is more specific, and policy_type is a bit more generalised. In my opinion havin the policy type is more important, as it will give us three clear groups, compared to multiple subgroups in policy column. I would drop the policy column and go for the policy type column. As it makes encoding much easier!"
   ]
  },
  {
   "cell_type": "markdown",
   "id": "ae16dd78",
   "metadata": {},
   "source": [
    "**9.Check number of unique values in each column, can they be combined in any way to ease encoding? Comment your thoughts and make those changes.**"
   ]
  },
  {
   "cell_type": "code",
   "execution_count": 25,
   "id": "a2314407",
   "metadata": {},
   "outputs": [
    {
     "name": "stdout",
     "output_type": "stream",
     "text": [
      "California    3150\n",
      "Oregon        2601\n",
      "Arizona       1703\n",
      "Nevada         882\n",
      "Washington     798\n",
      "Name: state, dtype: int64\n",
      "No     7826\n",
      "Yes    1308\n",
      "Name: response, dtype: int64\n",
      "Basic       5568\n",
      "Extended    2742\n",
      "Premium      824\n",
      "Name: coverage, dtype: int64\n",
      "Bachelor                2748\n",
      "College                 2681\n",
      "High School or Below    2622\n",
      "Master                   741\n",
      "Doctor                   342\n",
      "Name: education, dtype: int64\n",
      "Employed         5698\n",
      "Unemployed       2317\n",
      "Medical Leave     432\n",
      "Disabled          405\n",
      "Retired           282\n",
      "Name: employmentstatus, dtype: int64\n",
      "F    4658\n",
      "M    4476\n",
      "Name: gender, dtype: int64\n",
      "Suburban    5779\n",
      "Rural       1773\n",
      "Urban       1582\n",
      "Name: location_code, dtype: int64\n",
      "Married     5298\n",
      "Single      2467\n",
      "Divorced    1369\n",
      "Name: marital_status, dtype: int64\n",
      "0    7252\n",
      "1    1011\n",
      "2     374\n",
      "3     292\n",
      "4     149\n",
      "5      56\n",
      "Name: number_of_open_complaints, dtype: int64\n",
      "1    3251\n",
      "2    2294\n",
      "3    1168\n",
      "7     433\n",
      "9     416\n",
      "4     409\n",
      "5     407\n",
      "8     384\n",
      "6     372\n",
      "Name: number_of_policies, dtype: int64\n",
      "Personal Auto     6788\n",
      "Corporate Auto    1968\n",
      "Special Auto       378\n",
      "Name: policy_type, dtype: int64\n",
      "Personal L3     3426\n",
      "Personal L2     2122\n",
      "Personal L1     1240\n",
      "Corporate L3    1014\n",
      "Corporate L2     595\n",
      "Corporate L1     359\n",
      "Special L2       164\n",
      "Special L3       148\n",
      "Special L1        66\n",
      "Name: policy, dtype: int64\n",
      "1    3752\n",
      "2    2926\n",
      "3    1432\n",
      "4    1024\n",
      "Name: renew_offer_type, dtype: int64\n",
      "Agent          3477\n",
      "Branch         2567\n",
      "Call Center    1765\n",
      "Web            1325\n",
      "Name: sales_channel, dtype: int64\n",
      "Four-Door Car    4621\n",
      "Two-Door Car     1886\n",
      "SUV              1796\n",
      "Sports Car        484\n",
      "Luxury SUV        184\n",
      "Luxury Car        163\n",
      "Name: vehicle_class, dtype: int64\n",
      "Medsize    6424\n",
      "Small      1764\n",
      "Large       946\n",
      "Name: vehicle_size, dtype: int64\n"
     ]
    }
   ],
   "source": [
    "for col in categorical_df:\n",
    "    print(categorical_df[col].value_counts())"
   ]
  },
  {
   "cell_type": "code",
   "execution_count": 26,
   "id": "f7e96971",
   "metadata": {},
   "outputs": [],
   "source": [
    "#Which column values would I combine:\n",
    "#State, education, employmentstatus, number_of_open_complaints, number_of_policies, renew offer type, sales_channel, \n",
    "#vehicle_class"
   ]
  },
  {
   "cell_type": "code",
   "execution_count": 27,
   "id": "fecddb6e",
   "metadata": {},
   "outputs": [
    {
     "name": "stderr",
     "output_type": "stream",
     "text": [
      "C:\\Users\\ALP\\Anaconda3\\lib\\site-packages\\ipykernel_launcher.py:3: SettingWithCopyWarning: \n",
      "A value is trying to be set on a copy of a slice from a DataFrame.\n",
      "Try using .loc[row_indexer,col_indexer] = value instead\n",
      "\n",
      "See the caveats in the documentation: https://pandas.pydata.org/pandas-docs/stable/user_guide/indexing.html#returning-a-view-versus-a-copy\n",
      "  This is separate from the ipykernel package so we can avoid doing imports until\n"
     ]
    },
    {
     "data": {
      "text/plain": [
       "Other         3383\n",
       "California    3150\n",
       "Oregon        2601\n",
       "Name: state, dtype: int64"
      ]
     },
     "execution_count": 27,
     "metadata": {},
     "output_type": "execute_result"
    }
   ],
   "source": [
    "# State\n",
    "# Grouped the smaller states together as other, this makes it more equal amongs the different states\n",
    "categorical_df['state'] = list(map(lambda x: 'Other' if x in ['Arizona', 'Nevada', 'Washington'] else x, categorical_df['state']))\n",
    "categorical_df['state'].value_counts()"
   ]
  },
  {
   "cell_type": "code",
   "execution_count": 28,
   "id": "8b8ed473",
   "metadata": {},
   "outputs": [
    {
     "name": "stderr",
     "output_type": "stream",
     "text": [
      "C:\\Users\\ALP\\Anaconda3\\lib\\site-packages\\ipykernel_launcher.py:3: SettingWithCopyWarning: \n",
      "A value is trying to be set on a copy of a slice from a DataFrame.\n",
      "Try using .loc[row_indexer,col_indexer] = value instead\n",
      "\n",
      "See the caveats in the documentation: https://pandas.pydata.org/pandas-docs/stable/user_guide/indexing.html#returning-a-view-versus-a-copy\n",
      "  This is separate from the ipykernel package so we can avoid doing imports until\n"
     ]
    },
    {
     "data": {
      "text/plain": [
       "University Degree       3831\n",
       "College                 2681\n",
       "High School or Below    2622\n",
       "Name: education, dtype: int64"
      ]
     },
     "execution_count": 28,
     "metadata": {},
     "output_type": "execute_result"
    }
   ],
   "source": [
    "#education\n",
    "#I grouped Bachelor, Master and Doctor into one called university degree (as the amount of Masters and Doctors were small)\n",
    "categorical_df['education'] = list(map(lambda x: 'University Degree' if x in ['Bachelor', 'Master', 'Doctor'] else x, categorical_df['education']))\n",
    "categorical_df['education'].value_counts()"
   ]
  },
  {
   "cell_type": "code",
   "execution_count": 29,
   "id": "43edbfb0",
   "metadata": {},
   "outputs": [
    {
     "name": "stderr",
     "output_type": "stream",
     "text": [
      "C:\\Users\\ALP\\Anaconda3\\lib\\site-packages\\ipykernel_launcher.py:3: SettingWithCopyWarning: \n",
      "A value is trying to be set on a copy of a slice from a DataFrame.\n",
      "Try using .loc[row_indexer,col_indexer] = value instead\n",
      "\n",
      "See the caveats in the documentation: https://pandas.pydata.org/pandas-docs/stable/user_guide/indexing.html#returning-a-view-versus-a-copy\n",
      "  This is separate from the ipykernel package so we can avoid doing imports until\n"
     ]
    },
    {
     "data": {
      "text/plain": [
       "Employed    5698\n",
       "Other       3436\n",
       "Name: employmentstatus, dtype: int64"
      ]
     },
     "execution_count": 29,
     "metadata": {},
     "output_type": "execute_result"
    }
   ],
   "source": [
    "#employmentstatus\n",
    "#As employed is signicficantly higher, I will group all other values as other\n",
    "categorical_df['employmentstatus'] = list(map(lambda x: 'Other' if x in ['Unemployed', 'Medical Leave', 'Disabled', 'Retired'] else x, categorical_df['employmentstatus']))\n",
    "categorical_df['employmentstatus'].value_counts()"
   ]
  },
  {
   "cell_type": "code",
   "execution_count": 30,
   "id": "3cf8540f",
   "metadata": {},
   "outputs": [
    {
     "name": "stderr",
     "output_type": "stream",
     "text": [
      "C:\\Users\\ALP\\Anaconda3\\lib\\site-packages\\ipykernel_launcher.py:4: SettingWithCopyWarning: \n",
      "A value is trying to be set on a copy of a slice from a DataFrame.\n",
      "Try using .loc[row_indexer,col_indexer] = value instead\n",
      "\n",
      "See the caveats in the documentation: https://pandas.pydata.org/pandas-docs/stable/user_guide/indexing.html#returning-a-view-versus-a-copy\n",
      "  after removing the cwd from sys.path.\n",
      "C:\\Users\\ALP\\Anaconda3\\lib\\site-packages\\ipykernel_launcher.py:5: SettingWithCopyWarning: \n",
      "A value is trying to be set on a copy of a slice from a DataFrame.\n",
      "Try using .loc[row_indexer,col_indexer] = value instead\n",
      "\n",
      "See the caveats in the documentation: https://pandas.pydata.org/pandas-docs/stable/user_guide/indexing.html#returning-a-view-versus-a-copy\n",
      "  \"\"\"\n"
     ]
    },
    {
     "data": {
      "text/plain": [
       "None          7252\n",
       "At least 1    1882\n",
       "Name: number_of_open_complaints, dtype: int64"
      ]
     },
     "execution_count": 30,
     "metadata": {},
     "output_type": "execute_result"
    }
   ],
   "source": [
    "#Number of open complaints, \n",
    "#as Zero is significanly higher, I will group all the others together. THis may still not \n",
    "#help to deal with the class imbalcanc, but it doesnt make sense to do it any other way\n",
    "categorical_df['number_of_open_complaints'] = list(map(lambda x: 'At least 1' if x in [1,2,3,4,5] else x, categorical_df['number_of_open_complaints']))\n",
    "categorical_df['number_of_open_complaints'] = list(map(lambda x: 'None' if x in [0] else x, categorical_df['number_of_open_complaints']))\n",
    "categorical_df['number_of_open_complaints'].value_counts()"
   ]
  },
  {
   "cell_type": "code",
   "execution_count": 31,
   "id": "a8202395",
   "metadata": {},
   "outputs": [
    {
     "name": "stderr",
     "output_type": "stream",
     "text": [
      "C:\\Users\\ALP\\Anaconda3\\lib\\site-packages\\ipykernel_launcher.py:3: SettingWithCopyWarning: \n",
      "A value is trying to be set on a copy of a slice from a DataFrame.\n",
      "Try using .loc[row_indexer,col_indexer] = value instead\n",
      "\n",
      "See the caveats in the documentation: https://pandas.pydata.org/pandas-docs/stable/user_guide/indexing.html#returning-a-view-versus-a-copy\n",
      "  This is separate from the ipykernel package so we can avoid doing imports until\n"
     ]
    },
    {
     "data": {
      "text/plain": [
       "3 or more    3589\n",
       "1            3251\n",
       "2            2294\n",
       "Name: number_of_policies, dtype: int64"
      ]
     },
     "execution_count": 31,
     "metadata": {},
     "output_type": "execute_result"
    }
   ],
   "source": [
    "#number_of_policies\n",
    "#I will group 3 or more policies together, and then go from there\n",
    "categorical_df['number_of_policies'] = list(map(lambda x: '3 or more' if x in [3,4,5,6,7,8,9] else x, categorical_df['number_of_policies']))\n",
    "categorical_df['number_of_policies'].value_counts()"
   ]
  },
  {
   "cell_type": "code",
   "execution_count": 32,
   "id": "cce90678",
   "metadata": {},
   "outputs": [
    {
     "name": "stderr",
     "output_type": "stream",
     "text": [
      "C:\\Users\\ALP\\Anaconda3\\lib\\site-packages\\ipykernel_launcher.py:4: SettingWithCopyWarning: \n",
      "A value is trying to be set on a copy of a slice from a DataFrame.\n",
      "Try using .loc[row_indexer,col_indexer] = value instead\n",
      "\n",
      "See the caveats in the documentation: https://pandas.pydata.org/pandas-docs/stable/user_guide/indexing.html#returning-a-view-versus-a-copy\n",
      "  after removing the cwd from sys.path.\n"
     ]
    },
    {
     "data": {
      "text/plain": [
       "1        3752\n",
       "2        2926\n",
       "other    2456\n",
       "Name: renew_offer_type, dtype: int64"
      ]
     },
     "execution_count": 32,
     "metadata": {},
     "output_type": "execute_result"
    }
   ],
   "source": [
    "#renew offer type\n",
    "# I have grouped 3 and 4 together as other\n",
    "#renamed 1 to first and 2 to second\n",
    "categorical_df['renew_offer_type'] = list(map(lambda x: 'other' if x in [3,4] else x, categorical_df['renew_offer_type']))\n",
    "categorical_df['renew_offer_type'].value_counts()"
   ]
  },
  {
   "cell_type": "code",
   "execution_count": 33,
   "id": "0dce8277",
   "metadata": {},
   "outputs": [
    {
     "name": "stderr",
     "output_type": "stream",
     "text": [
      "C:\\Users\\ALP\\Anaconda3\\lib\\site-packages\\ipykernel_launcher.py:1: SettingWithCopyWarning: \n",
      "A value is trying to be set on a copy of a slice from a DataFrame.\n",
      "Try using .loc[row_indexer,col_indexer] = value instead\n",
      "\n",
      "See the caveats in the documentation: https://pandas.pydata.org/pandas-docs/stable/user_guide/indexing.html#returning-a-view-versus-a-copy\n",
      "  \"\"\"Entry point for launching an IPython kernel.\n"
     ]
    },
    {
     "data": {
      "text/plain": [
       "first    3752\n",
       "2        2926\n",
       "other    2456\n",
       "Name: renew_offer_type, dtype: int64"
      ]
     },
     "execution_count": 33,
     "metadata": {},
     "output_type": "execute_result"
    }
   ],
   "source": [
    "categorical_df['renew_offer_type'] = list(map(lambda x: 'first' if x in [1] else x, categorical_df['renew_offer_type']))\n",
    "categorical_df['renew_offer_type'].value_counts()"
   ]
  },
  {
   "cell_type": "code",
   "execution_count": 34,
   "id": "7c8c786c",
   "metadata": {},
   "outputs": [
    {
     "name": "stderr",
     "output_type": "stream",
     "text": [
      "C:\\Users\\ALP\\Anaconda3\\lib\\site-packages\\ipykernel_launcher.py:1: SettingWithCopyWarning: \n",
      "A value is trying to be set on a copy of a slice from a DataFrame.\n",
      "Try using .loc[row_indexer,col_indexer] = value instead\n",
      "\n",
      "See the caveats in the documentation: https://pandas.pydata.org/pandas-docs/stable/user_guide/indexing.html#returning-a-view-versus-a-copy\n",
      "  \"\"\"Entry point for launching an IPython kernel.\n"
     ]
    },
    {
     "data": {
      "text/plain": [
       "first     3752\n",
       "second    2926\n",
       "other     2456\n",
       "Name: renew_offer_type, dtype: int64"
      ]
     },
     "execution_count": 34,
     "metadata": {},
     "output_type": "execute_result"
    }
   ],
   "source": [
    "categorical_df['renew_offer_type'] = list(map(lambda x: 'second' if x in [2] else x, categorical_df['renew_offer_type']))\n",
    "categorical_df['renew_offer_type'].value_counts()"
   ]
  },
  {
   "cell_type": "code",
   "execution_count": 35,
   "id": "fdd87b83",
   "metadata": {},
   "outputs": [
    {
     "name": "stderr",
     "output_type": "stream",
     "text": [
      "C:\\Users\\ALP\\Anaconda3\\lib\\site-packages\\ipykernel_launcher.py:3: SettingWithCopyWarning: \n",
      "A value is trying to be set on a copy of a slice from a DataFrame.\n",
      "Try using .loc[row_indexer,col_indexer] = value instead\n",
      "\n",
      "See the caveats in the documentation: https://pandas.pydata.org/pandas-docs/stable/user_guide/indexing.html#returning-a-view-versus-a-copy\n",
      "  This is separate from the ipykernel package so we can avoid doing imports until\n"
     ]
    },
    {
     "data": {
      "text/plain": [
       "Agent          3477\n",
       "Other Media    3090\n",
       "Branch         2567\n",
       "Name: sales_channel, dtype: int64"
      ]
     },
     "execution_count": 35,
     "metadata": {},
     "output_type": "execute_result"
    }
   ],
   "source": [
    "#sales_channel\n",
    "#Here it makes more sense to group call center and Web together and call it other media, as they are small in count\n",
    "categorical_df['sales_channel'] = list(map(lambda x: 'Other Media' if x in ['Call Center','Web'] else x, categorical_df['sales_channel']))\n",
    "categorical_df['sales_channel'].value_counts()"
   ]
  },
  {
   "cell_type": "code",
   "execution_count": 36,
   "id": "6e59a732",
   "metadata": {},
   "outputs": [
    {
     "name": "stderr",
     "output_type": "stream",
     "text": [
      "C:\\Users\\ALP\\Anaconda3\\lib\\site-packages\\ipykernel_launcher.py:5: SettingWithCopyWarning: \n",
      "A value is trying to be set on a copy of a slice from a DataFrame.\n",
      "Try using .loc[row_indexer,col_indexer] = value instead\n",
      "\n",
      "See the caveats in the documentation: https://pandas.pydata.org/pandas-docs/stable/user_guide/indexing.html#returning-a-view-versus-a-copy\n",
      "  \"\"\"\n"
     ]
    },
    {
     "data": {
      "text/plain": [
       "Four-Door Car    4621\n",
       "Other            4513\n",
       "Name: vehicle_class, dtype: int64"
      ]
     },
     "execution_count": 36,
     "metadata": {},
     "output_type": "execute_result"
    }
   ],
   "source": [
    "# vehicle_class\n",
    "#As 4 door car is significantly higher in count, perhaps it makes sense to group all the others together as other to make it comparable\n",
    "#categorical_df['sales_channel'].value_counts()\n",
    "#categorical_df['vehicle_class'] = list(map(lambda x: 'Other Media' if x in ['Call Center','Web'] else x, categorical_df['vehicle_class']))\n",
    "categorical_df['vehicle_class'] = list(map(lambda x: 'Other' if x in ['Two-Door Car','SUV', 'Sports Car','Luxury SUV','Luxury Car'] else x, categorical_df['vehicle_class']))\n",
    "categorical_df['vehicle_class'].value_counts()"
   ]
  },
  {
   "cell_type": "markdown",
   "id": "866b48b8",
   "metadata": {},
   "source": [
    "# Lab | Feature extraction"
   ]
  },
  {
   "cell_type": "markdown",
   "id": "2bae2b04",
   "metadata": {},
   "source": [
    "Instructions\n",
    "Open the categoricals variable we created before.\n",
    "\n",
    "\n",
    "categoricals = data.select_dtypes(np.object)\n",
    "categoricals.head()\n",
    "\n",
    "Plot all the categorical variables with the proper plot. What can you see?\n",
    "\n",
    "There might be some columns that seem to be redundant, check their values to be sure. What should we do with them?\n",
    "\n",
    "Plot time variable. Can you extract something from it?"
   ]
  },
  {
   "cell_type": "code",
   "execution_count": 37,
   "id": "e732d199",
   "metadata": {},
   "outputs": [],
   "source": [
    "def plot_categorical(df):\n",
    "    for column in df:\n",
    "        plt.figure()\n",
    "        plt.title(column)\n",
    "        df[column].value_counts().plot(kind = 'bar')"
   ]
  },
  {
   "cell_type": "code",
   "execution_count": 38,
   "id": "67f17852",
   "metadata": {},
   "outputs": [
    {
     "data": {
      "image/png": "[encoded data removed]",
      "text/plain": [
       "<Figure size 432x288 with 1 Axes>"
      ]
     },
     "metadata": {
      "needs_background": "light"
     },
     "output_type": "display_data"
    },
    {
     "data": {
      "image/png": "[encoded data removed]",
      "text/plain": [
       "<Figure size 432x288 with 1 Axes>"
      ]
     },
     "metadata": {
      "needs_background": "light"
     },
     "output_type": "display_data"
    },
    {
     "data": {
      "image/png": "[encoded data removed]",
      "text/plain": [
       "<Figure size 432x288 with 1 Axes>"
      ]
     },
     "metadata": {
      "needs_background": "light"
     },
     "output_type": "display_data"
    },
    {
     "data": {
      "image/png": "[encoded data removed]",
      "text/plain": [
       "<Figure size 432x288 with 1 Axes>"
      ]
     },
     "metadata": {
      "needs_background": "light"
     },
     "output_type": "display_data"
    },
    {
     "data": {
      "image/png": "[encoded data removed]",
      "text/plain": [
       "<Figure size 432x288 with 1 Axes>"
      ]
     },
     "metadata": {
      "needs_background": "light"
     },
     "output_type": "display_data"
    },
    {
     "data": {
      "image/png": "[encoded data removed]",
      "text/plain": [
       "<Figure size 432x288 with 1 Axes>"
      ]
     },
     "metadata": {
      "needs_background": "light"
     },
     "output_type": "display_data"
    },
    {
     "data": {
      "image/png": "[encoded data removed]",
      "text/plain": [
       "<Figure size 432x288 with 1 Axes>"
      ]
     },
     "metadata": {
      "needs_background": "light"
     },
     "output_type": "display_data"
    },
    {
     "data": {
      "image/png": "[encoded data removed]",
      "text/plain": [
       "<Figure size 432x288 with 1 Axes>"
      ]
     },
     "metadata": {
      "needs_background": "light"
     },
     "output_type": "display_data"
    },
    {
     "data": {
      "image/png": "[encoded data removed]",
      "text/plain": [
       "<Figure size 432x288 with 1 Axes>"
      ]
     },
     "metadata": {
      "needs_background": "light"
     },
     "output_type": "display_data"
    },
    {
     "data": {
      "image/png": "[encoded data removed]",
      "text/plain": [
       "<Figure size 432x288 with 1 Axes>"
      ]
     },
     "metadata": {
      "needs_background": "light"
     },
     "output_type": "display_data"
    },
    {
     "data": {
      "image/png": "[encoded data removed]",
      "text/plain": [
       "<Figure size 432x288 with 1 Axes>"
      ]
     },
     "metadata": {
      "needs_background": "light"
     },
     "output_type": "display_data"
    },
    {
     "data": {
      "image/png": "[encoded data removed]",
      "text/plain": [
       "<Figure size 432x288 with 1 Axes>"
      ]
     },
     "metadata": {
      "needs_background": "light"
     },
     "output_type": "display_data"
    },
    {
     "data": {
      "image/png": "[encoded data removed]",
      "text/plain": [
       "<Figure size 432x288 with 1 Axes>"
      ]
     },
     "metadata": {
      "needs_background": "light"
     },
     "output_type": "display_data"
    },
    {
     "data": {
      "image/png": "[encoded data removed]",
      "text/plain": [
       "<Figure size 432x288 with 1 Axes>"
      ]
     },
     "metadata": {
      "needs_background": "light"
     },
     "output_type": "display_data"
    },
    {
     "data": {
      "image/png": "[encoded data removed]",
      "text/plain": [
       "<Figure size 432x288 with 1 Axes>"
      ]
     },
     "metadata": {
      "needs_background": "light"
     },
     "output_type": "display_data"
    },
    {
     "data": {
      "image/png": "[encoded data removed]",
      "text/plain": [
       "<Figure size 432x288 with 1 Axes>"
      ]
     },
     "metadata": {
      "needs_background": "light"
     },
     "output_type": "display_data"
    }
   ],
   "source": [
    "plot_categorical(categorical_df)"
   ]
  },
  {
   "cell_type": "markdown",
   "id": "04d91f46",
   "metadata": {},
   "source": [
    "- It appears that there are still columns, with significance class imbalance, for example the response, coverage, location code\n",
    "\n",
    "\n",
    "- For me the redundant columns are: **policy** as policy_type can be kept instead, they basically have the same information but policy is just way more specific, and for the sake of encoding we dont need it to be too specific.\n",
    "  "
   ]
  },
  {
   "cell_type": "code",
   "execution_count": 39,
   "id": "7241c38e",
   "metadata": {},
   "outputs": [
    {
     "name": "stderr",
     "output_type": "stream",
     "text": [
      "C:\\Users\\ALP\\Anaconda3\\lib\\site-packages\\pandas\\core\\frame.py:4913: SettingWithCopyWarning: \n",
      "A value is trying to be set on a copy of a slice from a DataFrame\n",
      "\n",
      "See the caveats in the documentation: https://pandas.pydata.org/pandas-docs/stable/user_guide/indexing.html#returning-a-view-versus-a-copy\n",
      "  errors=errors,\n"
     ]
    }
   ],
   "source": [
    "#Lets remove the following columns 'policy' as mentioned in previous\n",
    "#comments\n",
    "categorical_df.drop(columns=['policy'], inplace=True)"
   ]
  },
  {
   "cell_type": "code",
   "execution_count": 40,
   "id": "98294f1e",
   "metadata": {},
   "outputs": [
    {
     "data": {
      "text/html": [
       "<div>\n",
       "<style scoped>\n",
       "    .dataframe tbody tr th:only-of-type {\n",
       "        vertical-align: middle;\n",
       "    }\n",
       "\n",
       "    .dataframe tbody tr th {\n",
       "        vertical-align: top;\n",
       "    }\n",
       "\n",
       "    .dataframe thead th {\n",
       "        text-align: right;\n",
       "    }\n",
       "</style>\n",
       "<table border=\"1\" class=\"dataframe\">\n",
       "  <thead>\n",
       "    <tr style=\"text-align: right;\">\n",
       "      <th></th>\n",
       "      <th>state</th>\n",
       "      <th>response</th>\n",
       "      <th>coverage</th>\n",
       "      <th>education</th>\n",
       "      <th>employmentstatus</th>\n",
       "      <th>gender</th>\n",
       "      <th>location_code</th>\n",
       "      <th>marital_status</th>\n",
       "      <th>number_of_open_complaints</th>\n",
       "      <th>number_of_policies</th>\n",
       "      <th>policy_type</th>\n",
       "      <th>renew_offer_type</th>\n",
       "      <th>sales_channel</th>\n",
       "      <th>vehicle_class</th>\n",
       "      <th>vehicle_size</th>\n",
       "    </tr>\n",
       "  </thead>\n",
       "  <tbody>\n",
       "    <tr>\n",
       "      <th>0</th>\n",
       "      <td>Other</td>\n",
       "      <td>No</td>\n",
       "      <td>Basic</td>\n",
       "      <td>University Degree</td>\n",
       "      <td>Employed</td>\n",
       "      <td>F</td>\n",
       "      <td>Suburban</td>\n",
       "      <td>Married</td>\n",
       "      <td>None</td>\n",
       "      <td>1</td>\n",
       "      <td>Corporate Auto</td>\n",
       "      <td>first</td>\n",
       "      <td>Agent</td>\n",
       "      <td>Other</td>\n",
       "      <td>Medsize</td>\n",
       "    </tr>\n",
       "    <tr>\n",
       "      <th>1</th>\n",
       "      <td>Other</td>\n",
       "      <td>No</td>\n",
       "      <td>Extended</td>\n",
       "      <td>University Degree</td>\n",
       "      <td>Other</td>\n",
       "      <td>F</td>\n",
       "      <td>Suburban</td>\n",
       "      <td>Single</td>\n",
       "      <td>None</td>\n",
       "      <td>3 or more</td>\n",
       "      <td>Personal Auto</td>\n",
       "      <td>other</td>\n",
       "      <td>Agent</td>\n",
       "      <td>Four-Door Car</td>\n",
       "      <td>Medsize</td>\n",
       "    </tr>\n",
       "    <tr>\n",
       "      <th>2</th>\n",
       "      <td>Other</td>\n",
       "      <td>No</td>\n",
       "      <td>Premium</td>\n",
       "      <td>University Degree</td>\n",
       "      <td>Employed</td>\n",
       "      <td>F</td>\n",
       "      <td>Suburban</td>\n",
       "      <td>Married</td>\n",
       "      <td>None</td>\n",
       "      <td>2</td>\n",
       "      <td>Personal Auto</td>\n",
       "      <td>first</td>\n",
       "      <td>Agent</td>\n",
       "      <td>Other</td>\n",
       "      <td>Medsize</td>\n",
       "    </tr>\n",
       "    <tr>\n",
       "      <th>3</th>\n",
       "      <td>California</td>\n",
       "      <td>No</td>\n",
       "      <td>Basic</td>\n",
       "      <td>University Degree</td>\n",
       "      <td>Other</td>\n",
       "      <td>M</td>\n",
       "      <td>Suburban</td>\n",
       "      <td>Married</td>\n",
       "      <td>None</td>\n",
       "      <td>3 or more</td>\n",
       "      <td>Corporate Auto</td>\n",
       "      <td>first</td>\n",
       "      <td>Other Media</td>\n",
       "      <td>Other</td>\n",
       "      <td>Medsize</td>\n",
       "    </tr>\n",
       "    <tr>\n",
       "      <th>4</th>\n",
       "      <td>Other</td>\n",
       "      <td>No</td>\n",
       "      <td>Basic</td>\n",
       "      <td>University Degree</td>\n",
       "      <td>Employed</td>\n",
       "      <td>M</td>\n",
       "      <td>Rural</td>\n",
       "      <td>Single</td>\n",
       "      <td>None</td>\n",
       "      <td>1</td>\n",
       "      <td>Personal Auto</td>\n",
       "      <td>first</td>\n",
       "      <td>Agent</td>\n",
       "      <td>Four-Door Car</td>\n",
       "      <td>Medsize</td>\n",
       "    </tr>\n",
       "    <tr>\n",
       "      <th>...</th>\n",
       "      <td>...</td>\n",
       "      <td>...</td>\n",
       "      <td>...</td>\n",
       "      <td>...</td>\n",
       "      <td>...</td>\n",
       "      <td>...</td>\n",
       "      <td>...</td>\n",
       "      <td>...</td>\n",
       "      <td>...</td>\n",
       "      <td>...</td>\n",
       "      <td>...</td>\n",
       "      <td>...</td>\n",
       "      <td>...</td>\n",
       "      <td>...</td>\n",
       "      <td>...</td>\n",
       "    </tr>\n",
       "    <tr>\n",
       "      <th>9129</th>\n",
       "      <td>California</td>\n",
       "      <td>No</td>\n",
       "      <td>Basic</td>\n",
       "      <td>University Degree</td>\n",
       "      <td>Employed</td>\n",
       "      <td>M</td>\n",
       "      <td>Urban</td>\n",
       "      <td>Married</td>\n",
       "      <td>None</td>\n",
       "      <td>2</td>\n",
       "      <td>Personal Auto</td>\n",
       "      <td>second</td>\n",
       "      <td>Other Media</td>\n",
       "      <td>Four-Door Car</td>\n",
       "      <td>Medsize</td>\n",
       "    </tr>\n",
       "    <tr>\n",
       "      <th>9130</th>\n",
       "      <td>California</td>\n",
       "      <td>Yes</td>\n",
       "      <td>Extended</td>\n",
       "      <td>College</td>\n",
       "      <td>Employed</td>\n",
       "      <td>F</td>\n",
       "      <td>Suburban</td>\n",
       "      <td>Divorced</td>\n",
       "      <td>None</td>\n",
       "      <td>1</td>\n",
       "      <td>Corporate Auto</td>\n",
       "      <td>first</td>\n",
       "      <td>Branch</td>\n",
       "      <td>Four-Door Car</td>\n",
       "      <td>Medsize</td>\n",
       "    </tr>\n",
       "    <tr>\n",
       "      <th>9131</th>\n",
       "      <td>California</td>\n",
       "      <td>No</td>\n",
       "      <td>Extended</td>\n",
       "      <td>University Degree</td>\n",
       "      <td>Other</td>\n",
       "      <td>M</td>\n",
       "      <td>Suburban</td>\n",
       "      <td>Single</td>\n",
       "      <td>At least 1</td>\n",
       "      <td>2</td>\n",
       "      <td>Corporate Auto</td>\n",
       "      <td>first</td>\n",
       "      <td>Branch</td>\n",
       "      <td>Four-Door Car</td>\n",
       "      <td>Medsize</td>\n",
       "    </tr>\n",
       "    <tr>\n",
       "      <th>9132</th>\n",
       "      <td>California</td>\n",
       "      <td>No</td>\n",
       "      <td>Extended</td>\n",
       "      <td>College</td>\n",
       "      <td>Employed</td>\n",
       "      <td>M</td>\n",
       "      <td>Suburban</td>\n",
       "      <td>Married</td>\n",
       "      <td>None</td>\n",
       "      <td>3 or more</td>\n",
       "      <td>Personal Auto</td>\n",
       "      <td>other</td>\n",
       "      <td>Branch</td>\n",
       "      <td>Four-Door Car</td>\n",
       "      <td>Large</td>\n",
       "    </tr>\n",
       "    <tr>\n",
       "      <th>9133</th>\n",
       "      <td>California</td>\n",
       "      <td>No</td>\n",
       "      <td>Extended</td>\n",
       "      <td>College</td>\n",
       "      <td>Other</td>\n",
       "      <td>M</td>\n",
       "      <td>Suburban</td>\n",
       "      <td>Single</td>\n",
       "      <td>None</td>\n",
       "      <td>1</td>\n",
       "      <td>Corporate Auto</td>\n",
       "      <td>other</td>\n",
       "      <td>Other Media</td>\n",
       "      <td>Other</td>\n",
       "      <td>Medsize</td>\n",
       "    </tr>\n",
       "  </tbody>\n",
       "</table>\n",
       "<p>9134 rows × 15 columns</p>\n",
       "</div>"
      ],
      "text/plain": [
       "           state response  coverage          education employmentstatus  \\\n",
       "0          Other       No     Basic  University Degree         Employed   \n",
       "1          Other       No  Extended  University Degree            Other   \n",
       "2          Other       No   Premium  University Degree         Employed   \n",
       "3     California       No     Basic  University Degree            Other   \n",
       "4          Other       No     Basic  University Degree         Employed   \n",
       "...          ...      ...       ...                ...              ...   \n",
       "9129  California       No     Basic  University Degree         Employed   \n",
       "9130  California      Yes  Extended            College         Employed   \n",
       "9131  California       No  Extended  University Degree            Other   \n",
       "9132  California       No  Extended            College         Employed   \n",
       "9133  California       No  Extended            College            Other   \n",
       "\n",
       "     gender location_code marital_status number_of_open_complaints  \\\n",
       "0         F      Suburban        Married                      None   \n",
       "1         F      Suburban         Single                      None   \n",
       "2         F      Suburban        Married                      None   \n",
       "3         M      Suburban        Married                      None   \n",
       "4         M         Rural         Single                      None   \n",
       "...     ...           ...            ...                       ...   \n",
       "9129      M         Urban        Married                      None   \n",
       "9130      F      Suburban       Divorced                      None   \n",
       "9131      M      Suburban         Single                At least 1   \n",
       "9132      M      Suburban        Married                      None   \n",
       "9133      M      Suburban         Single                      None   \n",
       "\n",
       "     number_of_policies     policy_type renew_offer_type sales_channel  \\\n",
       "0                     1  Corporate Auto            first         Agent   \n",
       "1             3 or more   Personal Auto            other         Agent   \n",
       "2                     2   Personal Auto            first         Agent   \n",
       "3             3 or more  Corporate Auto            first   Other Media   \n",
       "4                     1   Personal Auto            first         Agent   \n",
       "...                 ...             ...              ...           ...   \n",
       "9129                  2   Personal Auto           second   Other Media   \n",
       "9130                  1  Corporate Auto            first        Branch   \n",
       "9131                  2  Corporate Auto            first        Branch   \n",
       "9132          3 or more   Personal Auto            other        Branch   \n",
       "9133                  1  Corporate Auto            other   Other Media   \n",
       "\n",
       "      vehicle_class vehicle_size  \n",
       "0             Other      Medsize  \n",
       "1     Four-Door Car      Medsize  \n",
       "2             Other      Medsize  \n",
       "3             Other      Medsize  \n",
       "4     Four-Door Car      Medsize  \n",
       "...             ...          ...  \n",
       "9129  Four-Door Car      Medsize  \n",
       "9130  Four-Door Car      Medsize  \n",
       "9131  Four-Door Car      Medsize  \n",
       "9132  Four-Door Car        Large  \n",
       "9133          Other      Medsize  \n",
       "\n",
       "[9134 rows x 15 columns]"
      ]
     },
     "execution_count": 40,
     "metadata": {},
     "output_type": "execute_result"
    }
   ],
   "source": [
    "categorical_df"
   ]
  },
  {
   "cell_type": "code",
   "execution_count": 41,
   "id": "d0e8a5d9",
   "metadata": {},
   "outputs": [
    {
     "data": {
      "text/plain": [
       "<AxesSubplot:title={'center':'Effective to date'}>"
      ]
     },
     "execution_count": 41,
     "metadata": {},
     "output_type": "execute_result"
    },
    {
     "data": {
      "image/png": "[encoded data removed]",
      "text/plain": [
       "<Figure size 432x288 with 1 Axes>"
      ]
     },
     "metadata": {
      "needs_background": "light"
     },
     "output_type": "display_data"
    }
   ],
   "source": [
    "#Plot time variable. Can you extract something from it?\n",
    "plt.figure()\n",
    "plt.title('Effective to date')\n",
    "numerical_df['effective_to_date'].value_counts().plot(kind = 'bar')"
   ]
  },
  {
   "cell_type": "markdown",
   "id": "d828f490",
   "metadata": {},
   "source": [
    "From this I can see that all the dates are almost equally spread out in the counts, but not quite. I have kept it the way it is, as I may want to label/ordinal encode the column. \n",
    "\n",
    "The other argument is that there are just way too many date values, and i wouldnt make sense to include it into any model. So for this reason I could also choose to drop date. But it all depends on how the model performs with or without it. "
   ]
  },
  {
   "cell_type": "markdown",
   "id": "f09661a7",
   "metadata": {},
   "source": [
    " "
   ]
  },
  {
   "cell_type": "markdown",
   "id": "a18bd5b2",
   "metadata": {},
   "source": [
    "# Lab | Comparing regression models"
   ]
  },
  {
   "cell_type": "markdown",
   "id": "9e72bfd3",
   "metadata": {},
   "source": [
    "1. In this final lab, we will model our data. Import sklearn train_test_split and separate the data.\n",
    "\n",
    "\n",
    "2. We will start with removing outliers, if you have not already done so. We have discussed different methods to remove outliers. Use the one you feel more comfortable with, define a function for that. Use the function to remove the outliers and apply it to the dataframe."
   ]
  },
  {
   "cell_type": "code",
   "execution_count": 42,
   "id": "857e4b6b",
   "metadata": {},
   "outputs": [],
   "source": [
    "#Before doing train test split, let me join all the columns of numerical and categorical together\n",
    "\n",
    "data = pd.concat([numerical_df, categorical_df], axis =1)\n"
   ]
  },
  {
   "cell_type": "code",
   "execution_count": 43,
   "id": "e2d868f0",
   "metadata": {},
   "outputs": [
    {
     "data": {
      "text/html": [
       "<div>\n",
       "<style scoped>\n",
       "    .dataframe tbody tr th:only-of-type {\n",
       "        vertical-align: middle;\n",
       "    }\n",
       "\n",
       "    .dataframe tbody tr th {\n",
       "        vertical-align: top;\n",
       "    }\n",
       "\n",
       "    .dataframe thead th {\n",
       "        text-align: right;\n",
       "    }\n",
       "</style>\n",
       "<table border=\"1\" class=\"dataframe\">\n",
       "  <thead>\n",
       "    <tr style=\"text-align: right;\">\n",
       "      <th></th>\n",
       "      <th>customer_lifetime_value</th>\n",
       "      <th>effective_to_date</th>\n",
       "      <th>income</th>\n",
       "      <th>monthly_premium_auto</th>\n",
       "      <th>months_since_last_claim</th>\n",
       "      <th>months_since_policy_inception</th>\n",
       "      <th>total_claim_amount</th>\n",
       "      <th>state</th>\n",
       "      <th>response</th>\n",
       "      <th>coverage</th>\n",
       "      <th>...</th>\n",
       "      <th>gender</th>\n",
       "      <th>location_code</th>\n",
       "      <th>marital_status</th>\n",
       "      <th>number_of_open_complaints</th>\n",
       "      <th>number_of_policies</th>\n",
       "      <th>policy_type</th>\n",
       "      <th>renew_offer_type</th>\n",
       "      <th>sales_channel</th>\n",
       "      <th>vehicle_class</th>\n",
       "      <th>vehicle_size</th>\n",
       "    </tr>\n",
       "  </thead>\n",
       "  <tbody>\n",
       "    <tr>\n",
       "      <th>0</th>\n",
       "      <td>2763.519279</td>\n",
       "      <td>2011-02-24</td>\n",
       "      <td>56274</td>\n",
       "      <td>69</td>\n",
       "      <td>32</td>\n",
       "      <td>5</td>\n",
       "      <td>384.811147</td>\n",
       "      <td>Other</td>\n",
       "      <td>No</td>\n",
       "      <td>Basic</td>\n",
       "      <td>...</td>\n",
       "      <td>F</td>\n",
       "      <td>Suburban</td>\n",
       "      <td>Married</td>\n",
       "      <td>None</td>\n",
       "      <td>1</td>\n",
       "      <td>Corporate Auto</td>\n",
       "      <td>first</td>\n",
       "      <td>Agent</td>\n",
       "      <td>Other</td>\n",
       "      <td>Medsize</td>\n",
       "    </tr>\n",
       "    <tr>\n",
       "      <th>1</th>\n",
       "      <td>6979.535903</td>\n",
       "      <td>2011-01-31</td>\n",
       "      <td>0</td>\n",
       "      <td>94</td>\n",
       "      <td>13</td>\n",
       "      <td>42</td>\n",
       "      <td>1131.464935</td>\n",
       "      <td>Other</td>\n",
       "      <td>No</td>\n",
       "      <td>Extended</td>\n",
       "      <td>...</td>\n",
       "      <td>F</td>\n",
       "      <td>Suburban</td>\n",
       "      <td>Single</td>\n",
       "      <td>None</td>\n",
       "      <td>3 or more</td>\n",
       "      <td>Personal Auto</td>\n",
       "      <td>other</td>\n",
       "      <td>Agent</td>\n",
       "      <td>Four-Door Car</td>\n",
       "      <td>Medsize</td>\n",
       "    </tr>\n",
       "    <tr>\n",
       "      <th>2</th>\n",
       "      <td>12887.431650</td>\n",
       "      <td>2011-02-19</td>\n",
       "      <td>48767</td>\n",
       "      <td>108</td>\n",
       "      <td>18</td>\n",
       "      <td>38</td>\n",
       "      <td>566.472247</td>\n",
       "      <td>Other</td>\n",
       "      <td>No</td>\n",
       "      <td>Premium</td>\n",
       "      <td>...</td>\n",
       "      <td>F</td>\n",
       "      <td>Suburban</td>\n",
       "      <td>Married</td>\n",
       "      <td>None</td>\n",
       "      <td>2</td>\n",
       "      <td>Personal Auto</td>\n",
       "      <td>first</td>\n",
       "      <td>Agent</td>\n",
       "      <td>Other</td>\n",
       "      <td>Medsize</td>\n",
       "    </tr>\n",
       "    <tr>\n",
       "      <th>3</th>\n",
       "      <td>7645.861827</td>\n",
       "      <td>2011-01-20</td>\n",
       "      <td>0</td>\n",
       "      <td>106</td>\n",
       "      <td>18</td>\n",
       "      <td>65</td>\n",
       "      <td>529.881344</td>\n",
       "      <td>California</td>\n",
       "      <td>No</td>\n",
       "      <td>Basic</td>\n",
       "      <td>...</td>\n",
       "      <td>M</td>\n",
       "      <td>Suburban</td>\n",
       "      <td>Married</td>\n",
       "      <td>None</td>\n",
       "      <td>3 or more</td>\n",
       "      <td>Corporate Auto</td>\n",
       "      <td>first</td>\n",
       "      <td>Other Media</td>\n",
       "      <td>Other</td>\n",
       "      <td>Medsize</td>\n",
       "    </tr>\n",
       "    <tr>\n",
       "      <th>4</th>\n",
       "      <td>2813.692575</td>\n",
       "      <td>2011-02-03</td>\n",
       "      <td>43836</td>\n",
       "      <td>73</td>\n",
       "      <td>12</td>\n",
       "      <td>44</td>\n",
       "      <td>138.130879</td>\n",
       "      <td>Other</td>\n",
       "      <td>No</td>\n",
       "      <td>Basic</td>\n",
       "      <td>...</td>\n",
       "      <td>M</td>\n",
       "      <td>Rural</td>\n",
       "      <td>Single</td>\n",
       "      <td>None</td>\n",
       "      <td>1</td>\n",
       "      <td>Personal Auto</td>\n",
       "      <td>first</td>\n",
       "      <td>Agent</td>\n",
       "      <td>Four-Door Car</td>\n",
       "      <td>Medsize</td>\n",
       "    </tr>\n",
       "  </tbody>\n",
       "</table>\n",
       "<p>5 rows × 22 columns</p>\n",
       "</div>"
      ],
      "text/plain": [
       "   customer_lifetime_value effective_to_date  income  monthly_premium_auto  \\\n",
       "0              2763.519279        2011-02-24   56274                    69   \n",
       "1              6979.535903        2011-01-31       0                    94   \n",
       "2             12887.431650        2011-02-19   48767                   108   \n",
       "3              7645.861827        2011-01-20       0                   106   \n",
       "4              2813.692575        2011-02-03   43836                    73   \n",
       "\n",
       "   months_since_last_claim  months_since_policy_inception  total_claim_amount  \\\n",
       "0                       32                              5          384.811147   \n",
       "1                       13                             42         1131.464935   \n",
       "2                       18                             38          566.472247   \n",
       "3                       18                             65          529.881344   \n",
       "4                       12                             44          138.130879   \n",
       "\n",
       "        state response  coverage  ... gender location_code marital_status  \\\n",
       "0       Other       No     Basic  ...      F      Suburban        Married   \n",
       "1       Other       No  Extended  ...      F      Suburban         Single   \n",
       "2       Other       No   Premium  ...      F      Suburban        Married   \n",
       "3  California       No     Basic  ...      M      Suburban        Married   \n",
       "4       Other       No     Basic  ...      M         Rural         Single   \n",
       "\n",
       "  number_of_open_complaints number_of_policies     policy_type  \\\n",
       "0                      None                  1  Corporate Auto   \n",
       "1                      None          3 or more   Personal Auto   \n",
       "2                      None                  2   Personal Auto   \n",
       "3                      None          3 or more  Corporate Auto   \n",
       "4                      None                  1   Personal Auto   \n",
       "\n",
       "  renew_offer_type sales_channel  vehicle_class vehicle_size  \n",
       "0            first         Agent          Other      Medsize  \n",
       "1            other         Agent  Four-Door Car      Medsize  \n",
       "2            first         Agent          Other      Medsize  \n",
       "3            first   Other Media          Other      Medsize  \n",
       "4            first         Agent  Four-Door Car      Medsize  \n",
       "\n",
       "[5 rows x 22 columns]"
      ]
     },
     "execution_count": 43,
     "metadata": {},
     "output_type": "execute_result"
    }
   ],
   "source": [
    "data.head()"
   ]
  },
  {
   "cell_type": "code",
   "execution_count": 44,
   "id": "9887e8a5",
   "metadata": {},
   "outputs": [
    {
     "data": {
      "text/plain": [
       "<AxesSubplot:>"
      ]
     },
     "execution_count": 44,
     "metadata": {},
     "output_type": "execute_result"
    },
    {
     "data": {
      "image/png": "[encoded data removed]",
      "text/plain": [
       "<Figure size 432x288 with 1 Axes>"
      ]
     },
     "metadata": {
      "needs_background": "light"
     },
     "output_type": "display_data"
    }
   ],
   "source": [
    "# Before doing any split, I will remove outliers if I find any\n",
    "#Based on previous labs, I noticed outliers in customer_lifetime_value and total_claim_amount\n",
    "#As these are highly skewed data, I do not want to remove all the points, just the one s I think are genuine outliers\n",
    "\n",
    "plt.figure()\n",
    "data.boxplot(['customer_lifetime_value'])"
   ]
  },
  {
   "cell_type": "code",
   "execution_count": 45,
   "id": "08ced2d7",
   "metadata": {},
   "outputs": [
    {
     "data": {
      "text/plain": [
       "<AxesSubplot:>"
      ]
     },
     "execution_count": 45,
     "metadata": {},
     "output_type": "execute_result"
    },
    {
     "data": {
      "image/png": "[encoded data removed]",
      "text/plain": [
       "<Figure size 432x288 with 1 Axes>"
      ]
     },
     "metadata": {
      "needs_background": "light"
     },
     "output_type": "display_data"
    }
   ],
   "source": [
    "plt.figure()\n",
    "data.boxplot(['total_claim_amount'])"
   ]
  },
  {
   "cell_type": "code",
   "execution_count": 46,
   "id": "841fb9cf",
   "metadata": {},
   "outputs": [],
   "source": [
    "#Here is a function for cleaning customer_lifetime_value and total_claim_amount of the very few outliers I observed in\n",
    "#the box plot. Normally I would clean outliers by looking at the upper limit, however these two columns are highly skewed,\n",
    "#and not all the points are outliers, therefore I do not want to lose that many data points\n",
    "\n",
    "def outlier_cleaner(df, col, col2):\n",
    "    df2 = df.copy()\n",
    "    if col == 'customer_lifetime_value' and col2 == 'total_claim_amount':\n",
    "        for i in range(3):\n",
    "            df2 = df2.drop(df2['customer_lifetime_value'].idxmax())\n",
    "            df2 = df2.drop(df2['total_claim_amount'].idxmax())\n",
    "    else:\n",
    "        pass\n",
    "    \n",
    "    return df2"
   ]
  },
  {
   "cell_type": "code",
   "execution_count": 47,
   "id": "ebc43ff2",
   "metadata": {},
   "outputs": [],
   "source": [
    "data = outlier_cleaner(data,'customer_lifetime_value', 'total_claim_amount')"
   ]
  },
  {
   "cell_type": "code",
   "execution_count": 48,
   "id": "2baedde7",
   "metadata": {},
   "outputs": [
    {
     "name": "stdout",
     "output_type": "stream",
     "text": [
      "67907.2705\n"
     ]
    },
    {
     "data": {
      "text/plain": [
       "7283"
      ]
     },
     "execution_count": 48,
     "metadata": {},
     "output_type": "execute_result"
    }
   ],
   "source": [
    "print(data['customer_lifetime_value'].max())\n",
    "data['customer_lifetime_value'].idxmax()"
   ]
  },
  {
   "cell_type": "code",
   "execution_count": 49,
   "id": "f0e861f2",
   "metadata": {},
   "outputs": [
    {
     "name": "stdout",
     "output_type": "stream",
     "text": [
      "2893.239678\n"
     ]
    },
    {
     "data": {
      "text/plain": [
       "888"
      ]
     },
     "execution_count": 49,
     "metadata": {},
     "output_type": "execute_result"
    }
   ],
   "source": [
    "print(customer_df['total_claim_amount'].max())\n",
    "customer_df['total_claim_amount'].idxmax()"
   ]
  },
  {
   "cell_type": "code",
   "execution_count": 50,
   "id": "874e6e10",
   "metadata": {},
   "outputs": [
    {
     "data": {
      "text/plain": [
       "<AxesSubplot:>"
      ]
     },
     "execution_count": 50,
     "metadata": {},
     "output_type": "execute_result"
    },
    {
     "data": {
      "image/png": "[encoded data removed]",
      "text/plain": [
       "<Figure size 432x288 with 1 Axes>"
      ]
     },
     "metadata": {
      "needs_background": "light"
     },
     "output_type": "display_data"
    }
   ],
   "source": [
    "#Looks much better \n",
    "plt.figure()\n",
    "data.boxplot(['customer_lifetime_value'])"
   ]
  },
  {
   "cell_type": "code",
   "execution_count": 51,
   "id": "c398653d",
   "metadata": {},
   "outputs": [
    {
     "data": {
      "text/plain": [
       "<AxesSubplot:>"
      ]
     },
     "execution_count": 51,
     "metadata": {},
     "output_type": "execute_result"
    },
    {
     "data": {
      "image/png": "[encoded data removed]",
      "text/plain": [
       "<Figure size 432x288 with 1 Axes>"
      ]
     },
     "metadata": {
      "needs_background": "light"
     },
     "output_type": "display_data"
    }
   ],
   "source": [
    "#This looks fine to me now, just highly skewed\n",
    "plt.figure()\n",
    "data.boxplot(['total_claim_amount'])"
   ]
  },
  {
   "cell_type": "code",
   "execution_count": 52,
   "id": "ae999dc1",
   "metadata": {},
   "outputs": [],
   "source": [
    "#Next Step I will do the X - y split\n",
    "\n",
    "X = data.drop('total_claim_amount',axis=1)\n",
    "y = data[['total_claim_amount']]"
   ]
  },
  {
   "cell_type": "code",
   "execution_count": 53,
   "id": "09f485df",
   "metadata": {},
   "outputs": [
    {
     "data": {
      "text/html": [
       "<div>\n",
       "<style scoped>\n",
       "    .dataframe tbody tr th:only-of-type {\n",
       "        vertical-align: middle;\n",
       "    }\n",
       "\n",
       "    .dataframe tbody tr th {\n",
       "        vertical-align: top;\n",
       "    }\n",
       "\n",
       "    .dataframe thead th {\n",
       "        text-align: right;\n",
       "    }\n",
       "</style>\n",
       "<table border=\"1\" class=\"dataframe\">\n",
       "  <thead>\n",
       "    <tr style=\"text-align: right;\">\n",
       "      <th></th>\n",
       "      <th>customer_lifetime_value</th>\n",
       "      <th>effective_to_date</th>\n",
       "      <th>income</th>\n",
       "      <th>monthly_premium_auto</th>\n",
       "      <th>months_since_last_claim</th>\n",
       "      <th>months_since_policy_inception</th>\n",
       "      <th>state</th>\n",
       "      <th>response</th>\n",
       "      <th>coverage</th>\n",
       "      <th>education</th>\n",
       "      <th>...</th>\n",
       "      <th>gender</th>\n",
       "      <th>location_code</th>\n",
       "      <th>marital_status</th>\n",
       "      <th>number_of_open_complaints</th>\n",
       "      <th>number_of_policies</th>\n",
       "      <th>policy_type</th>\n",
       "      <th>renew_offer_type</th>\n",
       "      <th>sales_channel</th>\n",
       "      <th>vehicle_class</th>\n",
       "      <th>vehicle_size</th>\n",
       "    </tr>\n",
       "  </thead>\n",
       "  <tbody>\n",
       "    <tr>\n",
       "      <th>0</th>\n",
       "      <td>2763.519279</td>\n",
       "      <td>2011-02-24</td>\n",
       "      <td>56274</td>\n",
       "      <td>69</td>\n",
       "      <td>32</td>\n",
       "      <td>5</td>\n",
       "      <td>Other</td>\n",
       "      <td>No</td>\n",
       "      <td>Basic</td>\n",
       "      <td>University Degree</td>\n",
       "      <td>...</td>\n",
       "      <td>F</td>\n",
       "      <td>Suburban</td>\n",
       "      <td>Married</td>\n",
       "      <td>None</td>\n",
       "      <td>1</td>\n",
       "      <td>Corporate Auto</td>\n",
       "      <td>first</td>\n",
       "      <td>Agent</td>\n",
       "      <td>Other</td>\n",
       "      <td>Medsize</td>\n",
       "    </tr>\n",
       "    <tr>\n",
       "      <th>1</th>\n",
       "      <td>6979.535903</td>\n",
       "      <td>2011-01-31</td>\n",
       "      <td>0</td>\n",
       "      <td>94</td>\n",
       "      <td>13</td>\n",
       "      <td>42</td>\n",
       "      <td>Other</td>\n",
       "      <td>No</td>\n",
       "      <td>Extended</td>\n",
       "      <td>University Degree</td>\n",
       "      <td>...</td>\n",
       "      <td>F</td>\n",
       "      <td>Suburban</td>\n",
       "      <td>Single</td>\n",
       "      <td>None</td>\n",
       "      <td>3 or more</td>\n",
       "      <td>Personal Auto</td>\n",
       "      <td>other</td>\n",
       "      <td>Agent</td>\n",
       "      <td>Four-Door Car</td>\n",
       "      <td>Medsize</td>\n",
       "    </tr>\n",
       "    <tr>\n",
       "      <th>2</th>\n",
       "      <td>12887.431650</td>\n",
       "      <td>2011-02-19</td>\n",
       "      <td>48767</td>\n",
       "      <td>108</td>\n",
       "      <td>18</td>\n",
       "      <td>38</td>\n",
       "      <td>Other</td>\n",
       "      <td>No</td>\n",
       "      <td>Premium</td>\n",
       "      <td>University Degree</td>\n",
       "      <td>...</td>\n",
       "      <td>F</td>\n",
       "      <td>Suburban</td>\n",
       "      <td>Married</td>\n",
       "      <td>None</td>\n",
       "      <td>2</td>\n",
       "      <td>Personal Auto</td>\n",
       "      <td>first</td>\n",
       "      <td>Agent</td>\n",
       "      <td>Other</td>\n",
       "      <td>Medsize</td>\n",
       "    </tr>\n",
       "    <tr>\n",
       "      <th>3</th>\n",
       "      <td>7645.861827</td>\n",
       "      <td>2011-01-20</td>\n",
       "      <td>0</td>\n",
       "      <td>106</td>\n",
       "      <td>18</td>\n",
       "      <td>65</td>\n",
       "      <td>California</td>\n",
       "      <td>No</td>\n",
       "      <td>Basic</td>\n",
       "      <td>University Degree</td>\n",
       "      <td>...</td>\n",
       "      <td>M</td>\n",
       "      <td>Suburban</td>\n",
       "      <td>Married</td>\n",
       "      <td>None</td>\n",
       "      <td>3 or more</td>\n",
       "      <td>Corporate Auto</td>\n",
       "      <td>first</td>\n",
       "      <td>Other Media</td>\n",
       "      <td>Other</td>\n",
       "      <td>Medsize</td>\n",
       "    </tr>\n",
       "    <tr>\n",
       "      <th>4</th>\n",
       "      <td>2813.692575</td>\n",
       "      <td>2011-02-03</td>\n",
       "      <td>43836</td>\n",
       "      <td>73</td>\n",
       "      <td>12</td>\n",
       "      <td>44</td>\n",
       "      <td>Other</td>\n",
       "      <td>No</td>\n",
       "      <td>Basic</td>\n",
       "      <td>University Degree</td>\n",
       "      <td>...</td>\n",
       "      <td>M</td>\n",
       "      <td>Rural</td>\n",
       "      <td>Single</td>\n",
       "      <td>None</td>\n",
       "      <td>1</td>\n",
       "      <td>Personal Auto</td>\n",
       "      <td>first</td>\n",
       "      <td>Agent</td>\n",
       "      <td>Four-Door Car</td>\n",
       "      <td>Medsize</td>\n",
       "    </tr>\n",
       "  </tbody>\n",
       "</table>\n",
       "<p>5 rows × 21 columns</p>\n",
       "</div>"
      ],
      "text/plain": [
       "   customer_lifetime_value effective_to_date  income  monthly_premium_auto  \\\n",
       "0              2763.519279        2011-02-24   56274                    69   \n",
       "1              6979.535903        2011-01-31       0                    94   \n",
       "2             12887.431650        2011-02-19   48767                   108   \n",
       "3              7645.861827        2011-01-20       0                   106   \n",
       "4              2813.692575        2011-02-03   43836                    73   \n",
       "\n",
       "   months_since_last_claim  months_since_policy_inception       state  \\\n",
       "0                       32                              5       Other   \n",
       "1                       13                             42       Other   \n",
       "2                       18                             38       Other   \n",
       "3                       18                             65  California   \n",
       "4                       12                             44       Other   \n",
       "\n",
       "  response  coverage          education  ... gender location_code  \\\n",
       "0       No     Basic  University Degree  ...      F      Suburban   \n",
       "1       No  Extended  University Degree  ...      F      Suburban   \n",
       "2       No   Premium  University Degree  ...      F      Suburban   \n",
       "3       No     Basic  University Degree  ...      M      Suburban   \n",
       "4       No     Basic  University Degree  ...      M         Rural   \n",
       "\n",
       "  marital_status number_of_open_complaints number_of_policies     policy_type  \\\n",
       "0        Married                      None                  1  Corporate Auto   \n",
       "1         Single                      None          3 or more   Personal Auto   \n",
       "2        Married                      None                  2   Personal Auto   \n",
       "3        Married                      None          3 or more  Corporate Auto   \n",
       "4         Single                      None                  1   Personal Auto   \n",
       "\n",
       "  renew_offer_type sales_channel  vehicle_class vehicle_size  \n",
       "0            first         Agent          Other      Medsize  \n",
       "1            other         Agent  Four-Door Car      Medsize  \n",
       "2            first         Agent          Other      Medsize  \n",
       "3            first   Other Media          Other      Medsize  \n",
       "4            first         Agent  Four-Door Car      Medsize  \n",
       "\n",
       "[5 rows x 21 columns]"
      ]
     },
     "metadata": {},
     "output_type": "display_data"
    },
    {
     "data": {
      "text/html": [
       "<div>\n",
       "<style scoped>\n",
       "    .dataframe tbody tr th:only-of-type {\n",
       "        vertical-align: middle;\n",
       "    }\n",
       "\n",
       "    .dataframe tbody tr th {\n",
       "        vertical-align: top;\n",
       "    }\n",
       "\n",
       "    .dataframe thead th {\n",
       "        text-align: right;\n",
       "    }\n",
       "</style>\n",
       "<table border=\"1\" class=\"dataframe\">\n",
       "  <thead>\n",
       "    <tr style=\"text-align: right;\">\n",
       "      <th></th>\n",
       "      <th>total_claim_amount</th>\n",
       "    </tr>\n",
       "  </thead>\n",
       "  <tbody>\n",
       "    <tr>\n",
       "      <th>0</th>\n",
       "      <td>384.811147</td>\n",
       "    </tr>\n",
       "    <tr>\n",
       "      <th>1</th>\n",
       "      <td>1131.464935</td>\n",
       "    </tr>\n",
       "    <tr>\n",
       "      <th>2</th>\n",
       "      <td>566.472247</td>\n",
       "    </tr>\n",
       "    <tr>\n",
       "      <th>3</th>\n",
       "      <td>529.881344</td>\n",
       "    </tr>\n",
       "    <tr>\n",
       "      <th>4</th>\n",
       "      <td>138.130879</td>\n",
       "    </tr>\n",
       "  </tbody>\n",
       "</table>\n",
       "</div>"
      ],
      "text/plain": [
       "   total_claim_amount\n",
       "0          384.811147\n",
       "1         1131.464935\n",
       "2          566.472247\n",
       "3          529.881344\n",
       "4          138.130879"
      ]
     },
     "metadata": {},
     "output_type": "display_data"
    },
    {
     "name": "stdout",
     "output_type": "stream",
     "text": [
      "(9128, 21)\n",
      "(9128, 1)\n"
     ]
    }
   ],
   "source": [
    "display(X.head())\n",
    "display(y.head())\n",
    "print(X.shape)\n",
    "print(y.shape)"
   ]
  },
  {
   "cell_type": "code",
   "execution_count": 54,
   "id": "9562757c",
   "metadata": {},
   "outputs": [],
   "source": [
    "# Here I would like to seperate Effective_to_date into day and month\n",
    "#I will keep day as numerical and month as a categorical later on\n",
    "#In addition to that I will drop the effective_to_date column\n",
    "def seperate_date(df):\n",
    "    df = df.copy()\n",
    "    df['month'] = df['effective_to_date'].dt.month\n",
    "    df['day'] = df['effective_to_date'].dt.day\n",
    "    df = df.drop('effective_to_date',axis=1)\n",
    "    return df"
   ]
  },
  {
   "cell_type": "code",
   "execution_count": 55,
   "id": "ccdd0035",
   "metadata": {},
   "outputs": [],
   "source": [
    "X = seperate_date(X)"
   ]
  },
  {
   "cell_type": "code",
   "execution_count": 56,
   "id": "b873e01c",
   "metadata": {},
   "outputs": [],
   "source": [
    "X['month'] = X.month.astype(object)"
   ]
  },
  {
   "cell_type": "code",
   "execution_count": 57,
   "id": "3a8dcbd1",
   "metadata": {},
   "outputs": [
    {
     "name": "stdout",
     "output_type": "stream",
     "text": [
      "<class 'pandas.core.frame.DataFrame'>\n",
      "Int64Index: 9128 entries, 0 to 9133\n",
      "Data columns (total 22 columns):\n",
      " #   Column                         Non-Null Count  Dtype  \n",
      "---  ------                         --------------  -----  \n",
      " 0   customer_lifetime_value        9128 non-null   float64\n",
      " 1   income                         9128 non-null   int64  \n",
      " 2   monthly_premium_auto           9128 non-null   int64  \n",
      " 3   months_since_last_claim        9128 non-null   int64  \n",
      " 4   months_since_policy_inception  9128 non-null   int64  \n",
      " 5   state                          9128 non-null   object \n",
      " 6   response                       9128 non-null   object \n",
      " 7   coverage                       9128 non-null   object \n",
      " 8   education                      9128 non-null   object \n",
      " 9   employmentstatus               9128 non-null   object \n",
      " 10  gender                         9128 non-null   object \n",
      " 11  location_code                  9128 non-null   object \n",
      " 12  marital_status                 9128 non-null   object \n",
      " 13  number_of_open_complaints      9128 non-null   object \n",
      " 14  number_of_policies             9128 non-null   object \n",
      " 15  policy_type                    9128 non-null   object \n",
      " 16  renew_offer_type               9128 non-null   object \n",
      " 17  sales_channel                  9128 non-null   object \n",
      " 18  vehicle_class                  9128 non-null   object \n",
      " 19  vehicle_size                   9128 non-null   object \n",
      " 20  month                          9128 non-null   object \n",
      " 21  day                            9128 non-null   int64  \n",
      "dtypes: float64(1), int64(5), object(16)\n",
      "memory usage: 1.6+ MB\n"
     ]
    }
   ],
   "source": [
    "X.info()"
   ]
  },
  {
   "cell_type": "code",
   "execution_count": null,
   "id": "74fdbae1",
   "metadata": {},
   "outputs": [],
   "source": []
  },
  {
   "cell_type": "code",
   "execution_count": 58,
   "id": "3621e0fd",
   "metadata": {},
   "outputs": [],
   "source": [
    "#Now time for the test-train split \n",
    "from sklearn.model_selection import train_test_split\n",
    "\n",
    "X_train, X_test, y_train, y_test = train_test_split(X, y, test_size=0.3, random_state=100)"
   ]
  },
  {
   "cell_type": "markdown",
   "id": "e0bad4a4",
   "metadata": {},
   "source": [
    "\n",
    "**3. Create a copy of the dataframe for the data wrangling.**\n"
   ]
  },
  {
   "cell_type": "code",
   "execution_count": 59,
   "id": "5f73509f",
   "metadata": {},
   "outputs": [],
   "source": [
    "#As copies, Here I will split the X train and test sets into numerical and categorical for their specific transformations\n",
    "#This means the original df will be unaffected\n",
    "#I can use the same function for this like in the previous labs, for splittiing categorical and numerical\n",
    "\n",
    "#AND ALSO: day will now be treated as numerical, and month as categorical\n",
    "\n",
    "def count_disc_splitter(df):\n",
    "    continuous_list = []\n",
    "    discrete_list = []\n",
    "    for col in df:\n",
    "        if df[col].nunique() > 30 and df[col].dtypes != 'O':#with this condition of != 'O', I am getting rid of customer column\n",
    "            continuous_list.append(col)\n",
    "            continuous = df[continuous_list]\n",
    "        elif df[col].nunique() < 31:\n",
    "            discrete_list.append(col)\n",
    "            discrete = df[discrete_list]\n",
    "        else:\n",
    "            pass\n",
    "    return continuous, discrete"
   ]
  },
  {
   "cell_type": "code",
   "execution_count": 60,
   "id": "1dac8fd6",
   "metadata": {},
   "outputs": [],
   "source": [
    "num_train, cat_train = count_disc_splitter(X_train)\n",
    "num_test, cat_test = count_disc_splitter(X_test)"
   ]
  },
  {
   "cell_type": "code",
   "execution_count": 61,
   "id": "7089bffa",
   "metadata": {},
   "outputs": [
    {
     "name": "stdout",
     "output_type": "stream",
     "text": [
      "(6389, 6)\n",
      "(6389, 16)\n",
      "(2739, 6)\n",
      "(2739, 16)\n"
     ]
    }
   ],
   "source": [
    "print(num_train.shape)\n",
    "print(cat_train.shape)\n",
    "print(num_test.shape)\n",
    "print(cat_test.shape)"
   ]
  },
  {
   "cell_type": "markdown",
   "id": "453a4ebd",
   "metadata": {},
   "source": [
    "**4. Normalize the continuous variables. You can use any one method you want.**"
   ]
  },
  {
   "cell_type": "code",
   "execution_count": 62,
   "id": "66c65d3a",
   "metadata": {},
   "outputs": [
    {
     "data": {
      "text/html": [
       "<div>\n",
       "<style scoped>\n",
       "    .dataframe tbody tr th:only-of-type {\n",
       "        vertical-align: middle;\n",
       "    }\n",
       "\n",
       "    .dataframe tbody tr th {\n",
       "        vertical-align: top;\n",
       "    }\n",
       "\n",
       "    .dataframe thead th {\n",
       "        text-align: right;\n",
       "    }\n",
       "</style>\n",
       "<table border=\"1\" class=\"dataframe\">\n",
       "  <thead>\n",
       "    <tr style=\"text-align: right;\">\n",
       "      <th></th>\n",
       "      <th>customer_lifetime_value</th>\n",
       "      <th>income</th>\n",
       "      <th>monthly_premium_auto</th>\n",
       "      <th>months_since_last_claim</th>\n",
       "      <th>months_since_policy_inception</th>\n",
       "      <th>day</th>\n",
       "    </tr>\n",
       "  </thead>\n",
       "  <tbody>\n",
       "    <tr>\n",
       "      <th>4490</th>\n",
       "      <td>13369.442670</td>\n",
       "      <td>50800</td>\n",
       "      <td>112</td>\n",
       "      <td>1</td>\n",
       "      <td>45</td>\n",
       "      <td>9</td>\n",
       "    </tr>\n",
       "    <tr>\n",
       "      <th>3792</th>\n",
       "      <td>6451.263836</td>\n",
       "      <td>30857</td>\n",
       "      <td>81</td>\n",
       "      <td>17</td>\n",
       "      <td>14</td>\n",
       "      <td>13</td>\n",
       "    </tr>\n",
       "    <tr>\n",
       "      <th>2503</th>\n",
       "      <td>10548.537030</td>\n",
       "      <td>27458</td>\n",
       "      <td>131</td>\n",
       "      <td>18</td>\n",
       "      <td>62</td>\n",
       "      <td>15</td>\n",
       "    </tr>\n",
       "    <tr>\n",
       "      <th>2914</th>\n",
       "      <td>8717.049833</td>\n",
       "      <td>83846</td>\n",
       "      <td>74</td>\n",
       "      <td>22</td>\n",
       "      <td>94</td>\n",
       "      <td>14</td>\n",
       "    </tr>\n",
       "    <tr>\n",
       "      <th>3162</th>\n",
       "      <td>32467.661510</td>\n",
       "      <td>37675</td>\n",
       "      <td>104</td>\n",
       "      <td>23</td>\n",
       "      <td>18</td>\n",
       "      <td>16</td>\n",
       "    </tr>\n",
       "  </tbody>\n",
       "</table>\n",
       "</div>"
      ],
      "text/plain": [
       "      customer_lifetime_value  income  monthly_premium_auto  \\\n",
       "4490             13369.442670   50800                   112   \n",
       "3792              6451.263836   30857                    81   \n",
       "2503             10548.537030   27458                   131   \n",
       "2914              8717.049833   83846                    74   \n",
       "3162             32467.661510   37675                   104   \n",
       "\n",
       "      months_since_last_claim  months_since_policy_inception  day  \n",
       "4490                        1                             45    9  \n",
       "3792                       17                             14   13  \n",
       "2503                       18                             62   15  \n",
       "2914                       22                             94   14  \n",
       "3162                       23                             18   16  "
      ]
     },
     "execution_count": 62,
     "metadata": {},
     "output_type": "execute_result"
    }
   ],
   "source": [
    "num_test.head()"
   ]
  },
  {
   "cell_type": "code",
   "execution_count": 63,
   "id": "a91af5ac",
   "metadata": {},
   "outputs": [],
   "source": [
    "#For the normalization of both numerical train and test sets, I use a function to make things easier\n",
    "#This functuion makes use of the MinMaxScaler from sklearn for normalization\n",
    "def min_max(df, df2):\n",
    "    from sklearn.preprocessing import MinMaxScaler \n",
    "    transformer = MinMaxScaler().fit(df) #It is important to make sure it only fits the train set\n",
    "    \n",
    "    x_normalized_df = transformer.transform(df)\n",
    "    x_normalized_df2 = transformer.transform(df2)\n",
    "    x_normalized_df = pd.DataFrame(x_normalized_df, columns=df.columns)\n",
    "    x_normalized_df2 = pd.DataFrame(x_normalized_df2, columns=df2.columns)\n",
    "    return x_normalized_df, x_normalized_df2"
   ]
  },
  {
   "cell_type": "code",
   "execution_count": 64,
   "id": "471aed8f",
   "metadata": {},
   "outputs": [],
   "source": [
    "num_train_trans, num_test_trans = min_max(num_train, num_test)"
   ]
  },
  {
   "cell_type": "code",
   "execution_count": 65,
   "id": "e22f447f",
   "metadata": {},
   "outputs": [
    {
     "data": {
      "text/html": [
       "<div>\n",
       "<style scoped>\n",
       "    .dataframe tbody tr th:only-of-type {\n",
       "        vertical-align: middle;\n",
       "    }\n",
       "\n",
       "    .dataframe tbody tr th {\n",
       "        vertical-align: top;\n",
       "    }\n",
       "\n",
       "    .dataframe thead th {\n",
       "        text-align: right;\n",
       "    }\n",
       "</style>\n",
       "<table border=\"1\" class=\"dataframe\">\n",
       "  <thead>\n",
       "    <tr style=\"text-align: right;\">\n",
       "      <th></th>\n",
       "      <th>customer_lifetime_value</th>\n",
       "      <th>income</th>\n",
       "      <th>monthly_premium_auto</th>\n",
       "      <th>months_since_last_claim</th>\n",
       "      <th>months_since_policy_inception</th>\n",
       "      <th>day</th>\n",
       "    </tr>\n",
       "  </thead>\n",
       "  <tbody>\n",
       "    <tr>\n",
       "      <th>0</th>\n",
       "      <td>0.048104</td>\n",
       "      <td>0.604386</td>\n",
       "      <td>0.004219</td>\n",
       "      <td>0.285714</td>\n",
       "      <td>0.313131</td>\n",
       "      <td>0.300000</td>\n",
       "    </tr>\n",
       "    <tr>\n",
       "      <th>1</th>\n",
       "      <td>0.056961</td>\n",
       "      <td>0.369324</td>\n",
       "      <td>0.063291</td>\n",
       "      <td>0.800000</td>\n",
       "      <td>0.777778</td>\n",
       "      <td>0.700000</td>\n",
       "    </tr>\n",
       "    <tr>\n",
       "      <th>2</th>\n",
       "      <td>0.020432</td>\n",
       "      <td>0.401507</td>\n",
       "      <td>0.080169</td>\n",
       "      <td>0.828571</td>\n",
       "      <td>0.707071</td>\n",
       "      <td>0.233333</td>\n",
       "    </tr>\n",
       "    <tr>\n",
       "      <th>3</th>\n",
       "      <td>0.056271</td>\n",
       "      <td>0.749892</td>\n",
       "      <td>0.033755</td>\n",
       "      <td>0.314286</td>\n",
       "      <td>0.444444</td>\n",
       "      <td>0.200000</td>\n",
       "    </tr>\n",
       "    <tr>\n",
       "      <th>4</th>\n",
       "      <td>0.207275</td>\n",
       "      <td>0.000000</td>\n",
       "      <td>0.042194</td>\n",
       "      <td>0.114286</td>\n",
       "      <td>0.646465</td>\n",
       "      <td>0.366667</td>\n",
       "    </tr>\n",
       "  </tbody>\n",
       "</table>\n",
       "</div>"
      ],
      "text/plain": [
       "   customer_lifetime_value    income  monthly_premium_auto  \\\n",
       "0                 0.048104  0.604386              0.004219   \n",
       "1                 0.056961  0.369324              0.063291   \n",
       "2                 0.020432  0.401507              0.080169   \n",
       "3                 0.056271  0.749892              0.033755   \n",
       "4                 0.207275  0.000000              0.042194   \n",
       "\n",
       "   months_since_last_claim  months_since_policy_inception       day  \n",
       "0                 0.285714                       0.313131  0.300000  \n",
       "1                 0.800000                       0.777778  0.700000  \n",
       "2                 0.828571                       0.707071  0.233333  \n",
       "3                 0.314286                       0.444444  0.200000  \n",
       "4                 0.114286                       0.646465  0.366667  "
      ]
     },
     "metadata": {},
     "output_type": "display_data"
    },
    {
     "data": {
      "text/html": [
       "<div>\n",
       "<style scoped>\n",
       "    .dataframe tbody tr th:only-of-type {\n",
       "        vertical-align: middle;\n",
       "    }\n",
       "\n",
       "    .dataframe tbody tr th {\n",
       "        vertical-align: top;\n",
       "    }\n",
       "\n",
       "    .dataframe thead th {\n",
       "        text-align: right;\n",
       "    }\n",
       "</style>\n",
       "<table border=\"1\" class=\"dataframe\">\n",
       "  <thead>\n",
       "    <tr style=\"text-align: right;\">\n",
       "      <th></th>\n",
       "      <th>customer_lifetime_value</th>\n",
       "      <th>income</th>\n",
       "      <th>monthly_premium_auto</th>\n",
       "      <th>months_since_last_claim</th>\n",
       "      <th>months_since_policy_inception</th>\n",
       "      <th>day</th>\n",
       "    </tr>\n",
       "  </thead>\n",
       "  <tbody>\n",
       "    <tr>\n",
       "      <th>0</th>\n",
       "      <td>0.178875</td>\n",
       "      <td>0.508198</td>\n",
       "      <td>0.215190</td>\n",
       "      <td>0.028571</td>\n",
       "      <td>0.454545</td>\n",
       "      <td>0.266667</td>\n",
       "    </tr>\n",
       "    <tr>\n",
       "      <th>1</th>\n",
       "      <td>0.070993</td>\n",
       "      <td>0.308690</td>\n",
       "      <td>0.084388</td>\n",
       "      <td>0.485714</td>\n",
       "      <td>0.141414</td>\n",
       "      <td>0.400000</td>\n",
       "    </tr>\n",
       "    <tr>\n",
       "      <th>2</th>\n",
       "      <td>0.134886</td>\n",
       "      <td>0.274687</td>\n",
       "      <td>0.295359</td>\n",
       "      <td>0.514286</td>\n",
       "      <td>0.626263</td>\n",
       "      <td>0.466667</td>\n",
       "    </tr>\n",
       "    <tr>\n",
       "      <th>3</th>\n",
       "      <td>0.106326</td>\n",
       "      <td>0.838787</td>\n",
       "      <td>0.054852</td>\n",
       "      <td>0.628571</td>\n",
       "      <td>0.949495</td>\n",
       "      <td>0.433333</td>\n",
       "    </tr>\n",
       "    <tr>\n",
       "      <th>4</th>\n",
       "      <td>0.476694</td>\n",
       "      <td>0.376897</td>\n",
       "      <td>0.181435</td>\n",
       "      <td>0.657143</td>\n",
       "      <td>0.181818</td>\n",
       "      <td>0.500000</td>\n",
       "    </tr>\n",
       "  </tbody>\n",
       "</table>\n",
       "</div>"
      ],
      "text/plain": [
       "   customer_lifetime_value    income  monthly_premium_auto  \\\n",
       "0                 0.178875  0.508198              0.215190   \n",
       "1                 0.070993  0.308690              0.084388   \n",
       "2                 0.134886  0.274687              0.295359   \n",
       "3                 0.106326  0.838787              0.054852   \n",
       "4                 0.476694  0.376897              0.181435   \n",
       "\n",
       "   months_since_last_claim  months_since_policy_inception       day  \n",
       "0                 0.028571                       0.454545  0.266667  \n",
       "1                 0.485714                       0.141414  0.400000  \n",
       "2                 0.514286                       0.626263  0.466667  \n",
       "3                 0.628571                       0.949495  0.433333  \n",
       "4                 0.657143                       0.181818  0.500000  "
      ]
     },
     "metadata": {},
     "output_type": "display_data"
    },
    {
     "name": "stdout",
     "output_type": "stream",
     "text": [
      "(6389, 6)\n",
      "(2739, 6)\n"
     ]
    }
   ],
   "source": [
    "#Numerical/Continuous Transformation is done!\n",
    "display(num_train_trans.head())\n",
    "display(num_test_trans.head())\n",
    "print(num_train_trans.shape)\n",
    "print(num_test_trans.shape)"
   ]
  },
  {
   "cell_type": "code",
   "execution_count": 66,
   "id": "11742c41",
   "metadata": {},
   "outputs": [
    {
     "data": {
      "text/html": [
       "<div>\n",
       "<style scoped>\n",
       "    .dataframe tbody tr th:only-of-type {\n",
       "        vertical-align: middle;\n",
       "    }\n",
       "\n",
       "    .dataframe tbody tr th {\n",
       "        vertical-align: top;\n",
       "    }\n",
       "\n",
       "    .dataframe thead th {\n",
       "        text-align: right;\n",
       "    }\n",
       "</style>\n",
       "<table border=\"1\" class=\"dataframe\">\n",
       "  <thead>\n",
       "    <tr style=\"text-align: right;\">\n",
       "      <th></th>\n",
       "      <th>customer_lifetime_value</th>\n",
       "      <th>income</th>\n",
       "      <th>monthly_premium_auto</th>\n",
       "      <th>months_since_last_claim</th>\n",
       "      <th>months_since_policy_inception</th>\n",
       "      <th>day</th>\n",
       "    </tr>\n",
       "  </thead>\n",
       "  <tbody>\n",
       "    <tr>\n",
       "      <th>customer_lifetime_value</th>\n",
       "      <td>1.000000</td>\n",
       "      <td>0.018942</td>\n",
       "      <td>0.406835</td>\n",
       "      <td>0.009415</td>\n",
       "      <td>0.012316</td>\n",
       "      <td>-0.003428</td>\n",
       "    </tr>\n",
       "    <tr>\n",
       "      <th>income</th>\n",
       "      <td>0.018942</td>\n",
       "      <td>1.000000</td>\n",
       "      <td>-0.020593</td>\n",
       "      <td>-0.027744</td>\n",
       "      <td>0.008159</td>\n",
       "      <td>-0.025679</td>\n",
       "    </tr>\n",
       "    <tr>\n",
       "      <th>monthly_premium_auto</th>\n",
       "      <td>0.406835</td>\n",
       "      <td>-0.020593</td>\n",
       "      <td>1.000000</td>\n",
       "      <td>0.009799</td>\n",
       "      <td>0.020952</td>\n",
       "      <td>-0.017877</td>\n",
       "    </tr>\n",
       "    <tr>\n",
       "      <th>months_since_last_claim</th>\n",
       "      <td>0.009415</td>\n",
       "      <td>-0.027744</td>\n",
       "      <td>0.009799</td>\n",
       "      <td>1.000000</td>\n",
       "      <td>-0.049810</td>\n",
       "      <td>0.020913</td>\n",
       "    </tr>\n",
       "    <tr>\n",
       "      <th>months_since_policy_inception</th>\n",
       "      <td>0.012316</td>\n",
       "      <td>0.008159</td>\n",
       "      <td>0.020952</td>\n",
       "      <td>-0.049810</td>\n",
       "      <td>1.000000</td>\n",
       "      <td>-0.024003</td>\n",
       "    </tr>\n",
       "    <tr>\n",
       "      <th>day</th>\n",
       "      <td>-0.003428</td>\n",
       "      <td>-0.025679</td>\n",
       "      <td>-0.017877</td>\n",
       "      <td>0.020913</td>\n",
       "      <td>-0.024003</td>\n",
       "      <td>1.000000</td>\n",
       "    </tr>\n",
       "  </tbody>\n",
       "</table>\n",
       "</div>"
      ],
      "text/plain": [
       "                               customer_lifetime_value    income  \\\n",
       "customer_lifetime_value                       1.000000  0.018942   \n",
       "income                                        0.018942  1.000000   \n",
       "monthly_premium_auto                          0.406835 -0.020593   \n",
       "months_since_last_claim                       0.009415 -0.027744   \n",
       "months_since_policy_inception                 0.012316  0.008159   \n",
       "day                                          -0.003428 -0.025679   \n",
       "\n",
       "                               monthly_premium_auto  months_since_last_claim  \\\n",
       "customer_lifetime_value                    0.406835                 0.009415   \n",
       "income                                    -0.020593                -0.027744   \n",
       "monthly_premium_auto                       1.000000                 0.009799   \n",
       "months_since_last_claim                    0.009799                 1.000000   \n",
       "months_since_policy_inception              0.020952                -0.049810   \n",
       "day                                       -0.017877                 0.020913   \n",
       "\n",
       "                               months_since_policy_inception       day  \n",
       "customer_lifetime_value                             0.012316 -0.003428  \n",
       "income                                              0.008159 -0.025679  \n",
       "monthly_premium_auto                                0.020952 -0.017877  \n",
       "months_since_last_claim                            -0.049810  0.020913  \n",
       "months_since_policy_inception                       1.000000 -0.024003  \n",
       "day                                                -0.024003  1.000000  "
      ]
     },
     "execution_count": 66,
     "metadata": {},
     "output_type": "execute_result"
    }
   ],
   "source": [
    "#Just checkng for correlation between columns\n",
    "correlations_matrix = num_train_trans.corr()\n",
    "correlations_matrix"
   ]
  },
  {
   "cell_type": "code",
   "execution_count": 67,
   "id": "25baa170",
   "metadata": {},
   "outputs": [
    {
     "data": {
      "image/png": "[encoded data removed]",
      "text/plain": [
       "<Figure size 432x288 with 2 Axes>"
      ]
     },
     "metadata": {
      "needs_background": "light"
     },
     "output_type": "display_data"
    }
   ],
   "source": [
    "#Looks likes know strong correlations from the correlation matrix\n",
    "sns.heatmap(correlations_matrix, annot=True) \n",
    "plt.show()"
   ]
  },
  {
   "cell_type": "markdown",
   "id": "a34a08b8",
   "metadata": {},
   "source": [
    "**5. Encode the categorical variables (See the hint below for encoding categorical data!!!)**\n",
    "\n",
    "\n",
    "**6. The time variable can be useful. Try to transform its data into a useful one. Hint: Day week and month as integers might be useful.**\n",
    "Answer: For this one I decided to go for day as a numerical feature, and month as a categorical feature. \n",
    "\n",
    "**7. Since the model will only accept numerical data, check and make sure that every column is numerical, if some are not, change it using encoding.**\n"
   ]
  },
  {
   "cell_type": "code",
   "execution_count": 68,
   "id": "69124eda",
   "metadata": {},
   "outputs": [
    {
     "data": {
      "text/html": [
       "<div>\n",
       "<style scoped>\n",
       "    .dataframe tbody tr th:only-of-type {\n",
       "        vertical-align: middle;\n",
       "    }\n",
       "\n",
       "    .dataframe tbody tr th {\n",
       "        vertical-align: top;\n",
       "    }\n",
       "\n",
       "    .dataframe thead th {\n",
       "        text-align: right;\n",
       "    }\n",
       "</style>\n",
       "<table border=\"1\" class=\"dataframe\">\n",
       "  <thead>\n",
       "    <tr style=\"text-align: right;\">\n",
       "      <th></th>\n",
       "      <th>state</th>\n",
       "      <th>response</th>\n",
       "      <th>coverage</th>\n",
       "      <th>education</th>\n",
       "      <th>employmentstatus</th>\n",
       "      <th>gender</th>\n",
       "      <th>location_code</th>\n",
       "      <th>marital_status</th>\n",
       "      <th>number_of_open_complaints</th>\n",
       "      <th>number_of_policies</th>\n",
       "      <th>policy_type</th>\n",
       "      <th>renew_offer_type</th>\n",
       "      <th>sales_channel</th>\n",
       "      <th>vehicle_class</th>\n",
       "      <th>vehicle_size</th>\n",
       "      <th>month</th>\n",
       "    </tr>\n",
       "  </thead>\n",
       "  <tbody>\n",
       "    <tr>\n",
       "      <th>1413</th>\n",
       "      <td>Oregon</td>\n",
       "      <td>No</td>\n",
       "      <td>Basic</td>\n",
       "      <td>University Degree</td>\n",
       "      <td>Employed</td>\n",
       "      <td>F</td>\n",
       "      <td>Rural</td>\n",
       "      <td>Divorced</td>\n",
       "      <td>None</td>\n",
       "      <td>3 or more</td>\n",
       "      <td>Personal Auto</td>\n",
       "      <td>second</td>\n",
       "      <td>Branch</td>\n",
       "      <td>Other</td>\n",
       "      <td>Small</td>\n",
       "      <td>1</td>\n",
       "    </tr>\n",
       "    <tr>\n",
       "      <th>9105</th>\n",
       "      <td>California</td>\n",
       "      <td>No</td>\n",
       "      <td>Extended</td>\n",
       "      <td>College</td>\n",
       "      <td>Employed</td>\n",
       "      <td>M</td>\n",
       "      <td>Suburban</td>\n",
       "      <td>Divorced</td>\n",
       "      <td>At least 1</td>\n",
       "      <td>3 or more</td>\n",
       "      <td>Personal Auto</td>\n",
       "      <td>first</td>\n",
       "      <td>Branch</td>\n",
       "      <td>Other</td>\n",
       "      <td>Medsize</td>\n",
       "      <td>2</td>\n",
       "    </tr>\n",
       "    <tr>\n",
       "      <th>5324</th>\n",
       "      <td>Other</td>\n",
       "      <td>No</td>\n",
       "      <td>Extended</td>\n",
       "      <td>University Degree</td>\n",
       "      <td>Employed</td>\n",
       "      <td>F</td>\n",
       "      <td>Rural</td>\n",
       "      <td>Married</td>\n",
       "      <td>None</td>\n",
       "      <td>1</td>\n",
       "      <td>Personal Auto</td>\n",
       "      <td>first</td>\n",
       "      <td>Agent</td>\n",
       "      <td>Four-Door Car</td>\n",
       "      <td>Medsize</td>\n",
       "      <td>2</td>\n",
       "    </tr>\n",
       "    <tr>\n",
       "      <th>4143</th>\n",
       "      <td>Other</td>\n",
       "      <td>No</td>\n",
       "      <td>Basic</td>\n",
       "      <td>University Degree</td>\n",
       "      <td>Employed</td>\n",
       "      <td>M</td>\n",
       "      <td>Rural</td>\n",
       "      <td>Single</td>\n",
       "      <td>At least 1</td>\n",
       "      <td>3 or more</td>\n",
       "      <td>Corporate Auto</td>\n",
       "      <td>first</td>\n",
       "      <td>Other Media</td>\n",
       "      <td>Four-Door Car</td>\n",
       "      <td>Medsize</td>\n",
       "      <td>2</td>\n",
       "    </tr>\n",
       "    <tr>\n",
       "      <th>4699</th>\n",
       "      <td>California</td>\n",
       "      <td>No</td>\n",
       "      <td>Basic</td>\n",
       "      <td>High School or Below</td>\n",
       "      <td>Other</td>\n",
       "      <td>M</td>\n",
       "      <td>Suburban</td>\n",
       "      <td>Single</td>\n",
       "      <td>At least 1</td>\n",
       "      <td>2</td>\n",
       "      <td>Personal Auto</td>\n",
       "      <td>second</td>\n",
       "      <td>Other Media</td>\n",
       "      <td>Four-Door Car</td>\n",
       "      <td>Small</td>\n",
       "      <td>2</td>\n",
       "    </tr>\n",
       "    <tr>\n",
       "      <th>...</th>\n",
       "      <td>...</td>\n",
       "      <td>...</td>\n",
       "      <td>...</td>\n",
       "      <td>...</td>\n",
       "      <td>...</td>\n",
       "      <td>...</td>\n",
       "      <td>...</td>\n",
       "      <td>...</td>\n",
       "      <td>...</td>\n",
       "      <td>...</td>\n",
       "      <td>...</td>\n",
       "      <td>...</td>\n",
       "      <td>...</td>\n",
       "      <td>...</td>\n",
       "      <td>...</td>\n",
       "      <td>...</td>\n",
       "    </tr>\n",
       "    <tr>\n",
       "      <th>350</th>\n",
       "      <td>California</td>\n",
       "      <td>No</td>\n",
       "      <td>Premium</td>\n",
       "      <td>College</td>\n",
       "      <td>Other</td>\n",
       "      <td>F</td>\n",
       "      <td>Rural</td>\n",
       "      <td>Married</td>\n",
       "      <td>At least 1</td>\n",
       "      <td>3 or more</td>\n",
       "      <td>Personal Auto</td>\n",
       "      <td>first</td>\n",
       "      <td>Agent</td>\n",
       "      <td>Four-Door Car</td>\n",
       "      <td>Medsize</td>\n",
       "      <td>1</td>\n",
       "    </tr>\n",
       "    <tr>\n",
       "      <th>79</th>\n",
       "      <td>California</td>\n",
       "      <td>No</td>\n",
       "      <td>Basic</td>\n",
       "      <td>University Degree</td>\n",
       "      <td>Employed</td>\n",
       "      <td>M</td>\n",
       "      <td>Rural</td>\n",
       "      <td>Single</td>\n",
       "      <td>At least 1</td>\n",
       "      <td>2</td>\n",
       "      <td>Personal Auto</td>\n",
       "      <td>second</td>\n",
       "      <td>Branch</td>\n",
       "      <td>Other</td>\n",
       "      <td>Small</td>\n",
       "      <td>2</td>\n",
       "    </tr>\n",
       "    <tr>\n",
       "      <th>8045</th>\n",
       "      <td>California</td>\n",
       "      <td>No</td>\n",
       "      <td>Extended</td>\n",
       "      <td>University Degree</td>\n",
       "      <td>Employed</td>\n",
       "      <td>F</td>\n",
       "      <td>Rural</td>\n",
       "      <td>Married</td>\n",
       "      <td>At least 1</td>\n",
       "      <td>3 or more</td>\n",
       "      <td>Personal Auto</td>\n",
       "      <td>other</td>\n",
       "      <td>Agent</td>\n",
       "      <td>Four-Door Car</td>\n",
       "      <td>Large</td>\n",
       "      <td>2</td>\n",
       "    </tr>\n",
       "    <tr>\n",
       "      <th>6942</th>\n",
       "      <td>Other</td>\n",
       "      <td>No</td>\n",
       "      <td>Basic</td>\n",
       "      <td>University Degree</td>\n",
       "      <td>Employed</td>\n",
       "      <td>F</td>\n",
       "      <td>Urban</td>\n",
       "      <td>Married</td>\n",
       "      <td>At least 1</td>\n",
       "      <td>3 or more</td>\n",
       "      <td>Personal Auto</td>\n",
       "      <td>second</td>\n",
       "      <td>Branch</td>\n",
       "      <td>Four-Door Car</td>\n",
       "      <td>Medsize</td>\n",
       "      <td>2</td>\n",
       "    </tr>\n",
       "    <tr>\n",
       "      <th>5644</th>\n",
       "      <td>Other</td>\n",
       "      <td>No</td>\n",
       "      <td>Basic</td>\n",
       "      <td>University Degree</td>\n",
       "      <td>Other</td>\n",
       "      <td>M</td>\n",
       "      <td>Suburban</td>\n",
       "      <td>Single</td>\n",
       "      <td>None</td>\n",
       "      <td>1</td>\n",
       "      <td>Personal Auto</td>\n",
       "      <td>first</td>\n",
       "      <td>Agent</td>\n",
       "      <td>Other</td>\n",
       "      <td>Medsize</td>\n",
       "      <td>1</td>\n",
       "    </tr>\n",
       "  </tbody>\n",
       "</table>\n",
       "<p>6389 rows × 16 columns</p>\n",
       "</div>"
      ],
      "text/plain": [
       "           state response  coverage             education employmentstatus  \\\n",
       "1413      Oregon       No     Basic     University Degree         Employed   \n",
       "9105  California       No  Extended               College         Employed   \n",
       "5324       Other       No  Extended     University Degree         Employed   \n",
       "4143       Other       No     Basic     University Degree         Employed   \n",
       "4699  California       No     Basic  High School or Below            Other   \n",
       "...          ...      ...       ...                   ...              ...   \n",
       "350   California       No   Premium               College            Other   \n",
       "79    California       No     Basic     University Degree         Employed   \n",
       "8045  California       No  Extended     University Degree         Employed   \n",
       "6942       Other       No     Basic     University Degree         Employed   \n",
       "5644       Other       No     Basic     University Degree            Other   \n",
       "\n",
       "     gender location_code marital_status number_of_open_complaints  \\\n",
       "1413      F         Rural       Divorced                      None   \n",
       "9105      M      Suburban       Divorced                At least 1   \n",
       "5324      F         Rural        Married                      None   \n",
       "4143      M         Rural         Single                At least 1   \n",
       "4699      M      Suburban         Single                At least 1   \n",
       "...     ...           ...            ...                       ...   \n",
       "350       F         Rural        Married                At least 1   \n",
       "79        M         Rural         Single                At least 1   \n",
       "8045      F         Rural        Married                At least 1   \n",
       "6942      F         Urban        Married                At least 1   \n",
       "5644      M      Suburban         Single                      None   \n",
       "\n",
       "     number_of_policies     policy_type renew_offer_type sales_channel  \\\n",
       "1413          3 or more   Personal Auto           second        Branch   \n",
       "9105          3 or more   Personal Auto            first        Branch   \n",
       "5324                  1   Personal Auto            first         Agent   \n",
       "4143          3 or more  Corporate Auto            first   Other Media   \n",
       "4699                  2   Personal Auto           second   Other Media   \n",
       "...                 ...             ...              ...           ...   \n",
       "350           3 or more   Personal Auto            first         Agent   \n",
       "79                    2   Personal Auto           second        Branch   \n",
       "8045          3 or more   Personal Auto            other         Agent   \n",
       "6942          3 or more   Personal Auto           second        Branch   \n",
       "5644                  1   Personal Auto            first         Agent   \n",
       "\n",
       "      vehicle_class vehicle_size month  \n",
       "1413          Other        Small     1  \n",
       "9105          Other      Medsize     2  \n",
       "5324  Four-Door Car      Medsize     2  \n",
       "4143  Four-Door Car      Medsize     2  \n",
       "4699  Four-Door Car        Small     2  \n",
       "...             ...          ...   ...  \n",
       "350   Four-Door Car      Medsize     1  \n",
       "79            Other        Small     2  \n",
       "8045  Four-Door Car        Large     2  \n",
       "6942  Four-Door Car      Medsize     2  \n",
       "5644          Other      Medsize     1  \n",
       "\n",
       "[6389 rows x 16 columns]"
      ]
     },
     "execution_count": 68,
     "metadata": {},
     "output_type": "execute_result"
    }
   ],
   "source": [
    "#For encoding its better to seperate the categorical data in to categorical ordinal and categorical nominal\n",
    "cat_train"
   ]
  },
  {
   "cell_type": "code",
   "execution_count": 69,
   "id": "567a18b0",
   "metadata": {},
   "outputs": [],
   "source": [
    "#Now seperating into nominal as cat_train_nom and ordinal as cat_train_ord\n",
    "#Likewise for the test data\n",
    "cat_train_nom = cat_train[['state', 'response','gender', 'marital_status','policy_type', 'renew_offer_type', 'sales_channel', 'vehicle_class']]\n",
    "cat_train_ord = cat_train[['coverage','education', 'employmentstatus','location_code','number_of_open_complaints', 'number_of_policies', 'vehicle_size', 'month']]\n",
    "\n",
    "cat_test_nom = cat_test[['state', 'response','gender', 'marital_status','policy_type', 'renew_offer_type', 'sales_channel', 'vehicle_class']] \n",
    "cat_test_ord = cat_test[['coverage','education', 'employmentstatus','location_code','number_of_open_complaints', 'number_of_policies', 'vehicle_size', 'month']]"
   ]
  },
  {
   "cell_type": "code",
   "execution_count": 70,
   "id": "dad264e5",
   "metadata": {},
   "outputs": [
    {
     "data": {
      "text/html": [
       "<div>\n",
       "<style scoped>\n",
       "    .dataframe tbody tr th:only-of-type {\n",
       "        vertical-align: middle;\n",
       "    }\n",
       "\n",
       "    .dataframe tbody tr th {\n",
       "        vertical-align: top;\n",
       "    }\n",
       "\n",
       "    .dataframe thead th {\n",
       "        text-align: right;\n",
       "    }\n",
       "</style>\n",
       "<table border=\"1\" class=\"dataframe\">\n",
       "  <thead>\n",
       "    <tr style=\"text-align: right;\">\n",
       "      <th></th>\n",
       "      <th>state</th>\n",
       "      <th>response</th>\n",
       "      <th>gender</th>\n",
       "      <th>marital_status</th>\n",
       "      <th>policy_type</th>\n",
       "      <th>renew_offer_type</th>\n",
       "      <th>sales_channel</th>\n",
       "      <th>vehicle_class</th>\n",
       "    </tr>\n",
       "  </thead>\n",
       "  <tbody>\n",
       "    <tr>\n",
       "      <th>1413</th>\n",
       "      <td>Oregon</td>\n",
       "      <td>No</td>\n",
       "      <td>F</td>\n",
       "      <td>Divorced</td>\n",
       "      <td>Personal Auto</td>\n",
       "      <td>second</td>\n",
       "      <td>Branch</td>\n",
       "      <td>Other</td>\n",
       "    </tr>\n",
       "    <tr>\n",
       "      <th>9105</th>\n",
       "      <td>California</td>\n",
       "      <td>No</td>\n",
       "      <td>M</td>\n",
       "      <td>Divorced</td>\n",
       "      <td>Personal Auto</td>\n",
       "      <td>first</td>\n",
       "      <td>Branch</td>\n",
       "      <td>Other</td>\n",
       "    </tr>\n",
       "    <tr>\n",
       "      <th>5324</th>\n",
       "      <td>Other</td>\n",
       "      <td>No</td>\n",
       "      <td>F</td>\n",
       "      <td>Married</td>\n",
       "      <td>Personal Auto</td>\n",
       "      <td>first</td>\n",
       "      <td>Agent</td>\n",
       "      <td>Four-Door Car</td>\n",
       "    </tr>\n",
       "    <tr>\n",
       "      <th>4143</th>\n",
       "      <td>Other</td>\n",
       "      <td>No</td>\n",
       "      <td>M</td>\n",
       "      <td>Single</td>\n",
       "      <td>Corporate Auto</td>\n",
       "      <td>first</td>\n",
       "      <td>Other Media</td>\n",
       "      <td>Four-Door Car</td>\n",
       "    </tr>\n",
       "    <tr>\n",
       "      <th>4699</th>\n",
       "      <td>California</td>\n",
       "      <td>No</td>\n",
       "      <td>M</td>\n",
       "      <td>Single</td>\n",
       "      <td>Personal Auto</td>\n",
       "      <td>second</td>\n",
       "      <td>Other Media</td>\n",
       "      <td>Four-Door Car</td>\n",
       "    </tr>\n",
       "    <tr>\n",
       "      <th>...</th>\n",
       "      <td>...</td>\n",
       "      <td>...</td>\n",
       "      <td>...</td>\n",
       "      <td>...</td>\n",
       "      <td>...</td>\n",
       "      <td>...</td>\n",
       "      <td>...</td>\n",
       "      <td>...</td>\n",
       "    </tr>\n",
       "    <tr>\n",
       "      <th>350</th>\n",
       "      <td>California</td>\n",
       "      <td>No</td>\n",
       "      <td>F</td>\n",
       "      <td>Married</td>\n",
       "      <td>Personal Auto</td>\n",
       "      <td>first</td>\n",
       "      <td>Agent</td>\n",
       "      <td>Four-Door Car</td>\n",
       "    </tr>\n",
       "    <tr>\n",
       "      <th>79</th>\n",
       "      <td>California</td>\n",
       "      <td>No</td>\n",
       "      <td>M</td>\n",
       "      <td>Single</td>\n",
       "      <td>Personal Auto</td>\n",
       "      <td>second</td>\n",
       "      <td>Branch</td>\n",
       "      <td>Other</td>\n",
       "    </tr>\n",
       "    <tr>\n",
       "      <th>8045</th>\n",
       "      <td>California</td>\n",
       "      <td>No</td>\n",
       "      <td>F</td>\n",
       "      <td>Married</td>\n",
       "      <td>Personal Auto</td>\n",
       "      <td>other</td>\n",
       "      <td>Agent</td>\n",
       "      <td>Four-Door Car</td>\n",
       "    </tr>\n",
       "    <tr>\n",
       "      <th>6942</th>\n",
       "      <td>Other</td>\n",
       "      <td>No</td>\n",
       "      <td>F</td>\n",
       "      <td>Married</td>\n",
       "      <td>Personal Auto</td>\n",
       "      <td>second</td>\n",
       "      <td>Branch</td>\n",
       "      <td>Four-Door Car</td>\n",
       "    </tr>\n",
       "    <tr>\n",
       "      <th>5644</th>\n",
       "      <td>Other</td>\n",
       "      <td>No</td>\n",
       "      <td>M</td>\n",
       "      <td>Single</td>\n",
       "      <td>Personal Auto</td>\n",
       "      <td>first</td>\n",
       "      <td>Agent</td>\n",
       "      <td>Other</td>\n",
       "    </tr>\n",
       "  </tbody>\n",
       "</table>\n",
       "<p>6389 rows × 8 columns</p>\n",
       "</div>"
      ],
      "text/plain": [
       "           state response gender marital_status     policy_type  \\\n",
       "1413      Oregon       No      F       Divorced   Personal Auto   \n",
       "9105  California       No      M       Divorced   Personal Auto   \n",
       "5324       Other       No      F        Married   Personal Auto   \n",
       "4143       Other       No      M         Single  Corporate Auto   \n",
       "4699  California       No      M         Single   Personal Auto   \n",
       "...          ...      ...    ...            ...             ...   \n",
       "350   California       No      F        Married   Personal Auto   \n",
       "79    California       No      M         Single   Personal Auto   \n",
       "8045  California       No      F        Married   Personal Auto   \n",
       "6942       Other       No      F        Married   Personal Auto   \n",
       "5644       Other       No      M         Single   Personal Auto   \n",
       "\n",
       "     renew_offer_type sales_channel  vehicle_class  \n",
       "1413           second        Branch          Other  \n",
       "9105            first        Branch          Other  \n",
       "5324            first         Agent  Four-Door Car  \n",
       "4143            first   Other Media  Four-Door Car  \n",
       "4699           second   Other Media  Four-Door Car  \n",
       "...               ...           ...            ...  \n",
       "350             first         Agent  Four-Door Car  \n",
       "79             second        Branch          Other  \n",
       "8045            other         Agent  Four-Door Car  \n",
       "6942           second        Branch  Four-Door Car  \n",
       "5644            first         Agent          Other  \n",
       "\n",
       "[6389 rows x 8 columns]"
      ]
     },
     "execution_count": 70,
     "metadata": {},
     "output_type": "execute_result"
    }
   ],
   "source": [
    "cat_train_nom"
   ]
  },
  {
   "cell_type": "code",
   "execution_count": 71,
   "id": "64b20f1b",
   "metadata": {},
   "outputs": [
    {
     "name": "stderr",
     "output_type": "stream",
     "text": [
      "C:\\Users\\ALP\\Anaconda3\\lib\\site-packages\\sklearn\\utils\\deprecation.py:87: FutureWarning: Function get_feature_names is deprecated; get_feature_names is deprecated in 1.0 and will be removed in 1.2. Please use get_feature_names_out instead.\n",
      "  warnings.warn(msg, category=FutureWarning)\n"
     ]
    },
    {
     "data": {
      "text/html": [
       "<div>\n",
       "<style scoped>\n",
       "    .dataframe tbody tr th:only-of-type {\n",
       "        vertical-align: middle;\n",
       "    }\n",
       "\n",
       "    .dataframe tbody tr th {\n",
       "        vertical-align: top;\n",
       "    }\n",
       "\n",
       "    .dataframe thead th {\n",
       "        text-align: right;\n",
       "    }\n",
       "</style>\n",
       "<table border=\"1\" class=\"dataframe\">\n",
       "  <thead>\n",
       "    <tr style=\"text-align: right;\">\n",
       "      <th></th>\n",
       "      <th>state_Oregon</th>\n",
       "      <th>state_Other</th>\n",
       "      <th>response_Yes</th>\n",
       "      <th>gender_M</th>\n",
       "      <th>marital_status_Married</th>\n",
       "      <th>marital_status_Single</th>\n",
       "      <th>policy_type_Personal Auto</th>\n",
       "      <th>policy_type_Special Auto</th>\n",
       "      <th>renew_offer_type_other</th>\n",
       "      <th>renew_offer_type_second</th>\n",
       "      <th>sales_channel_Branch</th>\n",
       "      <th>sales_channel_Other Media</th>\n",
       "      <th>vehicle_class_Other</th>\n",
       "    </tr>\n",
       "  </thead>\n",
       "  <tbody>\n",
       "    <tr>\n",
       "      <th>0</th>\n",
       "      <td>1.0</td>\n",
       "      <td>0.0</td>\n",
       "      <td>0.0</td>\n",
       "      <td>0.0</td>\n",
       "      <td>0.0</td>\n",
       "      <td>0.0</td>\n",
       "      <td>1.0</td>\n",
       "      <td>0.0</td>\n",
       "      <td>0.0</td>\n",
       "      <td>1.0</td>\n",
       "      <td>1.0</td>\n",
       "      <td>0.0</td>\n",
       "      <td>1.0</td>\n",
       "    </tr>\n",
       "    <tr>\n",
       "      <th>1</th>\n",
       "      <td>0.0</td>\n",
       "      <td>0.0</td>\n",
       "      <td>0.0</td>\n",
       "      <td>1.0</td>\n",
       "      <td>0.0</td>\n",
       "      <td>0.0</td>\n",
       "      <td>1.0</td>\n",
       "      <td>0.0</td>\n",
       "      <td>0.0</td>\n",
       "      <td>0.0</td>\n",
       "      <td>1.0</td>\n",
       "      <td>0.0</td>\n",
       "      <td>1.0</td>\n",
       "    </tr>\n",
       "    <tr>\n",
       "      <th>2</th>\n",
       "      <td>0.0</td>\n",
       "      <td>1.0</td>\n",
       "      <td>0.0</td>\n",
       "      <td>0.0</td>\n",
       "      <td>1.0</td>\n",
       "      <td>0.0</td>\n",
       "      <td>1.0</td>\n",
       "      <td>0.0</td>\n",
       "      <td>0.0</td>\n",
       "      <td>0.0</td>\n",
       "      <td>0.0</td>\n",
       "      <td>0.0</td>\n",
       "      <td>0.0</td>\n",
       "    </tr>\n",
       "    <tr>\n",
       "      <th>3</th>\n",
       "      <td>0.0</td>\n",
       "      <td>1.0</td>\n",
       "      <td>0.0</td>\n",
       "      <td>1.0</td>\n",
       "      <td>0.0</td>\n",
       "      <td>1.0</td>\n",
       "      <td>0.0</td>\n",
       "      <td>0.0</td>\n",
       "      <td>0.0</td>\n",
       "      <td>0.0</td>\n",
       "      <td>0.0</td>\n",
       "      <td>1.0</td>\n",
       "      <td>0.0</td>\n",
       "    </tr>\n",
       "    <tr>\n",
       "      <th>4</th>\n",
       "      <td>0.0</td>\n",
       "      <td>0.0</td>\n",
       "      <td>0.0</td>\n",
       "      <td>1.0</td>\n",
       "      <td>0.0</td>\n",
       "      <td>1.0</td>\n",
       "      <td>1.0</td>\n",
       "      <td>0.0</td>\n",
       "      <td>0.0</td>\n",
       "      <td>1.0</td>\n",
       "      <td>0.0</td>\n",
       "      <td>1.0</td>\n",
       "      <td>0.0</td>\n",
       "    </tr>\n",
       "  </tbody>\n",
       "</table>\n",
       "</div>"
      ],
      "text/plain": [
       "   state_Oregon  state_Other  response_Yes  gender_M  marital_status_Married  \\\n",
       "0           1.0          0.0           0.0       0.0                     0.0   \n",
       "1           0.0          0.0           0.0       1.0                     0.0   \n",
       "2           0.0          1.0           0.0       0.0                     1.0   \n",
       "3           0.0          1.0           0.0       1.0                     0.0   \n",
       "4           0.0          0.0           0.0       1.0                     0.0   \n",
       "\n",
       "   marital_status_Single  policy_type_Personal Auto  policy_type_Special Auto  \\\n",
       "0                    0.0                        1.0                       0.0   \n",
       "1                    0.0                        1.0                       0.0   \n",
       "2                    0.0                        1.0                       0.0   \n",
       "3                    1.0                        0.0                       0.0   \n",
       "4                    1.0                        1.0                       0.0   \n",
       "\n",
       "   renew_offer_type_other  renew_offer_type_second  sales_channel_Branch  \\\n",
       "0                     0.0                      1.0                   1.0   \n",
       "1                     0.0                      0.0                   1.0   \n",
       "2                     0.0                      0.0                   0.0   \n",
       "3                     0.0                      0.0                   0.0   \n",
       "4                     0.0                      1.0                   0.0   \n",
       "\n",
       "   sales_channel_Other Media  vehicle_class_Other  \n",
       "0                        0.0                  1.0  \n",
       "1                        0.0                  1.0  \n",
       "2                        0.0                  0.0  \n",
       "3                        1.0                  0.0  \n",
       "4                        1.0                  0.0  "
      ]
     },
     "execution_count": 71,
     "metadata": {},
     "output_type": "execute_result"
    }
   ],
   "source": [
    "#Now we can do OneHotEncoding on the nominals. Lets go\n",
    "\n",
    "#Now we work on the categorical data\n",
    "#I will us a onehotencoder on the Senior Citizen train and test set\n",
    "#first on the train set\n",
    "from sklearn.preprocessing import OneHotEncoder\n",
    "encoder = OneHotEncoder(handle_unknown='error', drop='first') #important to drop first, as you already know what the other column will be\n",
    "encoder.fit(cat_train_nom)\n",
    "cat_train_nom_encoded = encoder.transform(cat_train_nom).toarray()\n",
    "cols = encoder.get_feature_names(input_features=cat_train_nom.columns)\n",
    "cat_train_nom_encoded = pd.DataFrame(cat_train_nom_encoded, columns=cols)\n",
    "cat_train_nom_encoded.head()"
   ]
  },
  {
   "cell_type": "code",
   "execution_count": 72,
   "id": "b55540d0",
   "metadata": {},
   "outputs": [
    {
     "name": "stderr",
     "output_type": "stream",
     "text": [
      "C:\\Users\\ALP\\Anaconda3\\lib\\site-packages\\sklearn\\utils\\deprecation.py:87: FutureWarning: Function get_feature_names is deprecated; get_feature_names is deprecated in 1.0 and will be removed in 1.2. Please use get_feature_names_out instead.\n",
      "  warnings.warn(msg, category=FutureWarning)\n"
     ]
    },
    {
     "data": {
      "text/html": [
       "<div>\n",
       "<style scoped>\n",
       "    .dataframe tbody tr th:only-of-type {\n",
       "        vertical-align: middle;\n",
       "    }\n",
       "\n",
       "    .dataframe tbody tr th {\n",
       "        vertical-align: top;\n",
       "    }\n",
       "\n",
       "    .dataframe thead th {\n",
       "        text-align: right;\n",
       "    }\n",
       "</style>\n",
       "<table border=\"1\" class=\"dataframe\">\n",
       "  <thead>\n",
       "    <tr style=\"text-align: right;\">\n",
       "      <th></th>\n",
       "      <th>state_Oregon</th>\n",
       "      <th>state_Other</th>\n",
       "      <th>response_Yes</th>\n",
       "      <th>gender_M</th>\n",
       "      <th>marital_status_Married</th>\n",
       "      <th>marital_status_Single</th>\n",
       "      <th>policy_type_Personal Auto</th>\n",
       "      <th>policy_type_Special Auto</th>\n",
       "      <th>renew_offer_type_other</th>\n",
       "      <th>renew_offer_type_second</th>\n",
       "      <th>sales_channel_Branch</th>\n",
       "      <th>sales_channel_Other Media</th>\n",
       "      <th>vehicle_class_Other</th>\n",
       "    </tr>\n",
       "  </thead>\n",
       "  <tbody>\n",
       "    <tr>\n",
       "      <th>0</th>\n",
       "      <td>1.0</td>\n",
       "      <td>0.0</td>\n",
       "      <td>0.0</td>\n",
       "      <td>0.0</td>\n",
       "      <td>1.0</td>\n",
       "      <td>0.0</td>\n",
       "      <td>0.0</td>\n",
       "      <td>0.0</td>\n",
       "      <td>0.0</td>\n",
       "      <td>0.0</td>\n",
       "      <td>0.0</td>\n",
       "      <td>1.0</td>\n",
       "      <td>1.0</td>\n",
       "    </tr>\n",
       "    <tr>\n",
       "      <th>1</th>\n",
       "      <td>0.0</td>\n",
       "      <td>1.0</td>\n",
       "      <td>0.0</td>\n",
       "      <td>0.0</td>\n",
       "      <td>1.0</td>\n",
       "      <td>0.0</td>\n",
       "      <td>1.0</td>\n",
       "      <td>0.0</td>\n",
       "      <td>1.0</td>\n",
       "      <td>0.0</td>\n",
       "      <td>0.0</td>\n",
       "      <td>1.0</td>\n",
       "      <td>1.0</td>\n",
       "    </tr>\n",
       "    <tr>\n",
       "      <th>2</th>\n",
       "      <td>0.0</td>\n",
       "      <td>1.0</td>\n",
       "      <td>0.0</td>\n",
       "      <td>0.0</td>\n",
       "      <td>1.0</td>\n",
       "      <td>0.0</td>\n",
       "      <td>1.0</td>\n",
       "      <td>0.0</td>\n",
       "      <td>1.0</td>\n",
       "      <td>0.0</td>\n",
       "      <td>0.0</td>\n",
       "      <td>1.0</td>\n",
       "      <td>1.0</td>\n",
       "    </tr>\n",
       "    <tr>\n",
       "      <th>3</th>\n",
       "      <td>0.0</td>\n",
       "      <td>1.0</td>\n",
       "      <td>1.0</td>\n",
       "      <td>1.0</td>\n",
       "      <td>1.0</td>\n",
       "      <td>0.0</td>\n",
       "      <td>1.0</td>\n",
       "      <td>0.0</td>\n",
       "      <td>0.0</td>\n",
       "      <td>1.0</td>\n",
       "      <td>0.0</td>\n",
       "      <td>0.0</td>\n",
       "      <td>0.0</td>\n",
       "    </tr>\n",
       "    <tr>\n",
       "      <th>4</th>\n",
       "      <td>0.0</td>\n",
       "      <td>1.0</td>\n",
       "      <td>0.0</td>\n",
       "      <td>1.0</td>\n",
       "      <td>0.0</td>\n",
       "      <td>1.0</td>\n",
       "      <td>0.0</td>\n",
       "      <td>0.0</td>\n",
       "      <td>1.0</td>\n",
       "      <td>0.0</td>\n",
       "      <td>0.0</td>\n",
       "      <td>0.0</td>\n",
       "      <td>0.0</td>\n",
       "    </tr>\n",
       "  </tbody>\n",
       "</table>\n",
       "</div>"
      ],
      "text/plain": [
       "   state_Oregon  state_Other  response_Yes  gender_M  marital_status_Married  \\\n",
       "0           1.0          0.0           0.0       0.0                     1.0   \n",
       "1           0.0          1.0           0.0       0.0                     1.0   \n",
       "2           0.0          1.0           0.0       0.0                     1.0   \n",
       "3           0.0          1.0           1.0       1.0                     1.0   \n",
       "4           0.0          1.0           0.0       1.0                     0.0   \n",
       "\n",
       "   marital_status_Single  policy_type_Personal Auto  policy_type_Special Auto  \\\n",
       "0                    0.0                        0.0                       0.0   \n",
       "1                    0.0                        1.0                       0.0   \n",
       "2                    0.0                        1.0                       0.0   \n",
       "3                    0.0                        1.0                       0.0   \n",
       "4                    1.0                        0.0                       0.0   \n",
       "\n",
       "   renew_offer_type_other  renew_offer_type_second  sales_channel_Branch  \\\n",
       "0                     0.0                      0.0                   0.0   \n",
       "1                     1.0                      0.0                   0.0   \n",
       "2                     1.0                      0.0                   0.0   \n",
       "3                     0.0                      1.0                   0.0   \n",
       "4                     1.0                      0.0                   0.0   \n",
       "\n",
       "   sales_channel_Other Media  vehicle_class_Other  \n",
       "0                        1.0                  1.0  \n",
       "1                        1.0                  1.0  \n",
       "2                        1.0                  1.0  \n",
       "3                        0.0                  0.0  \n",
       "4                        0.0                  0.0  "
      ]
     },
     "execution_count": 72,
     "metadata": {},
     "output_type": "execute_result"
    }
   ],
   "source": [
    "#Similarly lets one hot encode the test set\n",
    "cat_test_nom_encoded = encoder.transform(cat_test_nom).toarray()\n",
    "cols = encoder.get_feature_names(input_features=cat_train_nom.columns)\n",
    "cat_test_nom_encoded = pd.DataFrame(cat_test_nom_encoded, columns=cols)\n",
    "cat_test_nom_encoded.head()"
   ]
  },
  {
   "cell_type": "code",
   "execution_count": 73,
   "id": "4aef0201",
   "metadata": {},
   "outputs": [
    {
     "name": "stdout",
     "output_type": "stream",
     "text": [
      "<class 'pandas.core.frame.DataFrame'>\n",
      "Int64Index: 6389 entries, 1413 to 5644\n",
      "Data columns (total 8 columns):\n",
      " #   Column                     Non-Null Count  Dtype \n",
      "---  ------                     --------------  ----- \n",
      " 0   coverage                   6389 non-null   object\n",
      " 1   education                  6389 non-null   object\n",
      " 2   employmentstatus           6389 non-null   object\n",
      " 3   location_code              6389 non-null   object\n",
      " 4   number_of_open_complaints  6389 non-null   object\n",
      " 5   number_of_policies         6389 non-null   object\n",
      " 6   vehicle_size               6389 non-null   object\n",
      " 7   month                      6389 non-null   object\n",
      "dtypes: object(8)\n",
      "memory usage: 449.2+ KB\n"
     ]
    }
   ],
   "source": [
    "#Now lets label/Ordinal Encode the categorical ordinal data\n",
    "cat_train_ord.info()"
   ]
  },
  {
   "cell_type": "code",
   "execution_count": 74,
   "id": "1a61b81f",
   "metadata": {},
   "outputs": [],
   "source": [
    "#Dealing with my Ordinal Categorical data\n",
    "#Using Ordinal Encoder\n",
    "#Here I make the order of the values I want when using the Ordinal Encoder\n",
    "\n",
    "coverage_order = ['Basic', 'Extended', 'Premium']\n",
    "education_order = ['High School or Below', 'College', 'University Degree']\n",
    "employmentstatus_order = ['Employed', 'Other']\n",
    "location_code_order = ['Urban', 'Suburban', 'Rural']\n",
    "num_complaints_order = ['None', 'At least 1']\n",
    "num_policies_order = [1, 2, '3 or more']\n",
    "vehicle_size_order = ['Small', 'Medsize', 'Large']\n",
    "month_order = [1 , 2]"
   ]
  },
  {
   "cell_type": "code",
   "execution_count": 75,
   "id": "a3c8ae3e",
   "metadata": {},
   "outputs": [
    {
     "data": {
      "text/plain": [
       "['coverage',\n",
       " 'education',\n",
       " 'employmentstatus',\n",
       " 'location_code',\n",
       " 'number_of_open_complaints',\n",
       " 'number_of_policies',\n",
       " 'vehicle_size',\n",
       " 'month']"
      ]
     },
     "execution_count": 75,
     "metadata": {},
     "output_type": "execute_result"
    }
   ],
   "source": [
    "#These are for the column names of the to be encoded df\n",
    "cols = list(cat_train_ord.columns)\n",
    "cols"
   ]
  },
  {
   "cell_type": "code",
   "execution_count": 76,
   "id": "a36ce9d4",
   "metadata": {},
   "outputs": [
    {
     "name": "stdout",
     "output_type": "stream",
     "text": [
      "OrdinalEncoder(categories=[['Basic', 'Extended', 'Premium'],\n",
      "                           ['High School or Below', 'College',\n",
      "                            'University Degree'],\n",
      "                           ['Employed', 'Other'],\n",
      "                           ['Urban', 'Suburban', 'Rural'],\n",
      "                           ['None', 'At least 1'], [1, 2, '3 or more'],\n",
      "                           ['Small', 'Medsize', 'Large'], [1, 2]])\n"
     ]
    },
    {
     "data": {
      "text/html": [
       "<div>\n",
       "<style scoped>\n",
       "    .dataframe tbody tr th:only-of-type {\n",
       "        vertical-align: middle;\n",
       "    }\n",
       "\n",
       "    .dataframe tbody tr th {\n",
       "        vertical-align: top;\n",
       "    }\n",
       "\n",
       "    .dataframe thead th {\n",
       "        text-align: right;\n",
       "    }\n",
       "</style>\n",
       "<table border=\"1\" class=\"dataframe\">\n",
       "  <thead>\n",
       "    <tr style=\"text-align: right;\">\n",
       "      <th></th>\n",
       "      <th>coverage</th>\n",
       "      <th>education</th>\n",
       "      <th>employmentstatus</th>\n",
       "      <th>location_code</th>\n",
       "      <th>number_of_open_complaints</th>\n",
       "      <th>number_of_policies</th>\n",
       "      <th>vehicle_size</th>\n",
       "      <th>month</th>\n",
       "    </tr>\n",
       "  </thead>\n",
       "  <tbody>\n",
       "    <tr>\n",
       "      <th>0</th>\n",
       "      <td>0.0</td>\n",
       "      <td>2.0</td>\n",
       "      <td>0.0</td>\n",
       "      <td>2.0</td>\n",
       "      <td>0.0</td>\n",
       "      <td>2.0</td>\n",
       "      <td>0.0</td>\n",
       "      <td>0.0</td>\n",
       "    </tr>\n",
       "    <tr>\n",
       "      <th>1</th>\n",
       "      <td>1.0</td>\n",
       "      <td>1.0</td>\n",
       "      <td>0.0</td>\n",
       "      <td>1.0</td>\n",
       "      <td>1.0</td>\n",
       "      <td>2.0</td>\n",
       "      <td>1.0</td>\n",
       "      <td>1.0</td>\n",
       "    </tr>\n",
       "    <tr>\n",
       "      <th>2</th>\n",
       "      <td>1.0</td>\n",
       "      <td>2.0</td>\n",
       "      <td>0.0</td>\n",
       "      <td>2.0</td>\n",
       "      <td>0.0</td>\n",
       "      <td>0.0</td>\n",
       "      <td>1.0</td>\n",
       "      <td>1.0</td>\n",
       "    </tr>\n",
       "    <tr>\n",
       "      <th>3</th>\n",
       "      <td>0.0</td>\n",
       "      <td>2.0</td>\n",
       "      <td>0.0</td>\n",
       "      <td>2.0</td>\n",
       "      <td>1.0</td>\n",
       "      <td>2.0</td>\n",
       "      <td>1.0</td>\n",
       "      <td>1.0</td>\n",
       "    </tr>\n",
       "    <tr>\n",
       "      <th>4</th>\n",
       "      <td>0.0</td>\n",
       "      <td>0.0</td>\n",
       "      <td>1.0</td>\n",
       "      <td>1.0</td>\n",
       "      <td>1.0</td>\n",
       "      <td>1.0</td>\n",
       "      <td>0.0</td>\n",
       "      <td>1.0</td>\n",
       "    </tr>\n",
       "    <tr>\n",
       "      <th>...</th>\n",
       "      <td>...</td>\n",
       "      <td>...</td>\n",
       "      <td>...</td>\n",
       "      <td>...</td>\n",
       "      <td>...</td>\n",
       "      <td>...</td>\n",
       "      <td>...</td>\n",
       "      <td>...</td>\n",
       "    </tr>\n",
       "    <tr>\n",
       "      <th>6384</th>\n",
       "      <td>2.0</td>\n",
       "      <td>1.0</td>\n",
       "      <td>1.0</td>\n",
       "      <td>2.0</td>\n",
       "      <td>1.0</td>\n",
       "      <td>2.0</td>\n",
       "      <td>1.0</td>\n",
       "      <td>0.0</td>\n",
       "    </tr>\n",
       "    <tr>\n",
       "      <th>6385</th>\n",
       "      <td>0.0</td>\n",
       "      <td>2.0</td>\n",
       "      <td>0.0</td>\n",
       "      <td>2.0</td>\n",
       "      <td>1.0</td>\n",
       "      <td>1.0</td>\n",
       "      <td>0.0</td>\n",
       "      <td>1.0</td>\n",
       "    </tr>\n",
       "    <tr>\n",
       "      <th>6386</th>\n",
       "      <td>1.0</td>\n",
       "      <td>2.0</td>\n",
       "      <td>0.0</td>\n",
       "      <td>2.0</td>\n",
       "      <td>1.0</td>\n",
       "      <td>2.0</td>\n",
       "      <td>2.0</td>\n",
       "      <td>1.0</td>\n",
       "    </tr>\n",
       "    <tr>\n",
       "      <th>6387</th>\n",
       "      <td>0.0</td>\n",
       "      <td>2.0</td>\n",
       "      <td>0.0</td>\n",
       "      <td>0.0</td>\n",
       "      <td>1.0</td>\n",
       "      <td>2.0</td>\n",
       "      <td>1.0</td>\n",
       "      <td>1.0</td>\n",
       "    </tr>\n",
       "    <tr>\n",
       "      <th>6388</th>\n",
       "      <td>0.0</td>\n",
       "      <td>2.0</td>\n",
       "      <td>1.0</td>\n",
       "      <td>1.0</td>\n",
       "      <td>0.0</td>\n",
       "      <td>0.0</td>\n",
       "      <td>1.0</td>\n",
       "      <td>0.0</td>\n",
       "    </tr>\n",
       "  </tbody>\n",
       "</table>\n",
       "<p>6389 rows × 8 columns</p>\n",
       "</div>"
      ],
      "text/plain": [
       "      coverage  education  employmentstatus  location_code  \\\n",
       "0          0.0        2.0               0.0            2.0   \n",
       "1          1.0        1.0               0.0            1.0   \n",
       "2          1.0        2.0               0.0            2.0   \n",
       "3          0.0        2.0               0.0            2.0   \n",
       "4          0.0        0.0               1.0            1.0   \n",
       "...        ...        ...               ...            ...   \n",
       "6384       2.0        1.0               1.0            2.0   \n",
       "6385       0.0        2.0               0.0            2.0   \n",
       "6386       1.0        2.0               0.0            2.0   \n",
       "6387       0.0        2.0               0.0            0.0   \n",
       "6388       0.0        2.0               1.0            1.0   \n",
       "\n",
       "      number_of_open_complaints  number_of_policies  vehicle_size  month  \n",
       "0                           0.0                 2.0           0.0    0.0  \n",
       "1                           1.0                 2.0           1.0    1.0  \n",
       "2                           0.0                 0.0           1.0    1.0  \n",
       "3                           1.0                 2.0           1.0    1.0  \n",
       "4                           1.0                 1.0           0.0    1.0  \n",
       "...                         ...                 ...           ...    ...  \n",
       "6384                        1.0                 2.0           1.0    0.0  \n",
       "6385                        1.0                 1.0           0.0    1.0  \n",
       "6386                        1.0                 2.0           2.0    1.0  \n",
       "6387                        1.0                 2.0           1.0    1.0  \n",
       "6388                        0.0                 0.0           1.0    0.0  \n",
       "\n",
       "[6389 rows x 8 columns]"
      ]
     },
     "execution_count": 76,
     "metadata": {},
     "output_type": "execute_result"
    }
   ],
   "source": [
    "from sklearn.preprocessing import OrdinalEncoder\n",
    "ordi = OrdinalEncoder(categories = [coverage_order, education_order, employmentstatus_order, location_code_order, num_complaints_order, num_policies_order, vehicle_size_order, month_order]).fit(cat_train_ord[['coverage', 'education', 'employmentstatus', 'location_code', 'number_of_open_complaints', 'number_of_policies', 'vehicle_size', 'month']])\n",
    "print(ordi)\n",
    "cat_train_ord_encoded = ordi.transform(cat_train_ord[['coverage', 'education', 'employmentstatus', 'location_code', 'number_of_open_complaints', 'number_of_policies', 'vehicle_size', 'month']])\n",
    "cat_train_ord_encoded = pd.DataFrame(cat_train_ord_encoded, columns= cols)\n",
    "cat_train_ord_encoded"
   ]
  },
  {
   "cell_type": "code",
   "execution_count": 77,
   "id": "1e7698ae",
   "metadata": {},
   "outputs": [
    {
     "data": {
      "text/html": [
       "<div>\n",
       "<style scoped>\n",
       "    .dataframe tbody tr th:only-of-type {\n",
       "        vertical-align: middle;\n",
       "    }\n",
       "\n",
       "    .dataframe tbody tr th {\n",
       "        vertical-align: top;\n",
       "    }\n",
       "\n",
       "    .dataframe thead th {\n",
       "        text-align: right;\n",
       "    }\n",
       "</style>\n",
       "<table border=\"1\" class=\"dataframe\">\n",
       "  <thead>\n",
       "    <tr style=\"text-align: right;\">\n",
       "      <th></th>\n",
       "      <th>coverage</th>\n",
       "      <th>education</th>\n",
       "      <th>employmentstatus</th>\n",
       "      <th>location_code</th>\n",
       "      <th>number_of_open_complaints</th>\n",
       "      <th>number_of_policies</th>\n",
       "      <th>vehicle_size</th>\n",
       "      <th>month</th>\n",
       "    </tr>\n",
       "  </thead>\n",
       "  <tbody>\n",
       "    <tr>\n",
       "      <th>0</th>\n",
       "      <td>0.0</td>\n",
       "      <td>1.0</td>\n",
       "      <td>0.0</td>\n",
       "      <td>1.0</td>\n",
       "      <td>0.0</td>\n",
       "      <td>1.0</td>\n",
       "      <td>1.0</td>\n",
       "      <td>1.0</td>\n",
       "    </tr>\n",
       "    <tr>\n",
       "      <th>1</th>\n",
       "      <td>1.0</td>\n",
       "      <td>2.0</td>\n",
       "      <td>0.0</td>\n",
       "      <td>0.0</td>\n",
       "      <td>0.0</td>\n",
       "      <td>2.0</td>\n",
       "      <td>2.0</td>\n",
       "      <td>0.0</td>\n",
       "    </tr>\n",
       "    <tr>\n",
       "      <th>2</th>\n",
       "      <td>1.0</td>\n",
       "      <td>2.0</td>\n",
       "      <td>0.0</td>\n",
       "      <td>1.0</td>\n",
       "      <td>1.0</td>\n",
       "      <td>2.0</td>\n",
       "      <td>1.0</td>\n",
       "      <td>0.0</td>\n",
       "    </tr>\n",
       "    <tr>\n",
       "      <th>3</th>\n",
       "      <td>0.0</td>\n",
       "      <td>1.0</td>\n",
       "      <td>0.0</td>\n",
       "      <td>1.0</td>\n",
       "      <td>1.0</td>\n",
       "      <td>1.0</td>\n",
       "      <td>2.0</td>\n",
       "      <td>1.0</td>\n",
       "    </tr>\n",
       "    <tr>\n",
       "      <th>4</th>\n",
       "      <td>2.0</td>\n",
       "      <td>2.0</td>\n",
       "      <td>0.0</td>\n",
       "      <td>1.0</td>\n",
       "      <td>0.0</td>\n",
       "      <td>1.0</td>\n",
       "      <td>1.0</td>\n",
       "      <td>0.0</td>\n",
       "    </tr>\n",
       "    <tr>\n",
       "      <th>...</th>\n",
       "      <td>...</td>\n",
       "      <td>...</td>\n",
       "      <td>...</td>\n",
       "      <td>...</td>\n",
       "      <td>...</td>\n",
       "      <td>...</td>\n",
       "      <td>...</td>\n",
       "      <td>...</td>\n",
       "    </tr>\n",
       "    <tr>\n",
       "      <th>2734</th>\n",
       "      <td>0.0</td>\n",
       "      <td>0.0</td>\n",
       "      <td>0.0</td>\n",
       "      <td>1.0</td>\n",
       "      <td>0.0</td>\n",
       "      <td>2.0</td>\n",
       "      <td>1.0</td>\n",
       "      <td>1.0</td>\n",
       "    </tr>\n",
       "    <tr>\n",
       "      <th>2735</th>\n",
       "      <td>1.0</td>\n",
       "      <td>0.0</td>\n",
       "      <td>1.0</td>\n",
       "      <td>1.0</td>\n",
       "      <td>0.0</td>\n",
       "      <td>2.0</td>\n",
       "      <td>1.0</td>\n",
       "      <td>1.0</td>\n",
       "    </tr>\n",
       "    <tr>\n",
       "      <th>2736</th>\n",
       "      <td>0.0</td>\n",
       "      <td>0.0</td>\n",
       "      <td>0.0</td>\n",
       "      <td>1.0</td>\n",
       "      <td>0.0</td>\n",
       "      <td>1.0</td>\n",
       "      <td>0.0</td>\n",
       "      <td>1.0</td>\n",
       "    </tr>\n",
       "    <tr>\n",
       "      <th>2737</th>\n",
       "      <td>2.0</td>\n",
       "      <td>2.0</td>\n",
       "      <td>1.0</td>\n",
       "      <td>1.0</td>\n",
       "      <td>1.0</td>\n",
       "      <td>1.0</td>\n",
       "      <td>1.0</td>\n",
       "      <td>0.0</td>\n",
       "    </tr>\n",
       "    <tr>\n",
       "      <th>2738</th>\n",
       "      <td>0.0</td>\n",
       "      <td>2.0</td>\n",
       "      <td>0.0</td>\n",
       "      <td>0.0</td>\n",
       "      <td>0.0</td>\n",
       "      <td>0.0</td>\n",
       "      <td>1.0</td>\n",
       "      <td>0.0</td>\n",
       "    </tr>\n",
       "  </tbody>\n",
       "</table>\n",
       "<p>2739 rows × 8 columns</p>\n",
       "</div>"
      ],
      "text/plain": [
       "      coverage  education  employmentstatus  location_code  \\\n",
       "0          0.0        1.0               0.0            1.0   \n",
       "1          1.0        2.0               0.0            0.0   \n",
       "2          1.0        2.0               0.0            1.0   \n",
       "3          0.0        1.0               0.0            1.0   \n",
       "4          2.0        2.0               0.0            1.0   \n",
       "...        ...        ...               ...            ...   \n",
       "2734       0.0        0.0               0.0            1.0   \n",
       "2735       1.0        0.0               1.0            1.0   \n",
       "2736       0.0        0.0               0.0            1.0   \n",
       "2737       2.0        2.0               1.0            1.0   \n",
       "2738       0.0        2.0               0.0            0.0   \n",
       "\n",
       "      number_of_open_complaints  number_of_policies  vehicle_size  month  \n",
       "0                           0.0                 1.0           1.0    1.0  \n",
       "1                           0.0                 2.0           2.0    0.0  \n",
       "2                           1.0                 2.0           1.0    0.0  \n",
       "3                           1.0                 1.0           2.0    1.0  \n",
       "4                           0.0                 1.0           1.0    0.0  \n",
       "...                         ...                 ...           ...    ...  \n",
       "2734                        0.0                 2.0           1.0    1.0  \n",
       "2735                        0.0                 2.0           1.0    1.0  \n",
       "2736                        0.0                 1.0           0.0    1.0  \n",
       "2737                        1.0                 1.0           1.0    0.0  \n",
       "2738                        0.0                 0.0           1.0    0.0  \n",
       "\n",
       "[2739 rows x 8 columns]"
      ]
     },
     "execution_count": 77,
     "metadata": {},
     "output_type": "execute_result"
    }
   ],
   "source": [
    "cat_test_ord_encoded = ordi.transform(cat_test_ord[['coverage', 'education', 'employmentstatus', 'location_code', 'number_of_open_complaints', 'number_of_policies', 'vehicle_size', 'month']])\n",
    "cat_test_ord_encoded = pd.DataFrame(cat_test_ord_encoded, columns= cols)\n",
    "cat_test_ord_encoded"
   ]
  },
  {
   "cell_type": "markdown",
   "id": "cb2a2660",
   "metadata": {},
   "source": [
    "**Now its time to gather all the transformed/encoded data together into one df !!!!**"
   ]
  },
  {
   "cell_type": "code",
   "execution_count": 78,
   "id": "eb6c4e85",
   "metadata": {},
   "outputs": [],
   "source": [
    "#Firts lets gather all the categorical together \n",
    "\n",
    "cat_train_encoded = pd.concat([cat_train_nom_encoded, cat_train_ord_encoded], axis = 1)\n",
    "cat_test_encoded = pd.concat([cat_test_nom_encoded, cat_test_ord_encoded], axis = 1)"
   ]
  },
  {
   "cell_type": "code",
   "execution_count": 79,
   "id": "3f4636c9",
   "metadata": {},
   "outputs": [
    {
     "data": {
      "text/html": [
       "<div>\n",
       "<style scoped>\n",
       "    .dataframe tbody tr th:only-of-type {\n",
       "        vertical-align: middle;\n",
       "    }\n",
       "\n",
       "    .dataframe tbody tr th {\n",
       "        vertical-align: top;\n",
       "    }\n",
       "\n",
       "    .dataframe thead th {\n",
       "        text-align: right;\n",
       "    }\n",
       "</style>\n",
       "<table border=\"1\" class=\"dataframe\">\n",
       "  <thead>\n",
       "    <tr style=\"text-align: right;\">\n",
       "      <th></th>\n",
       "      <th>state_Oregon</th>\n",
       "      <th>state_Other</th>\n",
       "      <th>response_Yes</th>\n",
       "      <th>gender_M</th>\n",
       "      <th>marital_status_Married</th>\n",
       "      <th>marital_status_Single</th>\n",
       "      <th>policy_type_Personal Auto</th>\n",
       "      <th>policy_type_Special Auto</th>\n",
       "      <th>renew_offer_type_other</th>\n",
       "      <th>renew_offer_type_second</th>\n",
       "      <th>...</th>\n",
       "      <th>sales_channel_Other Media</th>\n",
       "      <th>vehicle_class_Other</th>\n",
       "      <th>coverage</th>\n",
       "      <th>education</th>\n",
       "      <th>employmentstatus</th>\n",
       "      <th>location_code</th>\n",
       "      <th>number_of_open_complaints</th>\n",
       "      <th>number_of_policies</th>\n",
       "      <th>vehicle_size</th>\n",
       "      <th>month</th>\n",
       "    </tr>\n",
       "  </thead>\n",
       "  <tbody>\n",
       "    <tr>\n",
       "      <th>0</th>\n",
       "      <td>1.0</td>\n",
       "      <td>0.0</td>\n",
       "      <td>0.0</td>\n",
       "      <td>0.0</td>\n",
       "      <td>0.0</td>\n",
       "      <td>0.0</td>\n",
       "      <td>1.0</td>\n",
       "      <td>0.0</td>\n",
       "      <td>0.0</td>\n",
       "      <td>1.0</td>\n",
       "      <td>...</td>\n",
       "      <td>0.0</td>\n",
       "      <td>1.0</td>\n",
       "      <td>0.0</td>\n",
       "      <td>2.0</td>\n",
       "      <td>0.0</td>\n",
       "      <td>2.0</td>\n",
       "      <td>0.0</td>\n",
       "      <td>2.0</td>\n",
       "      <td>0.0</td>\n",
       "      <td>0.0</td>\n",
       "    </tr>\n",
       "    <tr>\n",
       "      <th>1</th>\n",
       "      <td>0.0</td>\n",
       "      <td>0.0</td>\n",
       "      <td>0.0</td>\n",
       "      <td>1.0</td>\n",
       "      <td>0.0</td>\n",
       "      <td>0.0</td>\n",
       "      <td>1.0</td>\n",
       "      <td>0.0</td>\n",
       "      <td>0.0</td>\n",
       "      <td>0.0</td>\n",
       "      <td>...</td>\n",
       "      <td>0.0</td>\n",
       "      <td>1.0</td>\n",
       "      <td>1.0</td>\n",
       "      <td>1.0</td>\n",
       "      <td>0.0</td>\n",
       "      <td>1.0</td>\n",
       "      <td>1.0</td>\n",
       "      <td>2.0</td>\n",
       "      <td>1.0</td>\n",
       "      <td>1.0</td>\n",
       "    </tr>\n",
       "    <tr>\n",
       "      <th>2</th>\n",
       "      <td>0.0</td>\n",
       "      <td>1.0</td>\n",
       "      <td>0.0</td>\n",
       "      <td>0.0</td>\n",
       "      <td>1.0</td>\n",
       "      <td>0.0</td>\n",
       "      <td>1.0</td>\n",
       "      <td>0.0</td>\n",
       "      <td>0.0</td>\n",
       "      <td>0.0</td>\n",
       "      <td>...</td>\n",
       "      <td>0.0</td>\n",
       "      <td>0.0</td>\n",
       "      <td>1.0</td>\n",
       "      <td>2.0</td>\n",
       "      <td>0.0</td>\n",
       "      <td>2.0</td>\n",
       "      <td>0.0</td>\n",
       "      <td>0.0</td>\n",
       "      <td>1.0</td>\n",
       "      <td>1.0</td>\n",
       "    </tr>\n",
       "    <tr>\n",
       "      <th>3</th>\n",
       "      <td>0.0</td>\n",
       "      <td>1.0</td>\n",
       "      <td>0.0</td>\n",
       "      <td>1.0</td>\n",
       "      <td>0.0</td>\n",
       "      <td>1.0</td>\n",
       "      <td>0.0</td>\n",
       "      <td>0.0</td>\n",
       "      <td>0.0</td>\n",
       "      <td>0.0</td>\n",
       "      <td>...</td>\n",
       "      <td>1.0</td>\n",
       "      <td>0.0</td>\n",
       "      <td>0.0</td>\n",
       "      <td>2.0</td>\n",
       "      <td>0.0</td>\n",
       "      <td>2.0</td>\n",
       "      <td>1.0</td>\n",
       "      <td>2.0</td>\n",
       "      <td>1.0</td>\n",
       "      <td>1.0</td>\n",
       "    </tr>\n",
       "    <tr>\n",
       "      <th>4</th>\n",
       "      <td>0.0</td>\n",
       "      <td>0.0</td>\n",
       "      <td>0.0</td>\n",
       "      <td>1.0</td>\n",
       "      <td>0.0</td>\n",
       "      <td>1.0</td>\n",
       "      <td>1.0</td>\n",
       "      <td>0.0</td>\n",
       "      <td>0.0</td>\n",
       "      <td>1.0</td>\n",
       "      <td>...</td>\n",
       "      <td>1.0</td>\n",
       "      <td>0.0</td>\n",
       "      <td>0.0</td>\n",
       "      <td>0.0</td>\n",
       "      <td>1.0</td>\n",
       "      <td>1.0</td>\n",
       "      <td>1.0</td>\n",
       "      <td>1.0</td>\n",
       "      <td>0.0</td>\n",
       "      <td>1.0</td>\n",
       "    </tr>\n",
       "  </tbody>\n",
       "</table>\n",
       "<p>5 rows × 21 columns</p>\n",
       "</div>"
      ],
      "text/plain": [
       "   state_Oregon  state_Other  response_Yes  gender_M  marital_status_Married  \\\n",
       "0           1.0          0.0           0.0       0.0                     0.0   \n",
       "1           0.0          0.0           0.0       1.0                     0.0   \n",
       "2           0.0          1.0           0.0       0.0                     1.0   \n",
       "3           0.0          1.0           0.0       1.0                     0.0   \n",
       "4           0.0          0.0           0.0       1.0                     0.0   \n",
       "\n",
       "   marital_status_Single  policy_type_Personal Auto  policy_type_Special Auto  \\\n",
       "0                    0.0                        1.0                       0.0   \n",
       "1                    0.0                        1.0                       0.0   \n",
       "2                    0.0                        1.0                       0.0   \n",
       "3                    1.0                        0.0                       0.0   \n",
       "4                    1.0                        1.0                       0.0   \n",
       "\n",
       "   renew_offer_type_other  renew_offer_type_second  ...  \\\n",
       "0                     0.0                      1.0  ...   \n",
       "1                     0.0                      0.0  ...   \n",
       "2                     0.0                      0.0  ...   \n",
       "3                     0.0                      0.0  ...   \n",
       "4                     0.0                      1.0  ...   \n",
       "\n",
       "   sales_channel_Other Media  vehicle_class_Other  coverage  education  \\\n",
       "0                        0.0                  1.0       0.0        2.0   \n",
       "1                        0.0                  1.0       1.0        1.0   \n",
       "2                        0.0                  0.0       1.0        2.0   \n",
       "3                        1.0                  0.0       0.0        2.0   \n",
       "4                        1.0                  0.0       0.0        0.0   \n",
       "\n",
       "   employmentstatus  location_code  number_of_open_complaints  \\\n",
       "0               0.0            2.0                        0.0   \n",
       "1               0.0            1.0                        1.0   \n",
       "2               0.0            2.0                        0.0   \n",
       "3               0.0            2.0                        1.0   \n",
       "4               1.0            1.0                        1.0   \n",
       "\n",
       "   number_of_policies  vehicle_size  month  \n",
       "0                 2.0           0.0    0.0  \n",
       "1                 2.0           1.0    1.0  \n",
       "2                 0.0           1.0    1.0  \n",
       "3                 2.0           1.0    1.0  \n",
       "4                 1.0           0.0    1.0  \n",
       "\n",
       "[5 rows x 21 columns]"
      ]
     },
     "metadata": {},
     "output_type": "display_data"
    },
    {
     "data": {
      "text/html": [
       "<div>\n",
       "<style scoped>\n",
       "    .dataframe tbody tr th:only-of-type {\n",
       "        vertical-align: middle;\n",
       "    }\n",
       "\n",
       "    .dataframe tbody tr th {\n",
       "        vertical-align: top;\n",
       "    }\n",
       "\n",
       "    .dataframe thead th {\n",
       "        text-align: right;\n",
       "    }\n",
       "</style>\n",
       "<table border=\"1\" class=\"dataframe\">\n",
       "  <thead>\n",
       "    <tr style=\"text-align: right;\">\n",
       "      <th></th>\n",
       "      <th>state_Oregon</th>\n",
       "      <th>state_Other</th>\n",
       "      <th>response_Yes</th>\n",
       "      <th>gender_M</th>\n",
       "      <th>marital_status_Married</th>\n",
       "      <th>marital_status_Single</th>\n",
       "      <th>policy_type_Personal Auto</th>\n",
       "      <th>policy_type_Special Auto</th>\n",
       "      <th>renew_offer_type_other</th>\n",
       "      <th>renew_offer_type_second</th>\n",
       "      <th>...</th>\n",
       "      <th>sales_channel_Other Media</th>\n",
       "      <th>vehicle_class_Other</th>\n",
       "      <th>coverage</th>\n",
       "      <th>education</th>\n",
       "      <th>employmentstatus</th>\n",
       "      <th>location_code</th>\n",
       "      <th>number_of_open_complaints</th>\n",
       "      <th>number_of_policies</th>\n",
       "      <th>vehicle_size</th>\n",
       "      <th>month</th>\n",
       "    </tr>\n",
       "  </thead>\n",
       "  <tbody>\n",
       "    <tr>\n",
       "      <th>0</th>\n",
       "      <td>1.0</td>\n",
       "      <td>0.0</td>\n",
       "      <td>0.0</td>\n",
       "      <td>0.0</td>\n",
       "      <td>1.0</td>\n",
       "      <td>0.0</td>\n",
       "      <td>0.0</td>\n",
       "      <td>0.0</td>\n",
       "      <td>0.0</td>\n",
       "      <td>0.0</td>\n",
       "      <td>...</td>\n",
       "      <td>1.0</td>\n",
       "      <td>1.0</td>\n",
       "      <td>0.0</td>\n",
       "      <td>1.0</td>\n",
       "      <td>0.0</td>\n",
       "      <td>1.0</td>\n",
       "      <td>0.0</td>\n",
       "      <td>1.0</td>\n",
       "      <td>1.0</td>\n",
       "      <td>1.0</td>\n",
       "    </tr>\n",
       "    <tr>\n",
       "      <th>1</th>\n",
       "      <td>0.0</td>\n",
       "      <td>1.0</td>\n",
       "      <td>0.0</td>\n",
       "      <td>0.0</td>\n",
       "      <td>1.0</td>\n",
       "      <td>0.0</td>\n",
       "      <td>1.0</td>\n",
       "      <td>0.0</td>\n",
       "      <td>1.0</td>\n",
       "      <td>0.0</td>\n",
       "      <td>...</td>\n",
       "      <td>1.0</td>\n",
       "      <td>1.0</td>\n",
       "      <td>1.0</td>\n",
       "      <td>2.0</td>\n",
       "      <td>0.0</td>\n",
       "      <td>0.0</td>\n",
       "      <td>0.0</td>\n",
       "      <td>2.0</td>\n",
       "      <td>2.0</td>\n",
       "      <td>0.0</td>\n",
       "    </tr>\n",
       "    <tr>\n",
       "      <th>2</th>\n",
       "      <td>0.0</td>\n",
       "      <td>1.0</td>\n",
       "      <td>0.0</td>\n",
       "      <td>0.0</td>\n",
       "      <td>1.0</td>\n",
       "      <td>0.0</td>\n",
       "      <td>1.0</td>\n",
       "      <td>0.0</td>\n",
       "      <td>1.0</td>\n",
       "      <td>0.0</td>\n",
       "      <td>...</td>\n",
       "      <td>1.0</td>\n",
       "      <td>1.0</td>\n",
       "      <td>1.0</td>\n",
       "      <td>2.0</td>\n",
       "      <td>0.0</td>\n",
       "      <td>1.0</td>\n",
       "      <td>1.0</td>\n",
       "      <td>2.0</td>\n",
       "      <td>1.0</td>\n",
       "      <td>0.0</td>\n",
       "    </tr>\n",
       "    <tr>\n",
       "      <th>3</th>\n",
       "      <td>0.0</td>\n",
       "      <td>1.0</td>\n",
       "      <td>1.0</td>\n",
       "      <td>1.0</td>\n",
       "      <td>1.0</td>\n",
       "      <td>0.0</td>\n",
       "      <td>1.0</td>\n",
       "      <td>0.0</td>\n",
       "      <td>0.0</td>\n",
       "      <td>1.0</td>\n",
       "      <td>...</td>\n",
       "      <td>0.0</td>\n",
       "      <td>0.0</td>\n",
       "      <td>0.0</td>\n",
       "      <td>1.0</td>\n",
       "      <td>0.0</td>\n",
       "      <td>1.0</td>\n",
       "      <td>1.0</td>\n",
       "      <td>1.0</td>\n",
       "      <td>2.0</td>\n",
       "      <td>1.0</td>\n",
       "    </tr>\n",
       "    <tr>\n",
       "      <th>4</th>\n",
       "      <td>0.0</td>\n",
       "      <td>1.0</td>\n",
       "      <td>0.0</td>\n",
       "      <td>1.0</td>\n",
       "      <td>0.0</td>\n",
       "      <td>1.0</td>\n",
       "      <td>0.0</td>\n",
       "      <td>0.0</td>\n",
       "      <td>1.0</td>\n",
       "      <td>0.0</td>\n",
       "      <td>...</td>\n",
       "      <td>0.0</td>\n",
       "      <td>0.0</td>\n",
       "      <td>2.0</td>\n",
       "      <td>2.0</td>\n",
       "      <td>0.0</td>\n",
       "      <td>1.0</td>\n",
       "      <td>0.0</td>\n",
       "      <td>1.0</td>\n",
       "      <td>1.0</td>\n",
       "      <td>0.0</td>\n",
       "    </tr>\n",
       "  </tbody>\n",
       "</table>\n",
       "<p>5 rows × 21 columns</p>\n",
       "</div>"
      ],
      "text/plain": [
       "   state_Oregon  state_Other  response_Yes  gender_M  marital_status_Married  \\\n",
       "0           1.0          0.0           0.0       0.0                     1.0   \n",
       "1           0.0          1.0           0.0       0.0                     1.0   \n",
       "2           0.0          1.0           0.0       0.0                     1.0   \n",
       "3           0.0          1.0           1.0       1.0                     1.0   \n",
       "4           0.0          1.0           0.0       1.0                     0.0   \n",
       "\n",
       "   marital_status_Single  policy_type_Personal Auto  policy_type_Special Auto  \\\n",
       "0                    0.0                        0.0                       0.0   \n",
       "1                    0.0                        1.0                       0.0   \n",
       "2                    0.0                        1.0                       0.0   \n",
       "3                    0.0                        1.0                       0.0   \n",
       "4                    1.0                        0.0                       0.0   \n",
       "\n",
       "   renew_offer_type_other  renew_offer_type_second  ...  \\\n",
       "0                     0.0                      0.0  ...   \n",
       "1                     1.0                      0.0  ...   \n",
       "2                     1.0                      0.0  ...   \n",
       "3                     0.0                      1.0  ...   \n",
       "4                     1.0                      0.0  ...   \n",
       "\n",
       "   sales_channel_Other Media  vehicle_class_Other  coverage  education  \\\n",
       "0                        1.0                  1.0       0.0        1.0   \n",
       "1                        1.0                  1.0       1.0        2.0   \n",
       "2                        1.0                  1.0       1.0        2.0   \n",
       "3                        0.0                  0.0       0.0        1.0   \n",
       "4                        0.0                  0.0       2.0        2.0   \n",
       "\n",
       "   employmentstatus  location_code  number_of_open_complaints  \\\n",
       "0               0.0            1.0                        0.0   \n",
       "1               0.0            0.0                        0.0   \n",
       "2               0.0            1.0                        1.0   \n",
       "3               0.0            1.0                        1.0   \n",
       "4               0.0            1.0                        0.0   \n",
       "\n",
       "   number_of_policies  vehicle_size  month  \n",
       "0                 1.0           1.0    1.0  \n",
       "1                 2.0           2.0    0.0  \n",
       "2                 2.0           1.0    0.0  \n",
       "3                 1.0           2.0    1.0  \n",
       "4                 1.0           1.0    0.0  \n",
       "\n",
       "[5 rows x 21 columns]"
      ]
     },
     "metadata": {},
     "output_type": "display_data"
    }
   ],
   "source": [
    "display(cat_train_encoded.head())\n",
    "display(cat_test_encoded.head())"
   ]
  },
  {
   "cell_type": "code",
   "execution_count": 80,
   "id": "4357eceb",
   "metadata": {},
   "outputs": [],
   "source": [
    "#Okay now lets combine numerical and categorical test-train into two seperate dfs\n",
    "#X_train_trans, X_test_trans\n",
    "X_train_trans = pd.concat([num_train_trans, cat_train_encoded], axis = 1) \n",
    "X_test_trans = pd.concat([num_test_trans, cat_test_encoded], axis = 1) "
   ]
  },
  {
   "cell_type": "code",
   "execution_count": 81,
   "id": "7facc3b6",
   "metadata": {},
   "outputs": [
    {
     "data": {
      "text/html": [
       "<div>\n",
       "<style scoped>\n",
       "    .dataframe tbody tr th:only-of-type {\n",
       "        vertical-align: middle;\n",
       "    }\n",
       "\n",
       "    .dataframe tbody tr th {\n",
       "        vertical-align: top;\n",
       "    }\n",
       "\n",
       "    .dataframe thead th {\n",
       "        text-align: right;\n",
       "    }\n",
       "</style>\n",
       "<table border=\"1\" class=\"dataframe\">\n",
       "  <thead>\n",
       "    <tr style=\"text-align: right;\">\n",
       "      <th></th>\n",
       "      <th>customer_lifetime_value</th>\n",
       "      <th>income</th>\n",
       "      <th>monthly_premium_auto</th>\n",
       "      <th>months_since_last_claim</th>\n",
       "      <th>months_since_policy_inception</th>\n",
       "      <th>day</th>\n",
       "      <th>state_Oregon</th>\n",
       "      <th>state_Other</th>\n",
       "      <th>response_Yes</th>\n",
       "      <th>gender_M</th>\n",
       "      <th>...</th>\n",
       "      <th>sales_channel_Other Media</th>\n",
       "      <th>vehicle_class_Other</th>\n",
       "      <th>coverage</th>\n",
       "      <th>education</th>\n",
       "      <th>employmentstatus</th>\n",
       "      <th>location_code</th>\n",
       "      <th>number_of_open_complaints</th>\n",
       "      <th>number_of_policies</th>\n",
       "      <th>vehicle_size</th>\n",
       "      <th>month</th>\n",
       "    </tr>\n",
       "  </thead>\n",
       "  <tbody>\n",
       "    <tr>\n",
       "      <th>0</th>\n",
       "      <td>0.048104</td>\n",
       "      <td>0.604386</td>\n",
       "      <td>0.004219</td>\n",
       "      <td>0.285714</td>\n",
       "      <td>0.313131</td>\n",
       "      <td>0.300000</td>\n",
       "      <td>1.0</td>\n",
       "      <td>0.0</td>\n",
       "      <td>0.0</td>\n",
       "      <td>0.0</td>\n",
       "      <td>...</td>\n",
       "      <td>0.0</td>\n",
       "      <td>1.0</td>\n",
       "      <td>0.0</td>\n",
       "      <td>2.0</td>\n",
       "      <td>0.0</td>\n",
       "      <td>2.0</td>\n",
       "      <td>0.0</td>\n",
       "      <td>2.0</td>\n",
       "      <td>0.0</td>\n",
       "      <td>0.0</td>\n",
       "    </tr>\n",
       "    <tr>\n",
       "      <th>1</th>\n",
       "      <td>0.056961</td>\n",
       "      <td>0.369324</td>\n",
       "      <td>0.063291</td>\n",
       "      <td>0.800000</td>\n",
       "      <td>0.777778</td>\n",
       "      <td>0.700000</td>\n",
       "      <td>0.0</td>\n",
       "      <td>0.0</td>\n",
       "      <td>0.0</td>\n",
       "      <td>1.0</td>\n",
       "      <td>...</td>\n",
       "      <td>0.0</td>\n",
       "      <td>1.0</td>\n",
       "      <td>1.0</td>\n",
       "      <td>1.0</td>\n",
       "      <td>0.0</td>\n",
       "      <td>1.0</td>\n",
       "      <td>1.0</td>\n",
       "      <td>2.0</td>\n",
       "      <td>1.0</td>\n",
       "      <td>1.0</td>\n",
       "    </tr>\n",
       "    <tr>\n",
       "      <th>2</th>\n",
       "      <td>0.020432</td>\n",
       "      <td>0.401507</td>\n",
       "      <td>0.080169</td>\n",
       "      <td>0.828571</td>\n",
       "      <td>0.707071</td>\n",
       "      <td>0.233333</td>\n",
       "      <td>0.0</td>\n",
       "      <td>1.0</td>\n",
       "      <td>0.0</td>\n",
       "      <td>0.0</td>\n",
       "      <td>...</td>\n",
       "      <td>0.0</td>\n",
       "      <td>0.0</td>\n",
       "      <td>1.0</td>\n",
       "      <td>2.0</td>\n",
       "      <td>0.0</td>\n",
       "      <td>2.0</td>\n",
       "      <td>0.0</td>\n",
       "      <td>0.0</td>\n",
       "      <td>1.0</td>\n",
       "      <td>1.0</td>\n",
       "    </tr>\n",
       "    <tr>\n",
       "      <th>3</th>\n",
       "      <td>0.056271</td>\n",
       "      <td>0.749892</td>\n",
       "      <td>0.033755</td>\n",
       "      <td>0.314286</td>\n",
       "      <td>0.444444</td>\n",
       "      <td>0.200000</td>\n",
       "      <td>0.0</td>\n",
       "      <td>1.0</td>\n",
       "      <td>0.0</td>\n",
       "      <td>1.0</td>\n",
       "      <td>...</td>\n",
       "      <td>1.0</td>\n",
       "      <td>0.0</td>\n",
       "      <td>0.0</td>\n",
       "      <td>2.0</td>\n",
       "      <td>0.0</td>\n",
       "      <td>2.0</td>\n",
       "      <td>1.0</td>\n",
       "      <td>2.0</td>\n",
       "      <td>1.0</td>\n",
       "      <td>1.0</td>\n",
       "    </tr>\n",
       "    <tr>\n",
       "      <th>4</th>\n",
       "      <td>0.207275</td>\n",
       "      <td>0.000000</td>\n",
       "      <td>0.042194</td>\n",
       "      <td>0.114286</td>\n",
       "      <td>0.646465</td>\n",
       "      <td>0.366667</td>\n",
       "      <td>0.0</td>\n",
       "      <td>0.0</td>\n",
       "      <td>0.0</td>\n",
       "      <td>1.0</td>\n",
       "      <td>...</td>\n",
       "      <td>1.0</td>\n",
       "      <td>0.0</td>\n",
       "      <td>0.0</td>\n",
       "      <td>0.0</td>\n",
       "      <td>1.0</td>\n",
       "      <td>1.0</td>\n",
       "      <td>1.0</td>\n",
       "      <td>1.0</td>\n",
       "      <td>0.0</td>\n",
       "      <td>1.0</td>\n",
       "    </tr>\n",
       "  </tbody>\n",
       "</table>\n",
       "<p>5 rows × 27 columns</p>\n",
       "</div>"
      ],
      "text/plain": [
       "   customer_lifetime_value    income  monthly_premium_auto  \\\n",
       "0                 0.048104  0.604386              0.004219   \n",
       "1                 0.056961  0.369324              0.063291   \n",
       "2                 0.020432  0.401507              0.080169   \n",
       "3                 0.056271  0.749892              0.033755   \n",
       "4                 0.207275  0.000000              0.042194   \n",
       "\n",
       "   months_since_last_claim  months_since_policy_inception       day  \\\n",
       "0                 0.285714                       0.313131  0.300000   \n",
       "1                 0.800000                       0.777778  0.700000   \n",
       "2                 0.828571                       0.707071  0.233333   \n",
       "3                 0.314286                       0.444444  0.200000   \n",
       "4                 0.114286                       0.646465  0.366667   \n",
       "\n",
       "   state_Oregon  state_Other  response_Yes  gender_M  ...  \\\n",
       "0           1.0          0.0           0.0       0.0  ...   \n",
       "1           0.0          0.0           0.0       1.0  ...   \n",
       "2           0.0          1.0           0.0       0.0  ...   \n",
       "3           0.0          1.0           0.0       1.0  ...   \n",
       "4           0.0          0.0           0.0       1.0  ...   \n",
       "\n",
       "   sales_channel_Other Media  vehicle_class_Other  coverage  education  \\\n",
       "0                        0.0                  1.0       0.0        2.0   \n",
       "1                        0.0                  1.0       1.0        1.0   \n",
       "2                        0.0                  0.0       1.0        2.0   \n",
       "3                        1.0                  0.0       0.0        2.0   \n",
       "4                        1.0                  0.0       0.0        0.0   \n",
       "\n",
       "   employmentstatus  location_code  number_of_open_complaints  \\\n",
       "0               0.0            2.0                        0.0   \n",
       "1               0.0            1.0                        1.0   \n",
       "2               0.0            2.0                        0.0   \n",
       "3               0.0            2.0                        1.0   \n",
       "4               1.0            1.0                        1.0   \n",
       "\n",
       "   number_of_policies  vehicle_size  month  \n",
       "0                 2.0           0.0    0.0  \n",
       "1                 2.0           1.0    1.0  \n",
       "2                 0.0           1.0    1.0  \n",
       "3                 2.0           1.0    1.0  \n",
       "4                 1.0           0.0    1.0  \n",
       "\n",
       "[5 rows x 27 columns]"
      ]
     },
     "metadata": {},
     "output_type": "display_data"
    },
    {
     "data": {
      "text/html": [
       "<div>\n",
       "<style scoped>\n",
       "    .dataframe tbody tr th:only-of-type {\n",
       "        vertical-align: middle;\n",
       "    }\n",
       "\n",
       "    .dataframe tbody tr th {\n",
       "        vertical-align: top;\n",
       "    }\n",
       "\n",
       "    .dataframe thead th {\n",
       "        text-align: right;\n",
       "    }\n",
       "</style>\n",
       "<table border=\"1\" class=\"dataframe\">\n",
       "  <thead>\n",
       "    <tr style=\"text-align: right;\">\n",
       "      <th></th>\n",
       "      <th>customer_lifetime_value</th>\n",
       "      <th>income</th>\n",
       "      <th>monthly_premium_auto</th>\n",
       "      <th>months_since_last_claim</th>\n",
       "      <th>months_since_policy_inception</th>\n",
       "      <th>day</th>\n",
       "      <th>state_Oregon</th>\n",
       "      <th>state_Other</th>\n",
       "      <th>response_Yes</th>\n",
       "      <th>gender_M</th>\n",
       "      <th>...</th>\n",
       "      <th>sales_channel_Other Media</th>\n",
       "      <th>vehicle_class_Other</th>\n",
       "      <th>coverage</th>\n",
       "      <th>education</th>\n",
       "      <th>employmentstatus</th>\n",
       "      <th>location_code</th>\n",
       "      <th>number_of_open_complaints</th>\n",
       "      <th>number_of_policies</th>\n",
       "      <th>vehicle_size</th>\n",
       "      <th>month</th>\n",
       "    </tr>\n",
       "  </thead>\n",
       "  <tbody>\n",
       "    <tr>\n",
       "      <th>0</th>\n",
       "      <td>0.178875</td>\n",
       "      <td>0.508198</td>\n",
       "      <td>0.215190</td>\n",
       "      <td>0.028571</td>\n",
       "      <td>0.454545</td>\n",
       "      <td>0.266667</td>\n",
       "      <td>1.0</td>\n",
       "      <td>0.0</td>\n",
       "      <td>0.0</td>\n",
       "      <td>0.0</td>\n",
       "      <td>...</td>\n",
       "      <td>1.0</td>\n",
       "      <td>1.0</td>\n",
       "      <td>0.0</td>\n",
       "      <td>1.0</td>\n",
       "      <td>0.0</td>\n",
       "      <td>1.0</td>\n",
       "      <td>0.0</td>\n",
       "      <td>1.0</td>\n",
       "      <td>1.0</td>\n",
       "      <td>1.0</td>\n",
       "    </tr>\n",
       "    <tr>\n",
       "      <th>1</th>\n",
       "      <td>0.070993</td>\n",
       "      <td>0.308690</td>\n",
       "      <td>0.084388</td>\n",
       "      <td>0.485714</td>\n",
       "      <td>0.141414</td>\n",
       "      <td>0.400000</td>\n",
       "      <td>0.0</td>\n",
       "      <td>1.0</td>\n",
       "      <td>0.0</td>\n",
       "      <td>0.0</td>\n",
       "      <td>...</td>\n",
       "      <td>1.0</td>\n",
       "      <td>1.0</td>\n",
       "      <td>1.0</td>\n",
       "      <td>2.0</td>\n",
       "      <td>0.0</td>\n",
       "      <td>0.0</td>\n",
       "      <td>0.0</td>\n",
       "      <td>2.0</td>\n",
       "      <td>2.0</td>\n",
       "      <td>0.0</td>\n",
       "    </tr>\n",
       "    <tr>\n",
       "      <th>2</th>\n",
       "      <td>0.134886</td>\n",
       "      <td>0.274687</td>\n",
       "      <td>0.295359</td>\n",
       "      <td>0.514286</td>\n",
       "      <td>0.626263</td>\n",
       "      <td>0.466667</td>\n",
       "      <td>0.0</td>\n",
       "      <td>1.0</td>\n",
       "      <td>0.0</td>\n",
       "      <td>0.0</td>\n",
       "      <td>...</td>\n",
       "      <td>1.0</td>\n",
       "      <td>1.0</td>\n",
       "      <td>1.0</td>\n",
       "      <td>2.0</td>\n",
       "      <td>0.0</td>\n",
       "      <td>1.0</td>\n",
       "      <td>1.0</td>\n",
       "      <td>2.0</td>\n",
       "      <td>1.0</td>\n",
       "      <td>0.0</td>\n",
       "    </tr>\n",
       "    <tr>\n",
       "      <th>3</th>\n",
       "      <td>0.106326</td>\n",
       "      <td>0.838787</td>\n",
       "      <td>0.054852</td>\n",
       "      <td>0.628571</td>\n",
       "      <td>0.949495</td>\n",
       "      <td>0.433333</td>\n",
       "      <td>0.0</td>\n",
       "      <td>1.0</td>\n",
       "      <td>1.0</td>\n",
       "      <td>1.0</td>\n",
       "      <td>...</td>\n",
       "      <td>0.0</td>\n",
       "      <td>0.0</td>\n",
       "      <td>0.0</td>\n",
       "      <td>1.0</td>\n",
       "      <td>0.0</td>\n",
       "      <td>1.0</td>\n",
       "      <td>1.0</td>\n",
       "      <td>1.0</td>\n",
       "      <td>2.0</td>\n",
       "      <td>1.0</td>\n",
       "    </tr>\n",
       "    <tr>\n",
       "      <th>4</th>\n",
       "      <td>0.476694</td>\n",
       "      <td>0.376897</td>\n",
       "      <td>0.181435</td>\n",
       "      <td>0.657143</td>\n",
       "      <td>0.181818</td>\n",
       "      <td>0.500000</td>\n",
       "      <td>0.0</td>\n",
       "      <td>1.0</td>\n",
       "      <td>0.0</td>\n",
       "      <td>1.0</td>\n",
       "      <td>...</td>\n",
       "      <td>0.0</td>\n",
       "      <td>0.0</td>\n",
       "      <td>2.0</td>\n",
       "      <td>2.0</td>\n",
       "      <td>0.0</td>\n",
       "      <td>1.0</td>\n",
       "      <td>0.0</td>\n",
       "      <td>1.0</td>\n",
       "      <td>1.0</td>\n",
       "      <td>0.0</td>\n",
       "    </tr>\n",
       "  </tbody>\n",
       "</table>\n",
       "<p>5 rows × 27 columns</p>\n",
       "</div>"
      ],
      "text/plain": [
       "   customer_lifetime_value    income  monthly_premium_auto  \\\n",
       "0                 0.178875  0.508198              0.215190   \n",
       "1                 0.070993  0.308690              0.084388   \n",
       "2                 0.134886  0.274687              0.295359   \n",
       "3                 0.106326  0.838787              0.054852   \n",
       "4                 0.476694  0.376897              0.181435   \n",
       "\n",
       "   months_since_last_claim  months_since_policy_inception       day  \\\n",
       "0                 0.028571                       0.454545  0.266667   \n",
       "1                 0.485714                       0.141414  0.400000   \n",
       "2                 0.514286                       0.626263  0.466667   \n",
       "3                 0.628571                       0.949495  0.433333   \n",
       "4                 0.657143                       0.181818  0.500000   \n",
       "\n",
       "   state_Oregon  state_Other  response_Yes  gender_M  ...  \\\n",
       "0           1.0          0.0           0.0       0.0  ...   \n",
       "1           0.0          1.0           0.0       0.0  ...   \n",
       "2           0.0          1.0           0.0       0.0  ...   \n",
       "3           0.0          1.0           1.0       1.0  ...   \n",
       "4           0.0          1.0           0.0       1.0  ...   \n",
       "\n",
       "   sales_channel_Other Media  vehicle_class_Other  coverage  education  \\\n",
       "0                        1.0                  1.0       0.0        1.0   \n",
       "1                        1.0                  1.0       1.0        2.0   \n",
       "2                        1.0                  1.0       1.0        2.0   \n",
       "3                        0.0                  0.0       0.0        1.0   \n",
       "4                        0.0                  0.0       2.0        2.0   \n",
       "\n",
       "   employmentstatus  location_code  number_of_open_complaints  \\\n",
       "0               0.0            1.0                        0.0   \n",
       "1               0.0            0.0                        0.0   \n",
       "2               0.0            1.0                        1.0   \n",
       "3               0.0            1.0                        1.0   \n",
       "4               0.0            1.0                        0.0   \n",
       "\n",
       "   number_of_policies  vehicle_size  month  \n",
       "0                 1.0           1.0    1.0  \n",
       "1                 2.0           2.0    0.0  \n",
       "2                 2.0           1.0    0.0  \n",
       "3                 1.0           2.0    1.0  \n",
       "4                 1.0           1.0    0.0  \n",
       "\n",
       "[5 rows x 27 columns]"
      ]
     },
     "metadata": {},
     "output_type": "display_data"
    }
   ],
   "source": [
    "display(X_train_trans.head())\n",
    "display(X_test_trans.head())"
   ]
  },
  {
   "cell_type": "markdown",
   "id": "543d86b3",
   "metadata": {},
   "source": [
    "**8. Try a simple linear regression with all the data to see whether we are getting good results.**"
   ]
  },
  {
   "cell_type": "code",
   "execution_count": 82,
   "id": "2138ef1f",
   "metadata": {},
   "outputs": [],
   "source": [
    "#First time I'm trying without transforming the target variable. Lets see what results we obtain from the errror metrics.\n",
    "from sklearn.linear_model import LinearRegression\n",
    "from sklearn.metrics import mean_squared_error, r2_score, mean_absolute_error\n",
    "lm = LinearRegression()\n",
    "lm.fit(X_train_trans,y_train)\n",
    "y_pred_train = lm.predict(X_train_trans)"
   ]
  },
  {
   "cell_type": "code",
   "execution_count": 83,
   "id": "1d01aca9",
   "metadata": {},
   "outputs": [
    {
     "name": "stdout",
     "output_type": "stream",
     "text": [
      "The R2 score for train set is: 0.6274548303097163\n",
      "The Mean Absolute Error for train set is: 127.83034012010344\n",
      "The Mean Squared Error for train set is: 30479.390351709222\n",
      "The RMSE for train set is: 174.58347674310195\n"
     ]
    }
   ],
   "source": [
    "#R2 score\n",
    "print(\"The R2 score for train set is:\", r2_score(y_train, y_pred_train))\n",
    "#MAE ON train data \n",
    "mae_train = mean_absolute_error(y_train, y_pred_train)\n",
    "print(\"The Mean Absolute Error for train set is:\", mae_train)\n",
    "#MSE on train data\n",
    "mse = mean_squared_error(y_train, y_pred_train)\n",
    "print(\"The Mean Squared Error for train set is:\", mse)\n",
    "#RMSE on train data\n",
    "import math\n",
    "rmse = math.sqrt(mse)\n",
    "print(\"The RMSE for train set is:\", rmse)"
   ]
  },
  {
   "cell_type": "code",
   "execution_count": 84,
   "id": "aa0fe1b5",
   "metadata": {},
   "outputs": [
    {
     "name": "stdout",
     "output_type": "stream",
     "text": [
      "The R2 score for test set is: 0.6100278867374673\n",
      "The Mean Absolute Error for test set is: 132.46789556294894\n",
      "The Mean Squared Error for test set is: 32685.825072046602\n",
      "The RMSE for test set is: 180.7922151865135\n"
     ]
    }
   ],
   "source": [
    "y_pred_test = lm.predict(X_test_trans)\n",
    "\n",
    "#R2 score\n",
    "print(\"The R2 score for test set is:\", r2_score(y_test, y_pred_test))\n",
    "#MAE ON train data \n",
    "mae_test = mean_absolute_error(y_test, y_pred_test)\n",
    "print(\"The Mean Absolute Error for test set is:\", mae_test)\n",
    "#MSE on train data\n",
    "mse_test = mean_squared_error(y_test, y_pred_test)\n",
    "print(\"The Mean Squared Error for test set is:\", mse_test)\n",
    "#RMSE on train data\n",
    "import math\n",
    "rmse_test = math.sqrt(mse_test)\n",
    "print(\"The RMSE for test set is:\", rmse_test)"
   ]
  },
  {
   "cell_type": "code",
   "execution_count": 85,
   "id": "02fce8d5",
   "metadata": {},
   "outputs": [],
   "source": [
    "#I see that it does not provide the best R2 score. Now lets transform the target variable, and see what we obtain#"
   ]
  },
  {
   "cell_type": "code",
   "execution_count": 86,
   "id": "2d9c3d5e",
   "metadata": {},
   "outputs": [],
   "source": [
    "#Plotting the distribution of the target variable, I noticed that it is right skewed. Hence its better to carry out\n",
    "#a log transformation\n",
    "\n",
    "#fig, ax = plt.subplots()\n",
    "#sns.distplot(y_train,  color=\"g\", ax=ax)\n",
    "#plt.show()"
   ]
  },
  {
   "cell_type": "code",
   "execution_count": 87,
   "id": "c5d1d43b",
   "metadata": {},
   "outputs": [],
   "source": [
    "from sklearn.preprocessing import MinMaxScaler\n",
    "transformer = MinMaxScaler().fit(y_train) #It is important to make sure it only fits the train set\n",
    "y_train_normalized = transformer.transform(y_train)\n",
    "y_train_normalized = pd.DataFrame(y_train_normalized, columns=y_train.columns)\n",
    "y_test_normalized = transformer.transform(y_test)\n",
    "y_test_normalized = pd.DataFrame(y_test_normalized, columns=y_train.columns)"
   ]
  },
  {
   "cell_type": "code",
   "execution_count": 88,
   "id": "e5e1ddc9",
   "metadata": {},
   "outputs": [],
   "source": [
    "lm = LinearRegression()\n",
    "lm.fit(X_train_trans,y_train_normalized)\n",
    "y_pred_train = lm.predict(X_train_trans)"
   ]
  },
  {
   "cell_type": "code",
   "execution_count": 89,
   "id": "e923a342",
   "metadata": {},
   "outputs": [
    {
     "name": "stdout",
     "output_type": "stream",
     "text": [
      "The R2 score for train set norm is: 0.6274548303097163\n",
      "The Mean Absolute Error for train set norm is: 0.052116188562942665\n",
      "The Mean Squared Error for train set norm is: 0.005066215748331489\n",
      "The RMSE for train set norm is: 0.07117735418187085\n"
     ]
    }
   ],
   "source": [
    "#R2 score\n",
    "print(\"The R2 score for train set norm is:\", r2_score(y_train_normalized, y_pred_train))\n",
    "#MAE ON train data \n",
    "mae_train_norm = mean_absolute_error(y_train_normalized, y_pred_train)\n",
    "print(\"The Mean Absolute Error for train set norm is:\", mae_train_norm)\n",
    "#MSE on train data\n",
    "mse_train_norm = mean_squared_error(y_train_normalized, y_pred_train)\n",
    "print(\"The Mean Squared Error for train set norm is:\", mse_train_norm)\n",
    "#RMSE on train data\n",
    "import math\n",
    "rmse_train_norm = math.sqrt(mse_train_norm)\n",
    "print(\"The RMSE for train set norm is:\", rmse_train_norm)"
   ]
  },
  {
   "cell_type": "code",
   "execution_count": 90,
   "id": "8f936db2",
   "metadata": {},
   "outputs": [
    {
     "name": "stdout",
     "output_type": "stream",
     "text": [
      "The R2 score for test set norm is: 0.6100278867374673\n",
      "The Mean Absolute Error for test set norm is: 0.05400691116998067\n",
      "The Mean Squared Error for test set norm is: 0.005432964367606668\n",
      "The RMSE for test set norm is: 0.0737086451347918\n"
     ]
    }
   ],
   "source": [
    "y_pred_test = lm.predict(X_test_trans)\n",
    "\n",
    "#R2 score\n",
    "print(\"The R2 score for test set norm is:\", r2_score(y_test_normalized, y_pred_test))\n",
    "#MAE ON train data \n",
    "mae_test_norm = mean_absolute_error(y_test_normalized, y_pred_test)\n",
    "print(\"The Mean Absolute Error for test set norm is:\", mae_test_norm)\n",
    "#MSE on train data\n",
    "mse_test_norm = mean_squared_error(y_test_normalized, y_pred_test)\n",
    "print(\"The Mean Squared Error for test set norm is:\", mse_test_norm)\n",
    "#RMSE on train data\n",
    "import math\n",
    "rmse_test_norm = math.sqrt(mse_test_norm)\n",
    "print(\"The RMSE for test set norm is:\", rmse_test_norm)"
   ]
  },
  {
   "cell_type": "code",
   "execution_count": 91,
   "id": "cc3a799d",
   "metadata": {},
   "outputs": [],
   "source": [
    "#R2 stays the same, but other error metrics Looks much better when the target variable is normalized"
   ]
  },
  {
   "cell_type": "markdown",
   "id": "0c55b6da",
   "metadata": {},
   "source": [
    "**9. Great! Now define a function that takes a list of models and train (and tests) them so we can try a lot of them without repeating code.**\n",
    "\n",
    "\n",
    "**10.Use the function to check LinearRegressor and KNeighborsRegressor.**\n",
    "\n",
    "\n",
    "**11.You can check also the MLPRegressor for this task!**\n",
    "\n",
    "\n",
    "**12. Check and discuss the results**"
   ]
  },
  {
   "cell_type": "code",
   "execution_count": 92,
   "id": "5eb0c9e3",
   "metadata": {},
   "outputs": [],
   "source": [
    "def Model_try_and_test(df, typ = LinearRegression(), disp_metrics = False): \n",
    "    # X-Y Split \n",
    "    X,y_exp = functions.xy_split(data_copy)\n",
    "    \n",
    "    # We use the log(y)\n",
    "    y = np.log(y_exp)\n",
    "\n",
    "    # Train and test split\n",
    "    X_train, X_test, y_train, y_test = functions.tr_ts_split(X,y)\n",
    "\n",
    "    # Train\n",
    "    X_train_tr, num_tr, cat_enc, minmax_tr = functions.Model_train(X_train)\n",
    "\n",
    "    # And test\n",
    "    X_test_tr = functions.Model_transform(X_test,num_tr,cat_enc,minmax_tr)\n",
    "    \n",
    "    # We do the regrresion\n",
    "    typ.fit(X_train_tr, y_train)\n",
    "    y_pred_train = typ.predict(X_train_tr)\n",
    "    y_pred_test = typ.predict(X_test_tr)\n",
    "    \n",
    "    # Show the results\n",
    "    if disp_metrics == True:\n",
    "        display(metrics_jor.MetricsResults(y_train, y_pred_train,y_test,y_pred_test))\n",
    "\n",
    "    return typ.score(X_test_tr, y_test), typ"
   ]
  },
  {
   "cell_type": "code",
   "execution_count": 93,
   "id": "26daa21b",
   "metadata": {},
   "outputs": [],
   "source": [
    "def diff_models(X_train, y_train, X_test, y_test, model='Linear'):\n",
    "    if model == 'Linear':\n",
    "        from sklearn.linear_model import LinearRegression\n",
    "        from sklearn.metrics import mean_squared_error, r2_score, mean_absolute_error\n",
    "        lm = LinearRegression()\n",
    "        lm.fit(X_train,y_train)\n",
    "        y_pred_train = lm.predict(X_train)\n",
    "        r2_train = (\"The R2 score for train set is\",r2_score(y_train, y_pred_train))\n",
    "        mae_train = (\"The Mean Absolute Error for train set is:\", mean_absolute_error(y_train, y_pred_train))\n",
    "        mse_train = (\"The Mean Squared Error for train set is:\", mean_squared_error(y_train, y_pred_train))\n",
    "        rmse_train = (\"The RMSE for train set is:\",mean_squared_error(y_train, y_pred_train, squared=False))\n",
    "        y_pred_test = lm.predict(X_test)\n",
    "        r2_test = (\"The R2 score for test set is\", r2_score(y_test, y_pred_test))\n",
    "        mae_test = (\"The Mean Absolute Error for test set is:\", mean_absolute_error(y_test, y_pred_test))\n",
    "        mse_test = (\"The Mean Squared Error for test set is:\", mean_squared_error(y_test, y_pred_test))\n",
    "        rmse_test = (\"The RMSE for test set is:\",mean_squared_error(y_test, y_pred_test, squared=False))\n",
    "        return r2_train, mae_train, mse_train, rmse_train, r2_test,mae_test,mse_test,rmse_test\n",
    "    elif model == 'KNN':\n",
    "        from sklearn.neighbors import KNeighborsRegressor\n",
    "        knn = KNeighborsRegressor(n_neighbors=5)\n",
    "        knn.fit(X_train, y_train)\n",
    "        knn_score = knn.score(X_test, y_test)\n",
    "        return print(\"The R2 of the k-NN model is {:.2f}\".format(knn_score))\n",
    "    elif model == 'MLP':\n",
    "        from sklearn.neural_network import MLPRegressor\n",
    "        regr = MLPRegressor(random_state=1, max_iter=10).fit(X_train, y_train)\n",
    "        regr.predict(X_test)\n",
    "        return print(\"the coefficient of determination of the prediction\", regr.score(X_test_trans, y_test_normalized))    \n",
    "    else:\n",
    "        pass"
   ]
  },
  {
   "cell_type": "code",
   "execution_count": 94,
   "id": "a1aa94fb",
   "metadata": {},
   "outputs": [
    {
     "data": {
      "text/plain": [
       "(('The R2 score for train set is', 0.6274548303097163),\n",
       " ('The Mean Absolute Error for train set is:', 0.052116188562942665),\n",
       " ('The Mean Squared Error for train set is:', 0.005066215748331489),\n",
       " ('The RMSE for train set is:', 0.07117735418187085),\n",
       " ('The R2 score for test set is', 0.6100278867374673),\n",
       " ('The Mean Absolute Error for test set is:', 0.05400691116998067),\n",
       " ('The Mean Squared Error for test set is:', 0.005432964367606668),\n",
       " ('The RMSE for test set is:', 0.0737086451347918))"
      ]
     },
     "execution_count": 94,
     "metadata": {},
     "output_type": "execute_result"
    }
   ],
   "source": [
    "diff_models(X_train_trans, y_train_normalized, X_test_trans, y_test_normalized, model='Linear')"
   ]
  },
  {
   "cell_type": "code",
   "execution_count": 95,
   "id": "30155e68",
   "metadata": {},
   "outputs": [
    {
     "name": "stdout",
     "output_type": "stream",
     "text": [
      "The R2 of the k-NN model is 0.53\n"
     ]
    }
   ],
   "source": [
    "diff_models(X_train_trans, y_train_normalized, X_test_trans, y_test_normalized, model='KNN')\n"
   ]
  },
  {
   "cell_type": "code",
   "execution_count": 96,
   "id": "140910cc",
   "metadata": {},
   "outputs": [
    {
     "name": "stderr",
     "output_type": "stream",
     "text": [
      "C:\\Users\\ALP\\Anaconda3\\lib\\site-packages\\sklearn\\neural_network\\_multilayer_perceptron.py:1599: DataConversionWarning: A column-vector y was passed when a 1d array was expected. Please change the shape of y to (n_samples, ), for example using ravel().\n",
      "  y = column_or_1d(y, warn=True)\n"
     ]
    },
    {
     "name": "stdout",
     "output_type": "stream",
     "text": [
      "the coefficient of determination of the prediction 0.5051935512163346\n"
     ]
    },
    {
     "name": "stderr",
     "output_type": "stream",
     "text": [
      "C:\\Users\\ALP\\Anaconda3\\lib\\site-packages\\sklearn\\neural_network\\_multilayer_perceptron.py:696: ConvergenceWarning: Stochastic Optimizer: Maximum iterations (10) reached and the optimization hasn't converged yet.\n",
      "  ConvergenceWarning,\n"
     ]
    }
   ],
   "source": [
    "diff_models(X_train_trans, y_train_normalized, X_test_trans, y_test_normalized, model='MLP')"
   ]
  },
  {
   "cell_type": "markdown",
   "id": "909ee823",
   "metadata": {},
   "source": [
    "**BASED on the above results, I notice that from the parameters I've set that the linear regression model is the best performing model of the three, based on the error metrics. The R2 score was not the best, but still performed better than the other models. Of course to improve the model perhaps a lot of further work would need to be done to the columns, and some might need to even be droppe.\n",
    "The scores of the K-NN model were quite low and so were that of the MLP model.**"
   ]
  },
  {
   "cell_type": "markdown",
   "id": "2dce4f85",
   "metadata": {},
   "source": [
    "# Lab | Random variable distributions"
   ]
  },
  {
   "cell_type": "code",
   "execution_count": 97,
   "id": "90605692",
   "metadata": {},
   "outputs": [],
   "source": [
    "#For this particular lab I will drop effective to data\n",
    "numerical_df = numerical_df.drop(['effective_to_date'], axis = 1)"
   ]
  },
  {
   "cell_type": "markdown",
   "id": "8a473375",
   "metadata": {},
   "source": [
    "**1. Get the numerical variables from our dataset.**\n",
    "\n",
    "\n",
    "**2. Check using a distribution plot if the variables fit the theoretical normal or exponential distribution.**"
   ]
  },
  {
   "cell_type": "code",
   "execution_count": 98,
   "id": "67a8d3d3",
   "metadata": {},
   "outputs": [
    {
     "data": {
      "text/html": [
       "<div>\n",
       "<style scoped>\n",
       "    .dataframe tbody tr th:only-of-type {\n",
       "        vertical-align: middle;\n",
       "    }\n",
       "\n",
       "    .dataframe tbody tr th {\n",
       "        vertical-align: top;\n",
       "    }\n",
       "\n",
       "    .dataframe thead th {\n",
       "        text-align: right;\n",
       "    }\n",
       "</style>\n",
       "<table border=\"1\" class=\"dataframe\">\n",
       "  <thead>\n",
       "    <tr style=\"text-align: right;\">\n",
       "      <th></th>\n",
       "      <th>customer_lifetime_value</th>\n",
       "      <th>income</th>\n",
       "      <th>monthly_premium_auto</th>\n",
       "      <th>months_since_last_claim</th>\n",
       "      <th>months_since_policy_inception</th>\n",
       "      <th>total_claim_amount</th>\n",
       "    </tr>\n",
       "  </thead>\n",
       "  <tbody>\n",
       "    <tr>\n",
       "      <th>0</th>\n",
       "      <td>2763.519279</td>\n",
       "      <td>56274</td>\n",
       "      <td>69</td>\n",
       "      <td>32</td>\n",
       "      <td>5</td>\n",
       "      <td>384.811147</td>\n",
       "    </tr>\n",
       "    <tr>\n",
       "      <th>1</th>\n",
       "      <td>6979.535903</td>\n",
       "      <td>0</td>\n",
       "      <td>94</td>\n",
       "      <td>13</td>\n",
       "      <td>42</td>\n",
       "      <td>1131.464935</td>\n",
       "    </tr>\n",
       "    <tr>\n",
       "      <th>2</th>\n",
       "      <td>12887.431650</td>\n",
       "      <td>48767</td>\n",
       "      <td>108</td>\n",
       "      <td>18</td>\n",
       "      <td>38</td>\n",
       "      <td>566.472247</td>\n",
       "    </tr>\n",
       "    <tr>\n",
       "      <th>3</th>\n",
       "      <td>7645.861827</td>\n",
       "      <td>0</td>\n",
       "      <td>106</td>\n",
       "      <td>18</td>\n",
       "      <td>65</td>\n",
       "      <td>529.881344</td>\n",
       "    </tr>\n",
       "    <tr>\n",
       "      <th>4</th>\n",
       "      <td>2813.692575</td>\n",
       "      <td>43836</td>\n",
       "      <td>73</td>\n",
       "      <td>12</td>\n",
       "      <td>44</td>\n",
       "      <td>138.130879</td>\n",
       "    </tr>\n",
       "    <tr>\n",
       "      <th>...</th>\n",
       "      <td>...</td>\n",
       "      <td>...</td>\n",
       "      <td>...</td>\n",
       "      <td>...</td>\n",
       "      <td>...</td>\n",
       "      <td>...</td>\n",
       "    </tr>\n",
       "    <tr>\n",
       "      <th>9129</th>\n",
       "      <td>23405.987980</td>\n",
       "      <td>71941</td>\n",
       "      <td>73</td>\n",
       "      <td>18</td>\n",
       "      <td>89</td>\n",
       "      <td>198.234764</td>\n",
       "    </tr>\n",
       "    <tr>\n",
       "      <th>9130</th>\n",
       "      <td>3096.511217</td>\n",
       "      <td>21604</td>\n",
       "      <td>79</td>\n",
       "      <td>14</td>\n",
       "      <td>28</td>\n",
       "      <td>379.200000</td>\n",
       "    </tr>\n",
       "    <tr>\n",
       "      <th>9131</th>\n",
       "      <td>8163.890428</td>\n",
       "      <td>0</td>\n",
       "      <td>85</td>\n",
       "      <td>9</td>\n",
       "      <td>37</td>\n",
       "      <td>790.784983</td>\n",
       "    </tr>\n",
       "    <tr>\n",
       "      <th>9132</th>\n",
       "      <td>7524.442436</td>\n",
       "      <td>21941</td>\n",
       "      <td>96</td>\n",
       "      <td>34</td>\n",
       "      <td>3</td>\n",
       "      <td>691.200000</td>\n",
       "    </tr>\n",
       "    <tr>\n",
       "      <th>9133</th>\n",
       "      <td>2611.836866</td>\n",
       "      <td>0</td>\n",
       "      <td>77</td>\n",
       "      <td>3</td>\n",
       "      <td>90</td>\n",
       "      <td>369.600000</td>\n",
       "    </tr>\n",
       "  </tbody>\n",
       "</table>\n",
       "<p>9134 rows × 6 columns</p>\n",
       "</div>"
      ],
      "text/plain": [
       "      customer_lifetime_value  income  monthly_premium_auto  \\\n",
       "0                 2763.519279   56274                    69   \n",
       "1                 6979.535903       0                    94   \n",
       "2                12887.431650   48767                   108   \n",
       "3                 7645.861827       0                   106   \n",
       "4                 2813.692575   43836                    73   \n",
       "...                       ...     ...                   ...   \n",
       "9129             23405.987980   71941                    73   \n",
       "9130              3096.511217   21604                    79   \n",
       "9131              8163.890428       0                    85   \n",
       "9132              7524.442436   21941                    96   \n",
       "9133              2611.836866       0                    77   \n",
       "\n",
       "      months_since_last_claim  months_since_policy_inception  \\\n",
       "0                          32                              5   \n",
       "1                          13                             42   \n",
       "2                          18                             38   \n",
       "3                          18                             65   \n",
       "4                          12                             44   \n",
       "...                       ...                            ...   \n",
       "9129                       18                             89   \n",
       "9130                       14                             28   \n",
       "9131                        9                             37   \n",
       "9132                       34                              3   \n",
       "9133                        3                             90   \n",
       "\n",
       "      total_claim_amount  \n",
       "0             384.811147  \n",
       "1            1131.464935  \n",
       "2             566.472247  \n",
       "3             529.881344  \n",
       "4             138.130879  \n",
       "...                  ...  \n",
       "9129          198.234764  \n",
       "9130          379.200000  \n",
       "9131          790.784983  \n",
       "9132          691.200000  \n",
       "9133          369.600000  \n",
       "\n",
       "[9134 rows x 6 columns]"
      ]
     },
     "execution_count": 98,
     "metadata": {},
     "output_type": "execute_result"
    }
   ],
   "source": [
    "#For this lab we will use numerical_df\n",
    "numerical_df"
   ]
  },
  {
   "cell_type": "code",
   "execution_count": 99,
   "id": "db797459",
   "metadata": {},
   "outputs": [
    {
     "name": "stderr",
     "output_type": "stream",
     "text": [
      "C:\\Users\\ALP\\Anaconda3\\lib\\site-packages\\seaborn\\distributions.py:2619: FutureWarning: `distplot` is a deprecated function and will be removed in a future version. Please adapt your code to use either `displot` (a figure-level function with similar flexibility) or `histplot` (an axes-level function for histograms).\n",
      "  warnings.warn(msg, FutureWarning)\n"
     ]
    },
    {
     "data": {
      "image/png": "[encoded data removed]",
      "text/plain": [
       "<Figure size 432x288 with 1 Axes>"
      ]
     },
     "metadata": {
      "needs_background": "light"
     },
     "output_type": "display_data"
    },
    {
     "name": "stderr",
     "output_type": "stream",
     "text": [
      "C:\\Users\\ALP\\Anaconda3\\lib\\site-packages\\seaborn\\distributions.py:2619: FutureWarning: `distplot` is a deprecated function and will be removed in a future version. Please adapt your code to use either `displot` (a figure-level function with similar flexibility) or `histplot` (an axes-level function for histograms).\n",
      "  warnings.warn(msg, FutureWarning)\n"
     ]
    },
    {
     "data": {
      "image/png": "[encoded data removed]",
      "text/plain": [
       "<Figure size 432x288 with 1 Axes>"
      ]
     },
     "metadata": {
      "needs_background": "light"
     },
     "output_type": "display_data"
    },
    {
     "name": "stderr",
     "output_type": "stream",
     "text": [
      "C:\\Users\\ALP\\Anaconda3\\lib\\site-packages\\seaborn\\distributions.py:2619: FutureWarning: `distplot` is a deprecated function and will be removed in a future version. Please adapt your code to use either `displot` (a figure-level function with similar flexibility) or `histplot` (an axes-level function for histograms).\n",
      "  warnings.warn(msg, FutureWarning)\n"
     ]
    },
    {
     "data": {
      "image/png": "[encoded data removed]",
      "text/plain": [
       "<Figure size 432x288 with 1 Axes>"
      ]
     },
     "metadata": {
      "needs_background": "light"
     },
     "output_type": "display_data"
    },
    {
     "name": "stderr",
     "output_type": "stream",
     "text": [
      "C:\\Users\\ALP\\Anaconda3\\lib\\site-packages\\seaborn\\distributions.py:2619: FutureWarning: `distplot` is a deprecated function and will be removed in a future version. Please adapt your code to use either `displot` (a figure-level function with similar flexibility) or `histplot` (an axes-level function for histograms).\n",
      "  warnings.warn(msg, FutureWarning)\n"
     ]
    },
    {
     "data": {
      "image/png": "[encoded data removed]",
      "text/plain": [
       "<Figure size 432x288 with 1 Axes>"
      ]
     },
     "metadata": {
      "needs_background": "light"
     },
     "output_type": "display_data"
    },
    {
     "name": "stderr",
     "output_type": "stream",
     "text": [
      "C:\\Users\\ALP\\Anaconda3\\lib\\site-packages\\seaborn\\distributions.py:2619: FutureWarning: `distplot` is a deprecated function and will be removed in a future version. Please adapt your code to use either `displot` (a figure-level function with similar flexibility) or `histplot` (an axes-level function for histograms).\n",
      "  warnings.warn(msg, FutureWarning)\n"
     ]
    },
    {
     "data": {
      "image/png": "[encoded data removed]",
      "text/plain": [
       "<Figure size 432x288 with 1 Axes>"
      ]
     },
     "metadata": {
      "needs_background": "light"
     },
     "output_type": "display_data"
    },
    {
     "name": "stderr",
     "output_type": "stream",
     "text": [
      "C:\\Users\\ALP\\Anaconda3\\lib\\site-packages\\seaborn\\distributions.py:2619: FutureWarning: `distplot` is a deprecated function and will be removed in a future version. Please adapt your code to use either `displot` (a figure-level function with similar flexibility) or `histplot` (an axes-level function for histograms).\n",
      "  warnings.warn(msg, FutureWarning)\n"
     ]
    },
    {
     "data": {
      "image/png": "[encoded data removed]",
      "text/plain": [
       "<Figure size 432x288 with 1 Axes>"
      ]
     },
     "metadata": {
      "needs_background": "light"
     },
     "output_type": "display_data"
    }
   ],
   "source": [
    "#Lets distplot the distributions for each of the numerical columns \n",
    "for column in numerical_df:\n",
    "    fig, ax = plt.subplots()\n",
    "    sns.distplot(numerical_df[column],  color=\"g\", ax=ax)\n",
    "    plt.show()"
   ]
  },
  {
   "cell_type": "markdown",
   "id": "2c77b17c",
   "metadata": {},
   "source": [
    "- So from here I see that  total_claim_amount, customer_lifetime_value, monthly_premium_auto  are right skewed distributions.\n",
    "\n",
    "- Customer_lifetime value, can be consiered an exponential distribution, and so can monthly_peremium_auto\n",
    "\n",
    "- Whereas months_since_policy_inception and months_since_last_claim are more towards a uniform distribution \n",
    "\n",
    "- Income appears to be a bimodal distribution. There appears be a lot of values at zero. "
   ]
  },
  {
   "cell_type": "markdown",
   "id": "5d9a4400",
   "metadata": {},
   "source": [
    "**3.Check if any of the transformations (log-transform, etc.) we have seen up to this point changes the result.**"
   ]
  },
  {
   "cell_type": "code",
   "execution_count": 100,
   "id": "2437e0c5",
   "metadata": {},
   "outputs": [
    {
     "data": {
      "image/png": "[encoded data removed]",
      "text/plain": [
       "<Figure size 360x360 with 1 Axes>"
      ]
     },
     "metadata": {
      "needs_background": "light"
     },
     "output_type": "display_data"
    }
   ],
   "source": [
    "#First Lets try log transformation\n",
    "def log_transfom_clean1(x):\n",
    "    x = np.log10(x)\n",
    "    if np.isfinite(x):\n",
    "        return x\n",
    "    else:\n",
    "        return 0\n",
    "\n",
    "customer_lifetime_value_log = numerical_df['customer_lifetime_value'].apply(lambda x :log_transfom_clean1(x))\n",
    "sns.displot(customer_lifetime_value_log)\n",
    "plt.show()"
   ]
  },
  {
   "cell_type": "code",
   "execution_count": 101,
   "id": "47ef7966",
   "metadata": {},
   "outputs": [
    {
     "data": {
      "image/png": "[encoded data removed]",
      "text/plain": [
       "<Figure size 360x360 with 1 Axes>"
      ]
     },
     "metadata": {
      "needs_background": "light"
     },
     "output_type": "display_data"
    },
    {
     "data": {
      "image/png": "[encoded data removed]",
      "text/plain": [
       "<Figure size 360x360 with 1 Axes>"
      ]
     },
     "metadata": {
      "needs_background": "light"
     },
     "output_type": "display_data"
    },
    {
     "data": {
      "image/png": "[encoded data removed]",
      "text/plain": [
       "<Figure size 360x360 with 1 Axes>"
      ]
     },
     "metadata": {
      "needs_background": "light"
     },
     "output_type": "display_data"
    },
    {
     "data": {
      "image/png": "[encoded data removed]",
      "text/plain": [
       "<Figure size 360x360 with 1 Axes>"
      ]
     },
     "metadata": {
      "needs_background": "light"
     },
     "output_type": "display_data"
    },
    {
     "data": {
      "image/png": "[encoded data removed]",
      "text/plain": [
       "<Figure size 360x360 with 1 Axes>"
      ]
     },
     "metadata": {
      "needs_background": "light"
     },
     "output_type": "display_data"
    },
    {
     "data": {
      "image/png": "[encoded data removed]",
      "text/plain": [
       "<Figure size 360x360 with 1 Axes>"
      ]
     },
     "metadata": {
      "needs_background": "light"
     },
     "output_type": "display_data"
    }
   ],
   "source": [
    "#Running and plotting the log transformation for every column\n",
    "for column in numerical_df:\n",
    "    value_log = numerical_df[column].apply(lambda x :log_transfom_clean1(x))\n",
    "    sns.displot(value_log)\n",
    "    plt.show()"
   ]
  },
  {
   "cell_type": "markdown",
   "id": "37ced50a",
   "metadata": {},
   "source": [
    "**Unfortunately the log transformation only worked really well with customer_lifetime_value but not so well with the other columns.** "
   ]
  },
  {
   "cell_type": "code",
   "execution_count": null,
   "id": "ab0297d8",
   "metadata": {},
   "outputs": [],
   "source": []
  },
  {
   "cell_type": "code",
   "execution_count": null,
   "id": "07fb17dc",
   "metadata": {},
   "outputs": [],
   "source": [
    "#This has been commented ou\n",
    "#IMPORTANT NOTE: Box cox transformations only work with positive values. \n",
    "#THerefore we will only run it on customer lifetime value and monthly premium auto\n",
    "\n",
    "#from scipy import stats\n",
    "\n",
    "#xt, lmbda = stats.boxcox(numerical_df['customer_lifetime_value'])\n",
    "#sns.displot(xt, color = \"g\").set(title='customer_lifetime_value')\n",
    "#plt.show()\n",
    "\n",
    "#xt, lmbda = stats.boxcox(numerical_df['monthly_premium_auto'])\n",
    "#sns.displot(xt, color = \"g\").set(title='monthly_premium_auto')\n",
    "#plt.show()"
   ]
  },
  {
   "cell_type": "code",
   "execution_count": null,
   "id": "356e386a",
   "metadata": {},
   "outputs": [],
   "source": []
  },
  {
   "cell_type": "code",
   "execution_count": null,
   "id": "ba97427c",
   "metadata": {},
   "outputs": [],
   "source": []
  },
  {
   "cell_type": "code",
   "execution_count": 104,
   "id": "820c1ec6",
   "metadata": {},
   "outputs": [
    {
     "data": {
      "image/png": "[encoded data removed]",
      "text/plain": [
       "<Figure size 402.375x360 with 1 Axes>"
      ]
     },
     "metadata": {
      "needs_background": "light"
     },
     "output_type": "display_data"
    }
   ],
   "source": [
    "#Now we will use another powertransformer but doing the yeo-johnson method\n",
    "#I will plan to use power_transformer, yeo-Johnson method\n",
    "from sklearn.preprocessing import PowerTransformer\n",
    "from matplotlib import pyplot\n",
    "\n",
    "# power transform the raw data\n",
    "power = PowerTransformer(method='yeo-johnson', standardize=True)\n",
    "numerical_powertrans = power.fit_transform(numerical_df[['customer_lifetime_value']])\n",
    "# histogram of the transformed data\n",
    "#pyplot.hist(numerical_powertrans, bins=25)\n",
    "#pyplot.show()\n",
    "\n",
    "sns.displot(numerical_powertrans).set(title='customer_lifetime_value')\n",
    "plt.show()"
   ]
  },
  {
   "cell_type": "code",
   "execution_count": 105,
   "id": "3be5f578",
   "metadata": {},
   "outputs": [
    {
     "data": {
      "image/png": "[encoded data removed]",
      "text/plain": [
       "<Figure size 402.375x360 with 1 Axes>"
      ]
     },
     "metadata": {
      "needs_background": "light"
     },
     "output_type": "display_data"
    },
    {
     "data": {
      "image/png": "[encoded data removed]",
      "text/plain": [
       "<Figure size 402.375x360 with 1 Axes>"
      ]
     },
     "metadata": {
      "needs_background": "light"
     },
     "output_type": "display_data"
    },
    {
     "data": {
      "image/png": "[encoded data removed]",
      "text/plain": [
       "<Figure size 402.375x360 with 1 Axes>"
      ]
     },
     "metadata": {
      "needs_background": "light"
     },
     "output_type": "display_data"
    },
    {
     "data": {
      "image/png": "[encoded data removed]",
      "text/plain": [
       "<Figure size 402.375x360 with 1 Axes>"
      ]
     },
     "metadata": {
      "needs_background": "light"
     },
     "output_type": "display_data"
    },
    {
     "data": {
      "image/png": "[encoded data removed]",
      "text/plain": [
       "<Figure size 402.375x360 with 1 Axes>"
      ]
     },
     "metadata": {
      "needs_background": "light"
     },
     "output_type": "display_data"
    },
    {
     "data": {
      "image/png": "[encoded data removed]",
      "text/plain": [
       "<Figure size 402.375x360 with 1 Axes>"
      ]
     },
     "metadata": {
      "needs_background": "light"
     },
     "output_type": "display_data"
    }
   ],
   "source": [
    "for col in numerical_df:\n",
    "    power = PowerTransformer(method='yeo-johnson', standardize=True)\n",
    "    numerical_powertrans = power.fit_transform(numerical_df[[col]])\n",
    "\n",
    "    sns.displot(numerical_powertrans).set(title=col)\n",
    "    plt.show()"
   ]
  },
  {
   "cell_type": "markdown",
   "id": "a49c9256",
   "metadata": {},
   "source": [
    "- The power transformer so far works the best with most columns. They tend to follow more of a normal distribution than previously.\n",
    "\n",
    "- Monthly_premium_auto still appears to be an issue, with its bimodal distribuion."
   ]
  },
  {
   "cell_type": "code",
   "execution_count": 106,
   "id": "3f287f6a",
   "metadata": {},
   "outputs": [],
   "source": [
    "from sklearn.preprocessing import QuantileTransformer"
   ]
  },
  {
   "cell_type": "code",
   "execution_count": 108,
   "id": "3c706446",
   "metadata": {},
   "outputs": [],
   "source": [
    "def plots(df, var, t):\n",
    "    plt.figure(figsize=(13,5))\n",
    "    plt.subplot(121)\n",
    "    sns.kdeplot(df[var])\n",
    "    plt.title('before' + str(t).split('(')[0])\n",
    "    \n",
    "    plt.subplot(122)\n",
    "    p1 = t.fit_transform(df[[var]]).flatten()\n",
    "    sns.kdeplot(p1)\n",
    "    plt.title('after' + str(t).split('(')[0])"
   ]
  },
  {
   "cell_type": "code",
   "execution_count": 109,
   "id": "8ad53127",
   "metadata": {},
   "outputs": [
    {
     "data": {
      "image/png": "[encoded data removed]",
      "text/plain": [
       "<Figure size 936x360 with 2 Axes>"
      ]
     },
     "metadata": {
      "needs_background": "light"
     },
     "output_type": "display_data"
    },
    {
     "data": {
      "image/png": "[encoded data removed]",
      "text/plain": [
       "<Figure size 936x360 with 2 Axes>"
      ]
     },
     "metadata": {
      "needs_background": "light"
     },
     "output_type": "display_data"
    },
    {
     "data": {
      "image/png": "[encoded data removed]",
      "text/plain": [
       "<Figure size 936x360 with 2 Axes>"
      ]
     },
     "metadata": {
      "needs_background": "light"
     },
     "output_type": "display_data"
    },
    {
     "data": {
      "image/png": "[encoded data removed]",
      "text/plain": [
       "<Figure size 936x360 with 2 Axes>"
      ]
     },
     "metadata": {
      "needs_background": "light"
     },
     "output_type": "display_data"
    },
    {
     "data": {
      "image/png": "[encoded data removed]",
      "text/plain": [
       "<Figure size 936x360 with 2 Axes>"
      ]
     },
     "metadata": {
      "needs_background": "light"
     },
     "output_type": "display_data"
    },
    {
     "data": {
      "image/png": "[encoded data removed]",
      "text/plain": [
       "<Figure size 936x360 with 2 Axes>"
      ]
     },
     "metadata": {
      "needs_background": "light"
     },
     "output_type": "display_data"
    }
   ],
   "source": [
    "for col in numerical_df.columns:\n",
    "    plots(numerical_df, col, QuantileTransformer(output_distribution= 'normal'))"
   ]
  },
  {
   "cell_type": "markdown",
   "id": "9217cf8d",
   "metadata": {},
   "source": [
    "With Quantile transformaion it worked fo the most part.\n",
    "\n",
    "- customer_lifetime value, total_claim_amount, months_since_policy_inception  seem to follow more of Gaussian distiribution\n",
    "\n",
    "\n",
    "- income once again shows itself to be a clearer bimodal distribuion\n",
    "\n",
    "\n",
    "- months since last claim appears to be a bit multimodal. \n",
    "\n",
    "\n",
    "- monthly_premium_auto as well appears to be a bit multimodal\n",
    "\n",
    "\n",
    "Note: perhaps to deal with the income column, as there appears to be a significant amount of values on zero, perhaps its worth cosidering it as a categorical with values such as Income = Yes/No. And studying the dataset from there. And if we want to look closer into income, we could use the rows where the value is Yes and then study the figures, which allows us to exclude the zero values.  "
   ]
  },
  {
   "cell_type": "code",
   "execution_count": null,
   "id": "11873500",
   "metadata": {},
   "outputs": [],
   "source": []
  }
 ],
 "metadata": {
  "kernelspec": {
   "display_name": "Python 3 (ipykernel)",
   "language": "python",
   "name": "python3"
  },
  "language_info": {
   "codemirror_mode": {
    "name": "ipython",
    "version": 3
   },
   "file_extension": ".py",
   "mimetype": "text/x-python",
   "name": "python",
   "nbconvert_exporter": "python",
   "pygments_lexer": "ipython3",
   "version": "3.7.11"
  }
 },
 "nbformat": 4,
 "nbformat_minor": 5
}
